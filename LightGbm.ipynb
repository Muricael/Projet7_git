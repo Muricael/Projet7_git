{
 "cells": [
  {
   "cell_type": "code",
   "execution_count": 1,
   "metadata": {},
   "outputs": [],
   "source": [
    "import numpy as np\n",
    "import pandas as pd\n",
    "import time\n",
    "import matplotlib.pyplot as plt\n",
    "import seaborn as sns\n",
    "\n",
    "from sklearn.metrics import roc_auc_score, confusion_matrix, make_scorer, accuracy_score\n",
    "from sklearn.model_selection import train_test_split\n",
    "from sklearn.ensemble import RandomForestClassifier\n",
    "from sklearn.dummy import DummyClassifier\n",
    "from sklearn.model_selection import GridSearchCV\n",
    "from sklearn.pipeline import Pipeline\n",
    "\n",
    "import xgboost as xgb\n",
    "from xgboost import XGBClassifier\n",
    "import lightgbm as lgb\n",
    "\n",
    "from imblearn.pipeline import make_pipeline\n",
    "from imblearn.pipeline import Pipeline as imPipeline\n",
    "from imblearn.over_sampling import SMOTE\n",
    "\n",
    "from joblib import dump, load\n",
    "import mlflow\n",
    "import dagshub"
   ]
  },
  {
   "cell_type": "code",
   "execution_count": 2,
   "metadata": {},
   "outputs": [
    {
     "data": {
      "text/html": [
       "<pre style=\"white-space:pre;overflow-x:auto;line-height:normal;font-family:Menlo,'DejaVu Sans Mono',consolas,'Courier New',monospace\">Repository initialized!\n",
       "</pre>\n"
      ],
      "text/plain": [
       "Repository initialized!\n"
      ]
     },
     "metadata": {},
     "output_type": "display_data"
    }
   ],
   "source": [
    "dagshub.init(\"Projet7\", \"alexandre\", mlflow=True)"
   ]
  },
  {
   "cell_type": "code",
   "execution_count": 3,
   "metadata": {},
   "outputs": [],
   "source": [
    "mlflow.set_tracking_uri(\"https://dagshub.com/alexandre/Projet7.mlflow\")"
   ]
  },
  {
   "cell_type": "code",
   "execution_count": 4,
   "metadata": {},
   "outputs": [
    {
     "data": {
      "text/plain": [
       "<Experiment: artifact_location='mlflow-artifacts:/187e727dd9bc40fba99274f5c4d207d3', creation_time=1692258841367, experiment_id='2', last_update_time=1692258841367, lifecycle_stage='active', name='LightGbm', tags={}>"
      ]
     },
     "execution_count": 4,
     "metadata": {},
     "output_type": "execute_result"
    }
   ],
   "source": [
    "mlflow.set_experiment(\"LightGbm\")"
   ]
  },
  {
   "cell_type": "code",
   "execution_count": 5,
   "metadata": {},
   "outputs": [],
   "source": [
    "# Chargement de base de données\n",
    "df = pd.read_csv(\"../Data/Processed/fichier_LGBM.csv\", index_col=\"SK_ID_CURR\")"
   ]
  },
  {
   "cell_type": "code",
   "execution_count": 6,
   "metadata": {},
   "outputs": [
    {
     "data": {
      "text/html": [
       "<div>\n",
       "<style scoped>\n",
       "    .dataframe tbody tr th:only-of-type {\n",
       "        vertical-align: middle;\n",
       "    }\n",
       "\n",
       "    .dataframe tbody tr th {\n",
       "        vertical-align: top;\n",
       "    }\n",
       "\n",
       "    .dataframe thead th {\n",
       "        text-align: right;\n",
       "    }\n",
       "</style>\n",
       "<table border=\"1\" class=\"dataframe\">\n",
       "  <thead>\n",
       "    <tr style=\"text-align: right;\">\n",
       "      <th></th>\n",
       "      <th>PAYMENT_RATE</th>\n",
       "      <th>EXT_SOURCE_1</th>\n",
       "      <th>EXT_SOURCE_3</th>\n",
       "      <th>EXT_SOURCE_2</th>\n",
       "      <th>DAYS_BIRTH</th>\n",
       "      <th>DAYS_EMPLOYED</th>\n",
       "      <th>AMT_ANNUITY</th>\n",
       "      <th>DAYS_ID_PUBLISH</th>\n",
       "      <th>AMT_GOODS_PRICE</th>\n",
       "      <th>AMT_CREDIT</th>\n",
       "      <th>TARGET</th>\n",
       "    </tr>\n",
       "    <tr>\n",
       "      <th>SK_ID_CURR</th>\n",
       "      <th></th>\n",
       "      <th></th>\n",
       "      <th></th>\n",
       "      <th></th>\n",
       "      <th></th>\n",
       "      <th></th>\n",
       "      <th></th>\n",
       "      <th></th>\n",
       "      <th></th>\n",
       "      <th></th>\n",
       "      <th></th>\n",
       "    </tr>\n",
       "  </thead>\n",
       "  <tbody>\n",
       "    <tr>\n",
       "      <th>100002</th>\n",
       "      <td>0.060749</td>\n",
       "      <td>0.083037</td>\n",
       "      <td>0.139376</td>\n",
       "      <td>0.262949</td>\n",
       "      <td>-9461</td>\n",
       "      <td>-637.0</td>\n",
       "      <td>24700.5</td>\n",
       "      <td>-2120</td>\n",
       "      <td>351000.0</td>\n",
       "      <td>406597.5</td>\n",
       "      <td>1.0</td>\n",
       "    </tr>\n",
       "    <tr>\n",
       "      <th>100003</th>\n",
       "      <td>0.027598</td>\n",
       "      <td>0.311267</td>\n",
       "      <td>0.509353</td>\n",
       "      <td>0.622246</td>\n",
       "      <td>-16765</td>\n",
       "      <td>-1188.0</td>\n",
       "      <td>35698.5</td>\n",
       "      <td>-291</td>\n",
       "      <td>1129500.0</td>\n",
       "      <td>1293502.5</td>\n",
       "      <td>0.0</td>\n",
       "    </tr>\n",
       "    <tr>\n",
       "      <th>100004</th>\n",
       "      <td>0.050000</td>\n",
       "      <td>0.501964</td>\n",
       "      <td>0.729567</td>\n",
       "      <td>0.555912</td>\n",
       "      <td>-19046</td>\n",
       "      <td>-225.0</td>\n",
       "      <td>6750.0</td>\n",
       "      <td>-2531</td>\n",
       "      <td>135000.0</td>\n",
       "      <td>135000.0</td>\n",
       "      <td>0.0</td>\n",
       "    </tr>\n",
       "    <tr>\n",
       "      <th>100006</th>\n",
       "      <td>0.094941</td>\n",
       "      <td>0.501964</td>\n",
       "      <td>0.509353</td>\n",
       "      <td>0.650442</td>\n",
       "      <td>-19005</td>\n",
       "      <td>-3039.0</td>\n",
       "      <td>29686.5</td>\n",
       "      <td>-2437</td>\n",
       "      <td>297000.0</td>\n",
       "      <td>312682.5</td>\n",
       "      <td>0.0</td>\n",
       "    </tr>\n",
       "    <tr>\n",
       "      <th>100007</th>\n",
       "      <td>0.042623</td>\n",
       "      <td>0.501964</td>\n",
       "      <td>0.509353</td>\n",
       "      <td>0.322738</td>\n",
       "      <td>-19932</td>\n",
       "      <td>-3038.0</td>\n",
       "      <td>21865.5</td>\n",
       "      <td>-3458</td>\n",
       "      <td>513000.0</td>\n",
       "      <td>513000.0</td>\n",
       "      <td>0.0</td>\n",
       "    </tr>\n",
       "  </tbody>\n",
       "</table>\n",
       "</div>"
      ],
      "text/plain": [
       "            PAYMENT_RATE  EXT_SOURCE_1  EXT_SOURCE_3  EXT_SOURCE_2  \\\n",
       "SK_ID_CURR                                                           \n",
       "100002          0.060749      0.083037      0.139376      0.262949   \n",
       "100003          0.027598      0.311267      0.509353      0.622246   \n",
       "100004          0.050000      0.501964      0.729567      0.555912   \n",
       "100006          0.094941      0.501964      0.509353      0.650442   \n",
       "100007          0.042623      0.501964      0.509353      0.322738   \n",
       "\n",
       "            DAYS_BIRTH  DAYS_EMPLOYED  AMT_ANNUITY  DAYS_ID_PUBLISH  \\\n",
       "SK_ID_CURR                                                            \n",
       "100002           -9461         -637.0      24700.5            -2120   \n",
       "100003          -16765        -1188.0      35698.5             -291   \n",
       "100004          -19046         -225.0       6750.0            -2531   \n",
       "100006          -19005        -3039.0      29686.5            -2437   \n",
       "100007          -19932        -3038.0      21865.5            -3458   \n",
       "\n",
       "            AMT_GOODS_PRICE  AMT_CREDIT  TARGET  \n",
       "SK_ID_CURR                                       \n",
       "100002             351000.0    406597.5     1.0  \n",
       "100003            1129500.0   1293502.5     0.0  \n",
       "100004             135000.0    135000.0     0.0  \n",
       "100006             297000.0    312682.5     0.0  \n",
       "100007             513000.0    513000.0     0.0  "
      ]
     },
     "execution_count": 6,
     "metadata": {},
     "output_type": "execute_result"
    }
   ],
   "source": [
    "df.head()"
   ]
  },
  {
   "cell_type": "code",
   "execution_count": 7,
   "metadata": {},
   "outputs": [],
   "source": [
    "# Définir la fonction de perte personnalisée\n",
    "def custom_loss(y_true, y_pred):\n",
    "    cm = confusion_matrix(y_true, y_pred)\n",
    "    fn_weight = 10.0  # poids pour les faux négatifs\n",
    "    fp_weight = 10.0  # poids pour les faux positifs\n",
    "    return cm[0, 1] * fp_weight + cm[1, 0] * fn_weight"
   ]
  },
  {
   "cell_type": "code",
   "execution_count": 8,
   "metadata": {},
   "outputs": [],
   "source": [
    "# Fonction d'évaluation\n",
    "custom_scorer = make_scorer(custom_loss, greater_is_better=False)"
   ]
  },
  {
   "cell_type": "code",
   "execution_count": 9,
   "metadata": {},
   "outputs": [],
   "source": [
    "# Séparer les données d'entraînement et de test\n",
    "train_test_data = df.dropna(subset=[\"TARGET\"])\n",
    "X = train_test_data.drop(columns=[\"TARGET\"])\n",
    "y = train_test_data[\"TARGET\"]\n",
    "X_train, X_test, y_train, y_test = train_test_split(\n",
    "    X, y, test_size=0.2, random_state=42\n",
    ")"
   ]
  },
  {
   "cell_type": "code",
   "execution_count": 10,
   "metadata": {},
   "outputs": [
    {
     "name": "stderr",
     "output_type": "stream",
     "text": [
      "c:\\Users\\arken\\anaconda3\\lib\\site-packages\\_distutils_hack\\__init__.py:33: UserWarning: Setuptools is replacing distutils.\n",
      "  warnings.warn(\"Setuptools is replacing distutils.\")\n"
     ]
    }
   ],
   "source": [
    "# Initialiser le DummyClassifier\n",
    "dummy_clf = DummyClassifier(\n",
    "    strategy=\"most_frequent\"\n",
    ")  # ou une autre stratégie de votre choix\n",
    "\n",
    "# Former le modèle avec les données d'entraînement\n",
    "dummy_clf.fit(X_train, y_train)\n",
    "\n",
    "# Prédire avec le DummyClassifier\n",
    "y_pred_dummy = dummy_clf.predict(X_test)\n",
    "\n",
    "# Calculer les métriques pour le DummyClassifier\n",
    "roc_auc_dummy = roc_auc_score(y_test, y_pred_dummy)\n",
    "cm_dummy = confusion_matrix(y_test, y_pred_dummy)\n",
    "\n",
    "# Enregistrement de la matrice de confusion pour le DummyClassifier\n",
    "path_cm_dummy = \"Divers/confusion_matrix_lgbm_dummy.txt\"\n",
    "with open(path_cm_dummy, \"w\") as f:\n",
    "    f.write(str(cm_dummy))\n",
    "\n",
    "# Début de l'exécution MLflow pour le modèle Dummy\n",
    "with mlflow.start_run(run_name=\"Dummy_LGBM\") as run:\n",
    "    # Enregistrer les métriques pour le DummyClassifier\n",
    "    mlflow.log_metric(\"roc_auc_dummy\", roc_auc_dummy)\n",
    "\n",
    "    # Enregistrer la matrice de confusion en tant qu'artefact\n",
    "    mlflow.log_artifact(path_cm_dummy)\n",
    "\n",
    "    # Enregistrer le modèle DummyClassifier\n",
    "    mlflow.sklearn.log_model(dummy_clf, \"dummy_model\")"
   ]
  },
  {
   "cell_type": "code",
   "execution_count": 11,
   "metadata": {},
   "outputs": [
    {
     "name": "stdout",
     "output_type": "stream",
     "text": [
      "ROC AUC = 0.5\n",
      "[[56502     0]\n",
      " [ 4992     0]]\n"
     ]
    }
   ],
   "source": [
    "print(\"ROC AUC =\", roc_auc_dummy)\n",
    "print(cm_dummy)"
   ]
  },
  {
   "cell_type": "code",
   "execution_count": 12,
   "metadata": {},
   "outputs": [
    {
     "ename": "PicklingError",
     "evalue": "Could not pickle the task to send it to the workers.",
     "output_type": "error",
     "traceback": [
      "\u001b[1;31m---------------------------------------------------------------------------\u001b[0m",
      "\u001b[1;31m_RemoteTraceback\u001b[0m                          Traceback (most recent call last)",
      "\u001b[1;31m_RemoteTraceback\u001b[0m: \n\"\"\"\nTraceback (most recent call last):\n  File \"c:\\Users\\arken\\anaconda3\\lib\\site-packages\\joblib\\externals\\loky\\backend\\queues.py\", line 125, in _feed\n    obj_ = dumps(obj, reducers=reducers)\n  File \"c:\\Users\\arken\\anaconda3\\lib\\site-packages\\joblib\\externals\\loky\\backend\\reduction.py\", line 211, in dumps\n    dump(obj, buf, reducers=reducers, protocol=protocol)\n  File \"c:\\Users\\arken\\anaconda3\\lib\\site-packages\\joblib\\externals\\loky\\backend\\reduction.py\", line 204, in dump\n    _LokyPickler(file, reducers=reducers, protocol=protocol).dump(obj)\n  File \"c:\\Users\\arken\\anaconda3\\lib\\site-packages\\joblib\\externals\\cloudpickle\\cloudpickle_fast.py\", line 632, in dump\n    return Pickler.dump(self, obj)\n  File \"c:\\Users\\arken\\anaconda3\\lib\\site-packages\\joblib\\_memmapping_reducer.py\", line 446, in __call__\n    for dumped_filename in dump(a, filename):\n  File \"c:\\Users\\arken\\anaconda3\\lib\\site-packages\\joblib\\numpy_pickle.py\", line 553, in dump\n    NumpyPickler(f, protocol=protocol).dump(value)\n  File \"c:\\Users\\arken\\anaconda3\\lib\\pickle.py\", line 487, in dump\n    self.save(obj)\n  File \"c:\\Users\\arken\\anaconda3\\lib\\site-packages\\joblib\\numpy_pickle.py\", line 352, in save\n    wrapper.write_array(obj, self)\n  File \"c:\\Users\\arken\\anaconda3\\lib\\site-packages\\joblib\\numpy_pickle.py\", line 134, in write_array\n    pickler.file_handle.write(chunk.tobytes('C'))\nOSError: [Errno 28] No space left on device\n\"\"\"",
      "\nThe above exception was the direct cause of the following exception:\n",
      "\u001b[1;31mPicklingError\u001b[0m                             Traceback (most recent call last)",
      "\u001b[1;32mc:\\Users\\arken\\Documents\\OPENCLASSROOM\\PROJET 7\\projet7_git\\LightGbm.ipynb Cell 12\u001b[0m line \u001b[0;36m2\n\u001b[0;32m     <a href='vscode-notebook-cell:/c%3A/Users/arken/Documents/OPENCLASSROOM/PROJET%207/projet7_git/LightGbm.ipynb#X14sZmlsZQ%3D%3D?line=18'>19</a>\u001b[0m grid_search_lgb \u001b[39m=\u001b[39m GridSearchCV(\n\u001b[0;32m     <a href='vscode-notebook-cell:/c%3A/Users/arken/Documents/OPENCLASSROOM/PROJET%207/projet7_git/LightGbm.ipynb#X14sZmlsZQ%3D%3D?line=19'>20</a>\u001b[0m     estimator\u001b[39m=\u001b[39mpipeline_lgb,\n\u001b[0;32m     <a href='vscode-notebook-cell:/c%3A/Users/arken/Documents/OPENCLASSROOM/PROJET%207/projet7_git/LightGbm.ipynb#X14sZmlsZQ%3D%3D?line=20'>21</a>\u001b[0m     param_grid\u001b[39m=\u001b[39mparam_grid_lgb,\n\u001b[1;32m   (...)\u001b[0m\n\u001b[0;32m     <a href='vscode-notebook-cell:/c%3A/Users/arken/Documents/OPENCLASSROOM/PROJET%207/projet7_git/LightGbm.ipynb#X14sZmlsZQ%3D%3D?line=23'>24</a>\u001b[0m     n_jobs\u001b[39m=\u001b[39m\u001b[39m-\u001b[39m\u001b[39m1\u001b[39m,\n\u001b[0;32m     <a href='vscode-notebook-cell:/c%3A/Users/arken/Documents/OPENCLASSROOM/PROJET%207/projet7_git/LightGbm.ipynb#X14sZmlsZQ%3D%3D?line=24'>25</a>\u001b[0m )\n\u001b[0;32m     <a href='vscode-notebook-cell:/c%3A/Users/arken/Documents/OPENCLASSROOM/PROJET%207/projet7_git/LightGbm.ipynb#X14sZmlsZQ%3D%3D?line=26'>27</a>\u001b[0m \u001b[39m# Adapter le modèle avec LightGBM\u001b[39;00m\n\u001b[1;32m---> <a href='vscode-notebook-cell:/c%3A/Users/arken/Documents/OPENCLASSROOM/PROJET%207/projet7_git/LightGbm.ipynb#X14sZmlsZQ%3D%3D?line=27'>28</a>\u001b[0m grid_search_lgb\u001b[39m.\u001b[39;49mfit(X_train, y_train)\n\u001b[0;32m     <a href='vscode-notebook-cell:/c%3A/Users/arken/Documents/OPENCLASSROOM/PROJET%207/projet7_git/LightGbm.ipynb#X14sZmlsZQ%3D%3D?line=29'>30</a>\u001b[0m \u001b[39m# Prédire sur l'ensemble de test\u001b[39;00m\n\u001b[0;32m     <a href='vscode-notebook-cell:/c%3A/Users/arken/Documents/OPENCLASSROOM/PROJET%207/projet7_git/LightGbm.ipynb#X14sZmlsZQ%3D%3D?line=30'>31</a>\u001b[0m y_pred_lgb \u001b[39m=\u001b[39m grid_search_lgb\u001b[39m.\u001b[39mpredict(X_test)\n",
      "File \u001b[1;32mc:\\Users\\arken\\anaconda3\\lib\\site-packages\\sklearn\\base.py:1151\u001b[0m, in \u001b[0;36m_fit_context.<locals>.decorator.<locals>.wrapper\u001b[1;34m(estimator, *args, **kwargs)\u001b[0m\n\u001b[0;32m   1144\u001b[0m     estimator\u001b[39m.\u001b[39m_validate_params()\n\u001b[0;32m   1146\u001b[0m \u001b[39mwith\u001b[39;00m config_context(\n\u001b[0;32m   1147\u001b[0m     skip_parameter_validation\u001b[39m=\u001b[39m(\n\u001b[0;32m   1148\u001b[0m         prefer_skip_nested_validation \u001b[39mor\u001b[39;00m global_skip_validation\n\u001b[0;32m   1149\u001b[0m     )\n\u001b[0;32m   1150\u001b[0m ):\n\u001b[1;32m-> 1151\u001b[0m     \u001b[39mreturn\u001b[39;00m fit_method(estimator, \u001b[39m*\u001b[39margs, \u001b[39m*\u001b[39m\u001b[39m*\u001b[39mkwargs)\n",
      "File \u001b[1;32mc:\\Users\\arken\\anaconda3\\lib\\site-packages\\sklearn\\model_selection\\_search.py:898\u001b[0m, in \u001b[0;36mBaseSearchCV.fit\u001b[1;34m(self, X, y, groups, **fit_params)\u001b[0m\n\u001b[0;32m    892\u001b[0m     results \u001b[39m=\u001b[39m \u001b[39mself\u001b[39m\u001b[39m.\u001b[39m_format_results(\n\u001b[0;32m    893\u001b[0m         all_candidate_params, n_splits, all_out, all_more_results\n\u001b[0;32m    894\u001b[0m     )\n\u001b[0;32m    896\u001b[0m     \u001b[39mreturn\u001b[39;00m results\n\u001b[1;32m--> 898\u001b[0m \u001b[39mself\u001b[39;49m\u001b[39m.\u001b[39;49m_run_search(evaluate_candidates)\n\u001b[0;32m    900\u001b[0m \u001b[39m# multimetric is determined here because in the case of a callable\u001b[39;00m\n\u001b[0;32m    901\u001b[0m \u001b[39m# self.scoring the return type is only known after calling\u001b[39;00m\n\u001b[0;32m    902\u001b[0m first_test_score \u001b[39m=\u001b[39m all_out[\u001b[39m0\u001b[39m][\u001b[39m\"\u001b[39m\u001b[39mtest_scores\u001b[39m\u001b[39m\"\u001b[39m]\n",
      "File \u001b[1;32mc:\\Users\\arken\\anaconda3\\lib\\site-packages\\sklearn\\model_selection\\_search.py:1419\u001b[0m, in \u001b[0;36mGridSearchCV._run_search\u001b[1;34m(self, evaluate_candidates)\u001b[0m\n\u001b[0;32m   1417\u001b[0m \u001b[39mdef\u001b[39;00m \u001b[39m_run_search\u001b[39m(\u001b[39mself\u001b[39m, evaluate_candidates):\n\u001b[0;32m   1418\u001b[0m \u001b[39m    \u001b[39m\u001b[39m\"\"\"Search all candidates in param_grid\"\"\"\u001b[39;00m\n\u001b[1;32m-> 1419\u001b[0m     evaluate_candidates(ParameterGrid(\u001b[39mself\u001b[39;49m\u001b[39m.\u001b[39;49mparam_grid))\n",
      "File \u001b[1;32mc:\\Users\\arken\\anaconda3\\lib\\site-packages\\sklearn\\model_selection\\_search.py:845\u001b[0m, in \u001b[0;36mBaseSearchCV.fit.<locals>.evaluate_candidates\u001b[1;34m(candidate_params, cv, more_results)\u001b[0m\n\u001b[0;32m    837\u001b[0m \u001b[39mif\u001b[39;00m \u001b[39mself\u001b[39m\u001b[39m.\u001b[39mverbose \u001b[39m>\u001b[39m \u001b[39m0\u001b[39m:\n\u001b[0;32m    838\u001b[0m     \u001b[39mprint\u001b[39m(\n\u001b[0;32m    839\u001b[0m         \u001b[39m\"\u001b[39m\u001b[39mFitting \u001b[39m\u001b[39m{0}\u001b[39;00m\u001b[39m folds for each of \u001b[39m\u001b[39m{1}\u001b[39;00m\u001b[39m candidates,\u001b[39m\u001b[39m\"\u001b[39m\n\u001b[0;32m    840\u001b[0m         \u001b[39m\"\u001b[39m\u001b[39m totalling \u001b[39m\u001b[39m{2}\u001b[39;00m\u001b[39m fits\u001b[39m\u001b[39m\"\u001b[39m\u001b[39m.\u001b[39mformat(\n\u001b[0;32m    841\u001b[0m             n_splits, n_candidates, n_candidates \u001b[39m*\u001b[39m n_splits\n\u001b[0;32m    842\u001b[0m         )\n\u001b[0;32m    843\u001b[0m     )\n\u001b[1;32m--> 845\u001b[0m out \u001b[39m=\u001b[39m parallel(\n\u001b[0;32m    846\u001b[0m     delayed(_fit_and_score)(\n\u001b[0;32m    847\u001b[0m         clone(base_estimator),\n\u001b[0;32m    848\u001b[0m         X,\n\u001b[0;32m    849\u001b[0m         y,\n\u001b[0;32m    850\u001b[0m         train\u001b[39m=\u001b[39;49mtrain,\n\u001b[0;32m    851\u001b[0m         test\u001b[39m=\u001b[39;49mtest,\n\u001b[0;32m    852\u001b[0m         parameters\u001b[39m=\u001b[39;49mparameters,\n\u001b[0;32m    853\u001b[0m         split_progress\u001b[39m=\u001b[39;49m(split_idx, n_splits),\n\u001b[0;32m    854\u001b[0m         candidate_progress\u001b[39m=\u001b[39;49m(cand_idx, n_candidates),\n\u001b[0;32m    855\u001b[0m         \u001b[39m*\u001b[39;49m\u001b[39m*\u001b[39;49mfit_and_score_kwargs,\n\u001b[0;32m    856\u001b[0m     )\n\u001b[0;32m    857\u001b[0m     \u001b[39mfor\u001b[39;49;00m (cand_idx, parameters), (split_idx, (train, test)) \u001b[39min\u001b[39;49;00m product(\n\u001b[0;32m    858\u001b[0m         \u001b[39menumerate\u001b[39;49m(candidate_params), \u001b[39menumerate\u001b[39;49m(cv\u001b[39m.\u001b[39;49msplit(X, y, groups))\n\u001b[0;32m    859\u001b[0m     )\n\u001b[0;32m    860\u001b[0m )\n\u001b[0;32m    862\u001b[0m \u001b[39mif\u001b[39;00m \u001b[39mlen\u001b[39m(out) \u001b[39m<\u001b[39m \u001b[39m1\u001b[39m:\n\u001b[0;32m    863\u001b[0m     \u001b[39mraise\u001b[39;00m \u001b[39mValueError\u001b[39;00m(\n\u001b[0;32m    864\u001b[0m         \u001b[39m\"\u001b[39m\u001b[39mNo fits were performed. \u001b[39m\u001b[39m\"\u001b[39m\n\u001b[0;32m    865\u001b[0m         \u001b[39m\"\u001b[39m\u001b[39mWas the CV iterator empty? \u001b[39m\u001b[39m\"\u001b[39m\n\u001b[0;32m    866\u001b[0m         \u001b[39m\"\u001b[39m\u001b[39mWere there no candidates?\u001b[39m\u001b[39m\"\u001b[39m\n\u001b[0;32m    867\u001b[0m     )\n",
      "File \u001b[1;32mc:\\Users\\arken\\anaconda3\\lib\\site-packages\\sklearn\\utils\\parallel.py:65\u001b[0m, in \u001b[0;36mParallel.__call__\u001b[1;34m(self, iterable)\u001b[0m\n\u001b[0;32m     60\u001b[0m config \u001b[39m=\u001b[39m get_config()\n\u001b[0;32m     61\u001b[0m iterable_with_config \u001b[39m=\u001b[39m (\n\u001b[0;32m     62\u001b[0m     (_with_config(delayed_func, config), args, kwargs)\n\u001b[0;32m     63\u001b[0m     \u001b[39mfor\u001b[39;00m delayed_func, args, kwargs \u001b[39min\u001b[39;00m iterable\n\u001b[0;32m     64\u001b[0m )\n\u001b[1;32m---> 65\u001b[0m \u001b[39mreturn\u001b[39;00m \u001b[39msuper\u001b[39;49m()\u001b[39m.\u001b[39;49m\u001b[39m__call__\u001b[39;49m(iterable_with_config)\n",
      "File \u001b[1;32mc:\\Users\\arken\\anaconda3\\lib\\site-packages\\joblib\\parallel.py:1098\u001b[0m, in \u001b[0;36mParallel.__call__\u001b[1;34m(self, iterable)\u001b[0m\n\u001b[0;32m   1095\u001b[0m     \u001b[39mself\u001b[39m\u001b[39m.\u001b[39m_iterating \u001b[39m=\u001b[39m \u001b[39mFalse\u001b[39;00m\n\u001b[0;32m   1097\u001b[0m \u001b[39mwith\u001b[39;00m \u001b[39mself\u001b[39m\u001b[39m.\u001b[39m_backend\u001b[39m.\u001b[39mretrieval_context():\n\u001b[1;32m-> 1098\u001b[0m     \u001b[39mself\u001b[39;49m\u001b[39m.\u001b[39;49mretrieve()\n\u001b[0;32m   1099\u001b[0m \u001b[39m# Make sure that we get a last message telling us we are done\u001b[39;00m\n\u001b[0;32m   1100\u001b[0m elapsed_time \u001b[39m=\u001b[39m time\u001b[39m.\u001b[39mtime() \u001b[39m-\u001b[39m \u001b[39mself\u001b[39m\u001b[39m.\u001b[39m_start_time\n",
      "File \u001b[1;32mc:\\Users\\arken\\anaconda3\\lib\\site-packages\\joblib\\parallel.py:975\u001b[0m, in \u001b[0;36mParallel.retrieve\u001b[1;34m(self)\u001b[0m\n\u001b[0;32m    973\u001b[0m \u001b[39mtry\u001b[39;00m:\n\u001b[0;32m    974\u001b[0m     \u001b[39mif\u001b[39;00m \u001b[39mgetattr\u001b[39m(\u001b[39mself\u001b[39m\u001b[39m.\u001b[39m_backend, \u001b[39m'\u001b[39m\u001b[39msupports_timeout\u001b[39m\u001b[39m'\u001b[39m, \u001b[39mFalse\u001b[39;00m):\n\u001b[1;32m--> 975\u001b[0m         \u001b[39mself\u001b[39m\u001b[39m.\u001b[39m_output\u001b[39m.\u001b[39mextend(job\u001b[39m.\u001b[39;49mget(timeout\u001b[39m=\u001b[39;49m\u001b[39mself\u001b[39;49m\u001b[39m.\u001b[39;49mtimeout))\n\u001b[0;32m    976\u001b[0m     \u001b[39melse\u001b[39;00m:\n\u001b[0;32m    977\u001b[0m         \u001b[39mself\u001b[39m\u001b[39m.\u001b[39m_output\u001b[39m.\u001b[39mextend(job\u001b[39m.\u001b[39mget())\n",
      "File \u001b[1;32mc:\\Users\\arken\\anaconda3\\lib\\site-packages\\joblib\\_parallel_backends.py:567\u001b[0m, in \u001b[0;36mLokyBackend.wrap_future_result\u001b[1;34m(future, timeout)\u001b[0m\n\u001b[0;32m    564\u001b[0m \u001b[39m\u001b[39m\u001b[39m\"\"\"Wrapper for Future.result to implement the same behaviour as\u001b[39;00m\n\u001b[0;32m    565\u001b[0m \u001b[39mAsyncResults.get from multiprocessing.\"\"\"\u001b[39;00m\n\u001b[0;32m    566\u001b[0m \u001b[39mtry\u001b[39;00m:\n\u001b[1;32m--> 567\u001b[0m     \u001b[39mreturn\u001b[39;00m future\u001b[39m.\u001b[39;49mresult(timeout\u001b[39m=\u001b[39;49mtimeout)\n\u001b[0;32m    568\u001b[0m \u001b[39mexcept\u001b[39;00m CfTimeoutError \u001b[39mas\u001b[39;00m e:\n\u001b[0;32m    569\u001b[0m     \u001b[39mraise\u001b[39;00m \u001b[39mTimeoutError\u001b[39;00m \u001b[39mfrom\u001b[39;00m \u001b[39me\u001b[39;00m\n",
      "File \u001b[1;32mc:\\Users\\arken\\anaconda3\\lib\\concurrent\\futures\\_base.py:451\u001b[0m, in \u001b[0;36mFuture.result\u001b[1;34m(self, timeout)\u001b[0m\n\u001b[0;32m    449\u001b[0m     \u001b[39mraise\u001b[39;00m CancelledError()\n\u001b[0;32m    450\u001b[0m \u001b[39melif\u001b[39;00m \u001b[39mself\u001b[39m\u001b[39m.\u001b[39m_state \u001b[39m==\u001b[39m FINISHED:\n\u001b[1;32m--> 451\u001b[0m     \u001b[39mreturn\u001b[39;00m \u001b[39mself\u001b[39;49m\u001b[39m.\u001b[39;49m__get_result()\n\u001b[0;32m    453\u001b[0m \u001b[39mself\u001b[39m\u001b[39m.\u001b[39m_condition\u001b[39m.\u001b[39mwait(timeout)\n\u001b[0;32m    455\u001b[0m \u001b[39mif\u001b[39;00m \u001b[39mself\u001b[39m\u001b[39m.\u001b[39m_state \u001b[39min\u001b[39;00m [CANCELLED, CANCELLED_AND_NOTIFIED]:\n",
      "File \u001b[1;32mc:\\Users\\arken\\anaconda3\\lib\\concurrent\\futures\\_base.py:403\u001b[0m, in \u001b[0;36mFuture.__get_result\u001b[1;34m(self)\u001b[0m\n\u001b[0;32m    401\u001b[0m \u001b[39mif\u001b[39;00m \u001b[39mself\u001b[39m\u001b[39m.\u001b[39m_exception:\n\u001b[0;32m    402\u001b[0m     \u001b[39mtry\u001b[39;00m:\n\u001b[1;32m--> 403\u001b[0m         \u001b[39mraise\u001b[39;00m \u001b[39mself\u001b[39m\u001b[39m.\u001b[39m_exception\n\u001b[0;32m    404\u001b[0m     \u001b[39mfinally\u001b[39;00m:\n\u001b[0;32m    405\u001b[0m         \u001b[39m# Break a reference cycle with the exception in self._exception\u001b[39;00m\n\u001b[0;32m    406\u001b[0m         \u001b[39mself\u001b[39m \u001b[39m=\u001b[39m \u001b[39mNone\u001b[39;00m\n",
      "\u001b[1;31mPicklingError\u001b[0m: Could not pickle the task to send it to the workers."
     ]
    }
   ],
   "source": [
    "# Créer un modèle LightGBM\n",
    "model_lgb = lgb.LGBMClassifier()\n",
    "\n",
    "# Utilisation d'imPipeline pour inclure SMOTE\n",
    "pipeline_lgb = imPipeline([(\"smote\", SMOTE()), (\"lgb\", model_lgb)])\n",
    "\n",
    "# Paramètres à tester pour le LightGBM\n",
    "param_grid_lgb = {\n",
    "    \"lgb__n_estimators\": [65, 70, 80, 100],\n",
    "    \"lgb__max_depth\": [8, 10, 12, 15, 17, 20],\n",
    "    \"lgb__learning_rate\": [0.1],\n",
    "    \"lgb__num_leaves\": [10, 15, 20, 30],\n",
    "    \"lgb__objective\": [\"binary\"],\n",
    "    \"lgb__boosting_type\": [\"gbdt\"],\n",
    "    \"lgb__random_state\": [42],\n",
    "}\n",
    "\n",
    "# Création du GridSearch pour le LightGBM\n",
    "grid_search_lgb = GridSearchCV(\n",
    "    estimator=pipeline_lgb,\n",
    "    param_grid=param_grid_lgb,\n",
    "    scoring=custom_scorer,\n",
    "    cv=3,\n",
    "    n_jobs=-1,\n",
    ")\n",
    "\n",
    "# Adapter le modèle avec LightGBM\n",
    "grid_search_lgb.fit(X_train, y_train)\n",
    "\n",
    "# Prédire sur l'ensemble de test\n",
    "y_pred_lgb = grid_search_lgb.predict(X_test)\n",
    "\n",
    "# Calculer les métriques pour LightGBM\n",
    "roc_auc = roc_auc_score(y_test, y_pred_lgb)\n",
    "accuracy = accuracy_score(y_test, y_pred_lgb)\n",
    "score_matrix = custom_loss(y_test, y_pred_lgb)\n",
    "cm_lgb = confusion_matrix(y_test, y_pred_lgb)"
   ]
  },
  {
   "cell_type": "code",
   "execution_count": null,
   "metadata": {},
   "outputs": [],
   "source": [
    "print(\"ROC AUC: \", roc_auc)\n",
    "print(\"ACCURACY: \", accuracy)\n",
    "print(\"SCORE MATRIX: \", score_matrix)\n",
    "print(cm_lgb)"
   ]
  },
  {
   "cell_type": "code",
   "execution_count": null,
   "metadata": {},
   "outputs": [],
   "source": [
    "cm_lgb"
   ]
  },
  {
   "cell_type": "code",
   "execution_count": null,
   "metadata": {},
   "outputs": [],
   "source": [
    "grid_search_lgb.best_estimator_.named_steps[\"lgb\"].get_params()"
   ]
  },
  {
   "cell_type": "code",
   "execution_count": null,
   "metadata": {},
   "outputs": [],
   "source": [
    "with open(\"Divers/confusion_matrix_lgbm.txt\", \"w\") as f:\n",
    "    f.write(str(cm_lgb))\n",
    "\n",
    "\n",
    "# Démarrez une nouvelle exécution MLflow\n",
    "with mlflow.start_run(run_name=\"LightGbm\") as run:\n",
    "    # Enregistrement des métriques dans MLflow\n",
    "    mlflow.log_metric(\"ROC AUC Score\", roc_auc)\n",
    "    mlflow.log_metric(\"ACCURACY\", accuracy)\n",
    "    mlflow.log_metric(\"SCORE MATRIX\", score_matrix)\n",
    "\n",
    "    mlflow.log_artifact(\"Divers/confusion_matrix_lgbm.txt\")\n",
    "\n",
    "    # Enregistrer les paramètres\n",
    "    mlflow.log_params(grid_search_lgb.best_estimator_.named_steps[\"lgb\"].get_params())\n",
    "\n",
    "    # Enregistrement du modèle formé dans MLflow\n",
    "    mlflow.sklearn.log_model(grid_search_lgb.best_estimator_, \"LightGbm\")"
   ]
  },
  {
   "cell_type": "code",
   "execution_count": null,
   "metadata": {},
   "outputs": [],
   "source": [
    "def draw_gauge(auc_score):\n",
    "    # Normaliser le score entre 0 et 1\n",
    "    normalized_score = auc_score / 100\n",
    "\n",
    "    # Créer un axe polar\n",
    "    fig, ax = plt.subplots(figsize=(6, 3), subplot_kw={\"polar\": True})\n",
    "\n",
    "    # Dessiner l'arc de la jauge (demi-cercle supérieur)\n",
    "    arc = np.linspace(0, np.pi, 100)\n",
    "    r = np.full(100, 0.6)\n",
    "    ax.plot(arc, r, color=\"blue\", linewidth=15)\n",
    "\n",
    "    # Dessiner l'aiguille de la jauge\n",
    "    theta = np.pi - normalized_score * 0.5 * np.pi\n",
    "    ax.plot([theta, theta], [0, 0.6], color=\"red\", linewidth=2)\n",
    "\n",
    "    # Marquer le score sur l'aiguille\n",
    "    ax.text(theta, 0.7, f\"{auc_score:.2f}%\", color=\"red\", ha=\"center\", va=\"center\")\n",
    "\n",
    "    # Configurer les angles et étiquettes en pourcentage\n",
    "    ax.set_theta_zero_location(\"W\")\n",
    "    ax.set_theta_direction(-1)\n",
    "    ax.set_xticks(np.radians([0, 45, 90, 135, 180]))\n",
    "    ax.set_xticklabels([\"0%\", \"25%\", \"50%\", \"75%\", \"100%\"])\n",
    "\n",
    "    # Supprimer les rayons et les étiquettes radiales\n",
    "    ax.set_yticks([])\n",
    "    ax.set_yticklabels([])\n",
    "\n",
    "    # Supprimer les lignes radiales\n",
    "    ax.grid(False)\n",
    "\n",
    "    # Réduire la vue au demi-cercle\n",
    "    ax.set_ylim([0, 0.6])\n",
    "    ax.set_xlim([0, np.pi])\n",
    "    ax.set_title(\"PERFORMANCE DU MODELE LIGHTLGB\", va=\"bottom\")\n",
    "    fig.savefig(\"Divers/jauge_Random_Forest.png\")\n",
    "\n",
    "    plt.show()\n",
    "\n",
    "\n",
    "auc_score = roc_auc * 100\n",
    "draw_gauge(auc_score)"
   ]
  }
 ],
 "metadata": {
  "kernelspec": {
   "display_name": "mon_projet7_env",
   "language": "python",
   "name": "python3"
  },
  "language_info": {
   "codemirror_mode": {
    "name": "ipython",
    "version": 3
   },
   "file_extension": ".py",
   "mimetype": "text/x-python",
   "name": "python",
   "nbconvert_exporter": "python",
   "pygments_lexer": "ipython3",
   "version": "3.10.9"
  },
  "orig_nbformat": 4
 },
 "nbformat": 4,
 "nbformat_minor": 2
}
