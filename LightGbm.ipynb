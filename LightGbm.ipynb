{
 "cells": [
  {
   "cell_type": "code",
   "execution_count": 1,
   "metadata": {},
   "outputs": [],
   "source": [
    "import numpy as np\n",
    "import pandas as pd\n",
    "import time\n",
    "import matplotlib.pyplot as plt\n",
    "import seaborn as sns\n",
    "\n",
    "from sklearn.metrics import roc_auc_score, confusion_matrix, make_scorer, accuracy_score\n",
    "from sklearn.model_selection import train_test_split\n",
    "from sklearn.ensemble import RandomForestClassifier\n",
    "from sklearn.dummy import DummyClassifier\n",
    "from sklearn.model_selection import GridSearchCV\n",
    "from sklearn.pipeline import Pipeline\n",
    "\n",
    "import xgboost as xgb\n",
    "from xgboost import XGBClassifier\n",
    "import lightgbm as lgb\n",
    "\n",
    "from imblearn.pipeline import make_pipeline\n",
    "from imblearn.pipeline import Pipeline as imPipeline\n",
    "from imblearn.over_sampling import SMOTE\n",
    "\n",
    "from joblib import dump, load\n",
    "import mlflow\n",
    "import dagshub"
   ]
  },
  {
   "cell_type": "code",
   "execution_count": 2,
   "metadata": {},
   "outputs": [
    {
     "data": {
      "text/html": [
       "<pre style=\"white-space:pre;overflow-x:auto;line-height:normal;font-family:Menlo,'DejaVu Sans Mono',consolas,'Courier New',monospace\">Repository initialized!\n",
       "</pre>\n"
      ],
      "text/plain": [
       "Repository initialized!\n"
      ]
     },
     "metadata": {},
     "output_type": "display_data"
    }
   ],
   "source": [
    "dagshub.init(\"Projet7\", \"alexandre\", mlflow=True)"
   ]
  },
  {
   "cell_type": "code",
   "execution_count": 3,
   "metadata": {},
   "outputs": [],
   "source": [
    "mlflow.set_tracking_uri(\"https://dagshub.com/alexandre/Projet7.mlflow\")"
   ]
  },
  {
   "cell_type": "code",
   "execution_count": 4,
   "metadata": {},
   "outputs": [
    {
     "data": {
      "text/plain": [
       "<Experiment: artifact_location='mlflow-artifacts:/187e727dd9bc40fba99274f5c4d207d3', creation_time=1692258841367, experiment_id='2', last_update_time=1692258841367, lifecycle_stage='active', name='LightGbm', tags={}>"
      ]
     },
     "execution_count": 4,
     "metadata": {},
     "output_type": "execute_result"
    }
   ],
   "source": [
    "mlflow.set_experiment(\"LightGbm\")"
   ]
  },
  {
   "cell_type": "code",
   "execution_count": 5,
   "metadata": {},
   "outputs": [],
   "source": [
    "# Chargement de base de données\n",
    "df = pd.read_csv(\"../Data/Processed/fichier_LGBM.csv\", index_col=\"SK_ID_CURR\")"
   ]
  },
  {
   "cell_type": "code",
   "execution_count": 6,
   "metadata": {},
   "outputs": [
    {
     "data": {
      "text/html": [
       "<div>\n",
       "<style scoped>\n",
       "    .dataframe tbody tr th:only-of-type {\n",
       "        vertical-align: middle;\n",
       "    }\n",
       "\n",
       "    .dataframe tbody tr th {\n",
       "        vertical-align: top;\n",
       "    }\n",
       "\n",
       "    .dataframe thead th {\n",
       "        text-align: right;\n",
       "    }\n",
       "</style>\n",
       "<table border=\"1\" class=\"dataframe\">\n",
       "  <thead>\n",
       "    <tr style=\"text-align: right;\">\n",
       "      <th></th>\n",
       "      <th>PAYMENT_RATE</th>\n",
       "      <th>EXT_SOURCE_1</th>\n",
       "      <th>EXT_SOURCE_3</th>\n",
       "      <th>EXT_SOURCE_2</th>\n",
       "      <th>DAYS_BIRTH</th>\n",
       "      <th>DAYS_EMPLOYED</th>\n",
       "      <th>AMT_ANNUITY</th>\n",
       "      <th>DAYS_ID_PUBLISH</th>\n",
       "      <th>AMT_GOODS_PRICE</th>\n",
       "      <th>AMT_CREDIT</th>\n",
       "      <th>TARGET</th>\n",
       "    </tr>\n",
       "    <tr>\n",
       "      <th>SK_ID_CURR</th>\n",
       "      <th></th>\n",
       "      <th></th>\n",
       "      <th></th>\n",
       "      <th></th>\n",
       "      <th></th>\n",
       "      <th></th>\n",
       "      <th></th>\n",
       "      <th></th>\n",
       "      <th></th>\n",
       "      <th></th>\n",
       "      <th></th>\n",
       "    </tr>\n",
       "  </thead>\n",
       "  <tbody>\n",
       "    <tr>\n",
       "      <th>100002</th>\n",
       "      <td>0.060749</td>\n",
       "      <td>0.083037</td>\n",
       "      <td>0.139376</td>\n",
       "      <td>0.262949</td>\n",
       "      <td>-9461</td>\n",
       "      <td>-637.0</td>\n",
       "      <td>24700.5</td>\n",
       "      <td>-2120</td>\n",
       "      <td>351000.0</td>\n",
       "      <td>406597.5</td>\n",
       "      <td>1.0</td>\n",
       "    </tr>\n",
       "    <tr>\n",
       "      <th>100003</th>\n",
       "      <td>0.027598</td>\n",
       "      <td>0.311267</td>\n",
       "      <td>0.509353</td>\n",
       "      <td>0.622246</td>\n",
       "      <td>-16765</td>\n",
       "      <td>-1188.0</td>\n",
       "      <td>35698.5</td>\n",
       "      <td>-291</td>\n",
       "      <td>1129500.0</td>\n",
       "      <td>1293502.5</td>\n",
       "      <td>0.0</td>\n",
       "    </tr>\n",
       "    <tr>\n",
       "      <th>100004</th>\n",
       "      <td>0.050000</td>\n",
       "      <td>0.501964</td>\n",
       "      <td>0.729567</td>\n",
       "      <td>0.555912</td>\n",
       "      <td>-19046</td>\n",
       "      <td>-225.0</td>\n",
       "      <td>6750.0</td>\n",
       "      <td>-2531</td>\n",
       "      <td>135000.0</td>\n",
       "      <td>135000.0</td>\n",
       "      <td>0.0</td>\n",
       "    </tr>\n",
       "    <tr>\n",
       "      <th>100006</th>\n",
       "      <td>0.094941</td>\n",
       "      <td>0.501964</td>\n",
       "      <td>0.509353</td>\n",
       "      <td>0.650442</td>\n",
       "      <td>-19005</td>\n",
       "      <td>-3039.0</td>\n",
       "      <td>29686.5</td>\n",
       "      <td>-2437</td>\n",
       "      <td>297000.0</td>\n",
       "      <td>312682.5</td>\n",
       "      <td>0.0</td>\n",
       "    </tr>\n",
       "    <tr>\n",
       "      <th>100007</th>\n",
       "      <td>0.042623</td>\n",
       "      <td>0.501964</td>\n",
       "      <td>0.509353</td>\n",
       "      <td>0.322738</td>\n",
       "      <td>-19932</td>\n",
       "      <td>-3038.0</td>\n",
       "      <td>21865.5</td>\n",
       "      <td>-3458</td>\n",
       "      <td>513000.0</td>\n",
       "      <td>513000.0</td>\n",
       "      <td>0.0</td>\n",
       "    </tr>\n",
       "  </tbody>\n",
       "</table>\n",
       "</div>"
      ],
      "text/plain": [
       "            PAYMENT_RATE  EXT_SOURCE_1  EXT_SOURCE_3  EXT_SOURCE_2  \\\n",
       "SK_ID_CURR                                                           \n",
       "100002          0.060749      0.083037      0.139376      0.262949   \n",
       "100003          0.027598      0.311267      0.509353      0.622246   \n",
       "100004          0.050000      0.501964      0.729567      0.555912   \n",
       "100006          0.094941      0.501964      0.509353      0.650442   \n",
       "100007          0.042623      0.501964      0.509353      0.322738   \n",
       "\n",
       "            DAYS_BIRTH  DAYS_EMPLOYED  AMT_ANNUITY  DAYS_ID_PUBLISH  \\\n",
       "SK_ID_CURR                                                            \n",
       "100002           -9461         -637.0      24700.5            -2120   \n",
       "100003          -16765        -1188.0      35698.5             -291   \n",
       "100004          -19046         -225.0       6750.0            -2531   \n",
       "100006          -19005        -3039.0      29686.5            -2437   \n",
       "100007          -19932        -3038.0      21865.5            -3458   \n",
       "\n",
       "            AMT_GOODS_PRICE  AMT_CREDIT  TARGET  \n",
       "SK_ID_CURR                                       \n",
       "100002             351000.0    406597.5     1.0  \n",
       "100003            1129500.0   1293502.5     0.0  \n",
       "100004             135000.0    135000.0     0.0  \n",
       "100006             297000.0    312682.5     0.0  \n",
       "100007             513000.0    513000.0     0.0  "
      ]
     },
     "execution_count": 6,
     "metadata": {},
     "output_type": "execute_result"
    }
   ],
   "source": [
    "df.head()"
   ]
  },
  {
   "cell_type": "code",
   "execution_count": 7,
   "metadata": {},
   "outputs": [],
   "source": [
    "# Définir la fonction de perte personnalisée\n",
    "def custom_loss(y_true, y_pred):\n",
    "    cm = confusion_matrix(y_true, y_pred)\n",
    "    fn_weight = 10.0  # poids pour les faux négatifs\n",
    "    fp_weight = 10.0  # poids pour les faux positifs\n",
    "    return cm[0, 1] * fp_weight + cm[1, 0] * fn_weight"
   ]
  },
  {
   "cell_type": "code",
   "execution_count": 8,
   "metadata": {},
   "outputs": [],
   "source": [
    "# Fonction d'évaluation\n",
    "custom_scorer = make_scorer(custom_loss, greater_is_better=False)"
   ]
  },
  {
   "cell_type": "code",
   "execution_count": 9,
   "metadata": {},
   "outputs": [],
   "source": [
    "# Séparer les données d'entraînement et de test\n",
    "train_test_data = df.dropna(subset=[\"TARGET\"])\n",
    "X = train_test_data.drop(columns=[\"TARGET\"])\n",
    "y = train_test_data[\"TARGET\"]\n",
    "X_train, X_test, y_train, y_test = train_test_split(\n",
    "    X, y, test_size=0.2, random_state=42\n",
    ")"
   ]
  },
  {
   "cell_type": "code",
   "execution_count": 10,
   "metadata": {},
   "outputs": [
    {
     "name": "stderr",
     "output_type": "stream",
     "text": [
      "c:\\Users\\arken\\anaconda3\\lib\\site-packages\\_distutils_hack\\__init__.py:33: UserWarning: Setuptools is replacing distutils.\n",
      "  warnings.warn(\"Setuptools is replacing distutils.\")\n"
     ]
    }
   ],
   "source": [
    "# Initialiser le DummyClassifier\n",
    "dummy_clf = DummyClassifier(\n",
    "    strategy=\"most_frequent\"\n",
    ")  # ou une autre stratégie de votre choix\n",
    "\n",
    "# Former le modèle avec les données d'entraînement\n",
    "dummy_clf.fit(X_train, y_train)\n",
    "\n",
    "# Prédire avec le DummyClassifier\n",
    "y_pred_dummy = dummy_clf.predict(X_test)\n",
    "\n",
    "# Calculer les métriques pour le DummyClassifier\n",
    "roc_auc_dummy = roc_auc_score(y_test, y_pred_dummy)\n",
    "cm_dummy = confusion_matrix(y_test, y_pred_dummy)\n",
    "\n",
    "# Enregistrement de la matrice de confusion pour le DummyClassifier\n",
    "path_cm_dummy = \"Divers/confusion_matrix_lgbm_dummy.txt\"\n",
    "with open(path_cm_dummy, \"w\") as f:\n",
    "    f.write(str(cm_dummy))\n",
    "\n",
    "# Début de l'exécution MLflow pour le modèle Dummy\n",
    "with mlflow.start_run(run_name=\"Dummy_LGBM\") as run:\n",
    "    # Enregistrer les métriques pour le DummyClassifier\n",
    "    mlflow.log_metric(\"roc_auc_dummy\", roc_auc_dummy)\n",
    "\n",
    "    # Enregistrer la matrice de confusion en tant qu'artefact\n",
    "    mlflow.log_artifact(path_cm_dummy)\n",
    "\n",
    "    # Enregistrer le modèle DummyClassifier\n",
    "    mlflow.sklearn.log_model(dummy_clf, \"dummy_model\")"
   ]
  },
  {
   "cell_type": "code",
   "execution_count": 11,
   "metadata": {},
   "outputs": [
    {
     "name": "stdout",
     "output_type": "stream",
     "text": [
      "ROC AUC = 0.5\n",
      "[[56502     0]\n",
      " [ 4992     0]]\n"
     ]
    }
   ],
   "source": [
    "print(\"ROC AUC =\", roc_auc_dummy)\n",
    "print(cm_dummy)"
   ]
  },
  {
   "cell_type": "code",
   "execution_count": 12,
   "metadata": {},
   "outputs": [
    {
     "name": "stdout",
     "output_type": "stream",
     "text": [
      "[LightGBM] [Info] Number of positive: 226145, number of negative: 226145\n",
      "[LightGBM] [Warning] Auto-choosing col-wise multi-threading, the overhead of testing was 0.021156 seconds.\n",
      "You can set `force_col_wise=true` to remove the overhead.\n",
      "[LightGBM] [Info] Total Bins 2550\n",
      "[LightGBM] [Info] Number of data points in the train set: 452290, number of used features: 10\n",
      "[LightGBM] [Info] [binary:BoostFromScore]: pavg=0.500000 -> initscore=0.000000\n"
     ]
    }
   ],
   "source": [
    "# Créer un modèle LightGBM\n",
    "model_lgb = lgb.LGBMClassifier()\n",
    "\n",
    "# Utilisation d'imPipeline pour inclure SMOTE\n",
    "pipeline_lgb = imPipeline([(\"smote\", SMOTE()), (\"lgb\", model_lgb)])\n",
    "\n",
    "# Paramètres à tester pour le LightGBM\n",
    "param_grid_lgb = {\n",
    "    \"lgb__n_estimators\": [65, 70, 80, 100],\n",
    "    \"lgb__max_depth\": [8, 10, 12, 15, 17, 20],\n",
    "    \"lgb__learning_rate\": [0.1],\n",
    "    \"lgb__num_leaves\": [10, 15, 20, 30],\n",
    "    \"lgb__objective\": [\"binary\"],\n",
    "    \"lgb__boosting_type\": [\"gbdt\"],\n",
    "    \"lgb__random_state\": [42],\n",
    "}\n",
    "\n",
    "# Création du GridSearch pour le LightGBM\n",
    "grid_search_lgb = GridSearchCV(\n",
    "    estimator=pipeline_lgb,\n",
    "    param_grid=param_grid_lgb,\n",
    "    scoring=custom_scorer,\n",
    "    cv=3,\n",
    "    n_jobs=-1,\n",
    ")\n",
    "\n",
    "# Adapter le modèle avec LightGBM\n",
    "grid_search_lgb.fit(X_train, y_train)\n",
    "\n",
    "# Prédire sur l'ensemble de test\n",
    "y_pred_lgb = grid_search_lgb.predict(X_test)\n",
    "\n",
    "# Calculer les métriques pour LightGBM\n",
    "roc_auc = roc_auc_score(y_test, y_pred_lgb)\n",
    "accuracy = accuracy_score(y_test, y_pred_lgb)\n",
    "score_matrix = custom_loss(y_test, y_pred_lgb)\n",
    "cm_lgb = confusion_matrix(y_test, y_pred_lgb)"
   ]
  },
  {
   "cell_type": "code",
   "execution_count": 13,
   "metadata": {},
   "outputs": [
    {
     "name": "stdout",
     "output_type": "stream",
     "text": [
      "ROC AUC:  0.6232031886039432\n",
      "ACCURACY:  0.7503984128532865\n",
      "SCORE MATRIX:  153490.0\n",
      "[[43792 12710]\n",
      " [ 2639  2353]]\n"
     ]
    }
   ],
   "source": [
    "print(\"ROC AUC: \", roc_auc)\n",
    "print(\"ACCURACY: \", accuracy)\n",
    "print(\"SCORE MATRIX: \", score_matrix)\n",
    "print(cm_lgb)"
   ]
  },
  {
   "cell_type": "code",
   "execution_count": 14,
   "metadata": {},
   "outputs": [
    {
     "data": {
      "text/plain": [
       "array([[43792, 12710],\n",
       "       [ 2639,  2353]], dtype=int64)"
      ]
     },
     "execution_count": 14,
     "metadata": {},
     "output_type": "execute_result"
    }
   ],
   "source": [
    "cm_lgb"
   ]
  },
  {
   "cell_type": "code",
   "execution_count": 15,
   "metadata": {},
   "outputs": [
    {
     "data": {
      "text/plain": [
       "{'boosting_type': 'gbdt',\n",
       " 'class_weight': None,\n",
       " 'colsample_bytree': 1.0,\n",
       " 'importance_type': 'split',\n",
       " 'learning_rate': 0.1,\n",
       " 'max_depth': 15,\n",
       " 'min_child_samples': 20,\n",
       " 'min_child_weight': 0.001,\n",
       " 'min_split_gain': 0.0,\n",
       " 'n_estimators': 100,\n",
       " 'n_jobs': None,\n",
       " 'num_leaves': 30,\n",
       " 'objective': 'binary',\n",
       " 'random_state': 42,\n",
       " 'reg_alpha': 0.0,\n",
       " 'reg_lambda': 0.0,\n",
       " 'subsample': 1.0,\n",
       " 'subsample_for_bin': 200000,\n",
       " 'subsample_freq': 0}"
      ]
     },
     "execution_count": 15,
     "metadata": {},
     "output_type": "execute_result"
    }
   ],
   "source": [
    "grid_search_lgb.best_estimator_.named_steps[\"lgb\"].get_params()"
   ]
  },
  {
   "cell_type": "code",
   "execution_count": 16,
   "metadata": {},
   "outputs": [],
   "source": [
    "with open(\"Divers/confusion_matrix_lgbm.txt\", \"w\") as f:\n",
    "    f.write(str(cm_lgb))\n",
    "\n",
    "\n",
    "# Démarrez une nouvelle exécution MLflow\n",
    "with mlflow.start_run(run_name=\"LightGbm\") as run:\n",
    "    # Enregistrement des métriques dans MLflow\n",
    "    mlflow.log_metric(\"ROC AUC Score\", roc_auc)\n",
    "    mlflow.log_metric(\"ACCURACY\", accuracy)\n",
    "    mlflow.log_metric(\"SCORE MATRIX\", score_matrix)\n",
    "\n",
    "    mlflow.log_artifact(\"Divers/confusion_matrix_lgbm.txt\")\n",
    "\n",
    "    # Enregistrer les paramètres\n",
    "    mlflow.log_params(grid_search_lgb.best_estimator_.named_steps[\"lgb\"].get_params())\n",
    "\n",
    "    # Enregistrement du modèle formé dans MLflow\n",
    "    mlflow.sklearn.log_model(grid_search_lgb.best_estimator_, \"LightGbm\")"
   ]
  },
  {
   "cell_type": "code",
   "execution_count": 17,
   "metadata": {},
   "outputs": [
    {
     "data": {
      "image/png": "[encoded data removed]",
      "text/plain": [
       "<Figure size 600x300 with 1 Axes>"
      ]
     },
     "metadata": {},
     "output_type": "display_data"
    }
   ],
   "source": [
    "def draw_gauge(auc_score):\n",
    "    # Normaliser le score entre 0 et 1\n",
    "    normalized_score = auc_score / 100\n",
    "\n",
    "    # Créer un axe polar\n",
    "    fig, ax = plt.subplots(figsize=(6, 3), subplot_kw={\"polar\": True})\n",
    "\n",
    "    # Dessiner l'arc de la jauge (demi-cercle supérieur)\n",
    "    arc = np.linspace(0, np.pi, 100)\n",
    "    r = np.full(100, 0.6)\n",
    "    ax.plot(arc, r, color=\"blue\", linewidth=15)\n",
    "\n",
    "    # Dessiner l'aiguille de la jauge\n",
    "    theta = np.pi - normalized_score * 0.5 * np.pi\n",
    "    ax.plot([theta, theta], [0, 0.6], color=\"red\", linewidth=2)\n",
    "\n",
    "    # Marquer le score sur l'aiguille\n",
    "    ax.text(theta, 0.7, f\"{auc_score:.2f}%\", color=\"red\", ha=\"center\", va=\"center\")\n",
    "\n",
    "    # Configurer les angles et étiquettes en pourcentage\n",
    "    ax.set_theta_zero_location(\"W\")\n",
    "    ax.set_theta_direction(-1)\n",
    "    ax.set_xticks(np.radians([0, 45, 90, 135, 180]))\n",
    "    ax.set_xticklabels([\"0%\", \"25%\", \"50%\", \"75%\", \"100%\"])\n",
    "\n",
    "    # Supprimer les rayons et les étiquettes radiales\n",
    "    ax.set_yticks([])\n",
    "    ax.set_yticklabels([])\n",
    "\n",
    "    # Supprimer les lignes radiales\n",
    "    ax.grid(False)\n",
    "\n",
    "    # Réduire la vue au demi-cercle\n",
    "    ax.set_ylim([0, 0.6])\n",
    "    ax.set_xlim([0, np.pi])\n",
    "    ax.set_title(\"PERFORMANCE DU MODELE LIGHTLGB\", va=\"bottom\")\n",
    "    fig.savefig(\"Divers/jauge_Random_Forest.png\")\n",
    "\n",
    "    plt.show()\n",
    "\n",
    "\n",
    "auc_score = roc_auc * 100\n",
    "draw_gauge(auc_score)"
   ]
  }
 ],
 "metadata": {
  "kernelspec": {
   "display_name": "mon_projet7_env",
   "language": "python",
   "name": "python3"
  },
  "language_info": {
   "codemirror_mode": {
    "name": "ipython",
    "version": 3
   },
   "file_extension": ".py",
   "mimetype": "text/x-python",
   "name": "python",
   "nbconvert_exporter": "python",
   "pygments_lexer": "ipython3",
   "version": "3.10.9"
  },
  "orig_nbformat": 4
 },
 "nbformat": 4,
 "nbformat_minor": 2
}
