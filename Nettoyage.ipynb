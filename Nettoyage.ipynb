{
 "cells": [
  {
   "cell_type": "markdown",
   "metadata": {},
   "source": [
    "CREATION DU FICHIER ORIGINAL"
   ]
  },
  {
   "cell_type": "code",
   "execution_count": 1,
   "metadata": {},
   "outputs": [],
   "source": [
    "import numpy as np\n",
    "import pandas as pd\n",
    "import matplotlib.pyplot as plt\n",
    "import seaborn as sns\n",
    "\n",
    "import gc\n",
    "import re\n",
    "import time\n",
    "from contextlib import contextmanager\n",
    "import warnings\n",
    "\n",
    "warnings.simplefilter(action=\"ignore\", category=FutureWarning)\n",
    "\n",
    "import xgboost as xgb\n",
    "from xgboost import XGBClassifier\n",
    "\n",
    "import lightgbm as lgb\n",
    "from lightgbm import LGBMClassifier\n",
    "\n",
    "from sklearn.linear_model import LogisticRegression\n",
    "from sklearn.impute import KNNImputer\n",
    "from sklearn.ensemble import RandomForestClassifier"
   ]
  },
  {
   "cell_type": "code",
   "execution_count": 2,
   "metadata": {},
   "outputs": [],
   "source": [
    "@contextmanager\n",
    "def timer(title):\n",
    "    t0 = time.time()\n",
    "    yield\n",
    "    print(\"{} - done in {:.0f}s\".format(title, time.time() - t0))\n",
    "\n",
    "\n",
    "# One-hot encoding for categorical columns with get_dummies\n",
    "def one_hot_encoder(df, nan_as_category=False, k=5):\n",
    "    original_columns = list(df.columns)\n",
    "    categorical_columns = [col for col in df.columns if df[col].dtype == \"object\"]\n",
    "    df = pd.get_dummies(df, columns=categorical_columns, dummy_na=nan_as_category)\n",
    "    new_columns = [c for c in df.columns if c not in original_columns]\n",
    "\n",
    "    # Utiliser KNNImputer uniquement sur les nouvelles colonnes\n",
    "    if df[new_columns].isnull().sum().sum() > 0:\n",
    "        imputer = KNNImputer(n_neighbors=k)\n",
    "        df[new_columns] = imputer.fit_transform(df[new_columns])\n",
    "\n",
    "    return df, new_columns"
   ]
  },
  {
   "cell_type": "code",
   "execution_count": 3,
   "metadata": {},
   "outputs": [],
   "source": [
    "# Preprocess application_train.csv and application_test.csv\n",
    "def application_train_test(num_rows=None, nan_as_category=True):\n",
    "    # Read data and merge\n",
    "    df = pd.read_csv(\"../Data/Raw/application_train.csv\", nrows=num_rows)\n",
    "    test_df = pd.read_csv(\"../Data/Raw/application_test.csv\", nrows=num_rows)\n",
    "    print(\"Train samples: {}, test samples: {}\".format(len(df), len(test_df)))\n",
    "    df = df.append(test_df).reset_index()\n",
    "    # Optional: Remove 4 applications with XNA CODE_GENDER (train set)\n",
    "    df = df[df[\"CODE_GENDER\"] != \"XNA\"]\n",
    "\n",
    "    # Categorical features with Binary encode (0 or 1; two categories)\n",
    "    for bin_feature in [\"CODE_GENDER\", \"FLAG_OWN_CAR\", \"FLAG_OWN_REALTY\"]:\n",
    "        df[bin_feature], uniques = pd.factorize(df[bin_feature])\n",
    "\n",
    "    # NaN values for DAYS_EMPLOYED: 365.243 -> nan\n",
    "    df[\"DAYS_EMPLOYED\"].replace(365243, np.nan, inplace=True)\n",
    "\n",
    "    if df[\"TARGET\"].isna().any():\n",
    "        # Sélectionner uniquement les colonnes numériques\n",
    "        numeric_cols = df.select_dtypes(include=[\"number\"])\n",
    "\n",
    "        # Exclure la colonne 'TARGET'\n",
    "        numeric_cols = numeric_cols.drop(columns=[\"TARGET\"])\n",
    "\n",
    "        # Remplir les valeurs manquantes dans les colonnes numériques avec la moyenne de chaque colonne\n",
    "        df[numeric_cols.columns] = numeric_cols.apply(\n",
    "            lambda col: col.fillna(col.mean())\n",
    "        )\n",
    "\n",
    "    # Categorical features with One-Hot encode\n",
    "    df, cat_cols = one_hot_encoder(df, nan_as_category)\n",
    "\n",
    "    # Some simple new features (percentages)\n",
    "    df[\"DAYS_EMPLOYED_PERC\"] = df[\"DAYS_EMPLOYED\"] / df[\"DAYS_BIRTH\"]\n",
    "    df[\"INCOME_CREDIT_PERC\"] = df[\"AMT_INCOME_TOTAL\"] / df[\"AMT_CREDIT\"]\n",
    "    df[\"INCOME_PER_PERSON\"] = df[\"AMT_INCOME_TOTAL\"] / df[\"CNT_FAM_MEMBERS\"]\n",
    "    df[\"ANNUITY_INCOME_PERC\"] = df[\"AMT_ANNUITY\"] / df[\"AMT_INCOME_TOTAL\"]\n",
    "    df[\"PAYMENT_RATE\"] = df[\"AMT_ANNUITY\"] / df[\"AMT_CREDIT\"]\n",
    "    del test_df\n",
    "    gc.collect()\n",
    "    return df"
   ]
  },
  {
   "cell_type": "code",
   "execution_count": 4,
   "metadata": {},
   "outputs": [],
   "source": [
    "# Preprocess bureau.csv and bureau_balance.csv\n",
    "def bureau_and_balance(num_rows=None, nan_as_category=True):\n",
    "    bureau = pd.read_csv(\"../Data/Raw/bureau.csv\", nrows=num_rows)\n",
    "    bb = pd.read_csv(\"../Data/Raw/bureau_balance.csv\", nrows=num_rows)\n",
    "\n",
    "    threshold = 0.5 * len(bb)\n",
    "    bb = bb.dropna(thresh=threshold, axis=1)\n",
    "    threshold1 = 0.5 * len(bureau)\n",
    "    bureau = bureau.dropna(thresh=threshold1, axis=1)\n",
    "\n",
    "    # Sélectionner uniquement les colonnes numériques\n",
    "    numeric_cols = bureau.select_dtypes(include=[\"number\"])\n",
    "\n",
    "    # Remplir les valeurs manquantes dans les colonnes numériques avec la moyenne de chaque colonne\n",
    "    bureau[numeric_cols.columns] = numeric_cols.apply(\n",
    "        lambda col: col.fillna(col.mean())\n",
    "    )\n",
    "\n",
    "    # Sélectionner uniquement les colonnes numériques\n",
    "    numeric_cols1 = bb.select_dtypes(include=[\"number\"])\n",
    "\n",
    "    # Remplir les valeurs manquantes dans les colonnes numériques avec la moyenne de chaque colonne\n",
    "    bb[numeric_cols1.columns] = numeric_cols1.apply(lambda col: col.fillna(col.mean()))\n",
    "\n",
    "    bb, bb_cat = one_hot_encoder(bb, nan_as_category)\n",
    "    bureau, bureau_cat = one_hot_encoder(bureau, nan_as_category)\n",
    "\n",
    "    # Bureau balance: Perform aggregations and merge with bureau.csv\n",
    "    bb_aggregations = {\"MONTHS_BALANCE\": [\"min\", \"max\", \"size\"]}\n",
    "    for col in bb_cat:\n",
    "        bb_aggregations[col] = [\"mean\"]\n",
    "    bb_agg = bb.groupby(\"SK_ID_BUREAU\").agg(bb_aggregations)\n",
    "    bb_agg.columns = pd.Index(\n",
    "        [e[0] + \"_\" + e[1].upper() for e in bb_agg.columns.tolist()]\n",
    "    )\n",
    "    bureau = bureau.join(bb_agg, how=\"left\", on=\"SK_ID_BUREAU\")\n",
    "    bureau.drop([\"SK_ID_BUREAU\"], axis=1, inplace=True)\n",
    "    del bb, bb_agg\n",
    "    gc.collect()\n",
    "\n",
    "    # Bureau and bureau_balance numeric features\n",
    "    num_aggregations = {\n",
    "        \"DAYS_CREDIT\": [\"min\", \"max\", \"mean\", \"var\"],\n",
    "        \"DAYS_CREDIT_ENDDATE\": [\"min\", \"max\", \"mean\"],\n",
    "        \"DAYS_CREDIT_UPDATE\": [\"mean\"],\n",
    "        \"CREDIT_DAY_OVERDUE\": [\"max\", \"mean\"],\n",
    "        \"AMT_CREDIT_SUM\": [\"max\", \"mean\", \"sum\"],\n",
    "        \"AMT_CREDIT_SUM_DEBT\": [\"max\", \"mean\", \"sum\"],\n",
    "        \"AMT_CREDIT_SUM_OVERDUE\": [\"mean\"],\n",
    "        \"AMT_CREDIT_SUM_LIMIT\": [\"mean\", \"sum\"],\n",
    "        \"CNT_CREDIT_PROLONG\": [\"sum\"],\n",
    "        \"MONTHS_BALANCE_MIN\": [\"min\"],\n",
    "        \"MONTHS_BALANCE_MAX\": [\"max\"],\n",
    "        \"MONTHS_BALANCE_SIZE\": [\"mean\", \"sum\"],\n",
    "    }\n",
    "    # Bureau and bureau_balance categorical features\n",
    "    cat_aggregations = {}\n",
    "    for cat in bureau_cat:\n",
    "        cat_aggregations[cat] = [\"mean\"]\n",
    "    for cat in bb_cat:\n",
    "        cat_aggregations[cat + \"_MEAN\"] = [\"mean\"]\n",
    "\n",
    "    bureau_agg = bureau.groupby(\"SK_ID_CURR\").agg(\n",
    "        {**num_aggregations, **cat_aggregations}\n",
    "    )\n",
    "    bureau_agg.columns = pd.Index(\n",
    "        [\"BURO_\" + e[0] + \"_\" + e[1].upper() for e in bureau_agg.columns.tolist()]\n",
    "    )\n",
    "    # Bureau: Active credits - using only numerical aggregations\n",
    "    active = bureau[bureau[\"CREDIT_ACTIVE_Active\"] == 1]\n",
    "    active_agg = active.groupby(\"SK_ID_CURR\").agg(num_aggregations)\n",
    "    active_agg.columns = pd.Index(\n",
    "        [\"ACTIVE_\" + e[0] + \"_\" + e[1].upper() for e in active_agg.columns.tolist()]\n",
    "    )\n",
    "    bureau_agg = bureau_agg.join(active_agg, how=\"left\", on=\"SK_ID_CURR\")\n",
    "    del active, active_agg\n",
    "    gc.collect()\n",
    "    # Bureau: Closed credits - using only numerical aggregations\n",
    "    closed = bureau[bureau[\"CREDIT_ACTIVE_Closed\"] == 1]\n",
    "    closed_agg = closed.groupby(\"SK_ID_CURR\").agg(num_aggregations)\n",
    "    closed_agg.columns = pd.Index(\n",
    "        [\"CLOSED_\" + e[0] + \"_\" + e[1].upper() for e in closed_agg.columns.tolist()]\n",
    "    )\n",
    "    bureau_agg = bureau_agg.join(closed_agg, how=\"left\", on=\"SK_ID_CURR\")\n",
    "\n",
    "    del closed, closed_agg, bureau\n",
    "    gc.collect()\n",
    "    return bureau_agg"
   ]
  },
  {
   "cell_type": "code",
   "execution_count": 5,
   "metadata": {},
   "outputs": [],
   "source": [
    "# Preprocess previous_applications.csv\n",
    "def previous_applications(num_rows=None, nan_as_category=True):\n",
    "    prev = pd.read_csv(\"../Data/Raw/previous_application.csv\", nrows=num_rows)\n",
    "\n",
    "    threshold = 0.5 * len(prev)\n",
    "    prev = prev.dropna(thresh=threshold, axis=1)\n",
    "\n",
    "    # Sélectionner uniquement les colonnes numériques\n",
    "    numeric_cols = prev.select_dtypes(include=[\"number\"])\n",
    "\n",
    "    # Remplir les valeurs manquantes dans les colonnes numériques avec la moyenne de chaque colonne\n",
    "    prev[numeric_cols.columns] = numeric_cols.apply(lambda col: col.fillna(col.mean()))\n",
    "\n",
    "    prev, cat_cols = one_hot_encoder(prev, nan_as_category=False)\n",
    "    # Days 365.243 values -> nan\n",
    "    prev[\"DAYS_FIRST_DRAWING\"].replace(365243, np.nan, inplace=True)\n",
    "    prev[\"DAYS_FIRST_DUE\"].replace(365243, np.nan, inplace=True)\n",
    "    prev[\"DAYS_LAST_DUE_1ST_VERSION\"].replace(365243, np.nan, inplace=True)\n",
    "    prev[\"DAYS_LAST_DUE\"].replace(365243, np.nan, inplace=True)\n",
    "    prev[\"DAYS_TERMINATION\"].replace(365243, np.nan, inplace=True)\n",
    "    # Add feature: value ask / value received percentage\n",
    "    prev[\"APP_CREDIT_PERC\"] = prev[\"AMT_APPLICATION\"] / prev[\"AMT_CREDIT\"]\n",
    "    # Previous applications numeric features\n",
    "    num_aggregations = {\n",
    "        \"AMT_ANNUITY\": [\"min\", \"max\", \"mean\"],\n",
    "        \"AMT_APPLICATION\": [\"min\", \"max\", \"mean\"],\n",
    "        \"AMT_CREDIT\": [\"min\", \"max\", \"mean\"],\n",
    "        \"APP_CREDIT_PERC\": [\"min\", \"max\", \"mean\", \"var\"],\n",
    "        \"AMT_GOODS_PRICE\": [\"min\", \"max\", \"mean\"],\n",
    "        \"HOUR_APPR_PROCESS_START\": [\"min\", \"max\", \"mean\"],\n",
    "        \"DAYS_DECISION\": [\"min\", \"max\", \"mean\"],\n",
    "        \"CNT_PAYMENT\": [\"mean\", \"sum\"],\n",
    "    }\n",
    "    # Previous applications categorical features\n",
    "    cat_aggregations = {}\n",
    "    for cat in cat_cols:\n",
    "        cat_aggregations[cat] = [\"mean\"]\n",
    "\n",
    "    prev_agg = prev.groupby(\"SK_ID_CURR\").agg({**num_aggregations, **cat_aggregations})\n",
    "    prev_agg.columns = pd.Index(\n",
    "        [\"PREV_\" + e[0] + \"_\" + e[1].upper() for e in prev_agg.columns.tolist()]\n",
    "    )\n",
    "    # Previous Applications: Approved Applications - only numerical features\n",
    "    approved = prev[prev[\"NAME_CONTRACT_STATUS_Approved\"] == 1]\n",
    "    approved_agg = approved.groupby(\"SK_ID_CURR\").agg(num_aggregations)\n",
    "    approved_agg.columns = pd.Index(\n",
    "        [\"APPROVED_\" + e[0] + \"_\" + e[1].upper() for e in approved_agg.columns.tolist()]\n",
    "    )\n",
    "    prev_agg = prev_agg.join(approved_agg, how=\"left\", on=\"SK_ID_CURR\")\n",
    "    # Previous Applications: Refused Applications - only numerical features\n",
    "    refused = prev[prev[\"NAME_CONTRACT_STATUS_Refused\"] == 1]\n",
    "    refused_agg = refused.groupby(\"SK_ID_CURR\").agg(num_aggregations)\n",
    "    refused_agg.columns = pd.Index(\n",
    "        [\"REFUSED_\" + e[0] + \"_\" + e[1].upper() for e in refused_agg.columns.tolist()]\n",
    "    )\n",
    "    prev_agg = prev_agg.join(refused_agg, how=\"left\", on=\"SK_ID_CURR\")\n",
    "    del refused, refused_agg, approved, approved_agg, prev\n",
    "    gc.collect()\n",
    "    return prev_agg"
   ]
  },
  {
   "cell_type": "code",
   "execution_count": 6,
   "metadata": {},
   "outputs": [],
   "source": [
    "# Preprocess POS_CASH_balance.csv\n",
    "def pos_cash(num_rows=None, nan_as_category=True):\n",
    "    pos = pd.read_csv(\"../Data/Raw/POS_CASH_balance.csv\", nrows=num_rows)\n",
    "\n",
    "    threshold = 0.5 * len(pos)\n",
    "    pos = pos.dropna(thresh=threshold, axis=1)\n",
    "\n",
    "    # Sélectionner uniquement les colonnes numériques\n",
    "    numeric_cols = pos.select_dtypes(include=[\"number\"])\n",
    "\n",
    "    # Remplir les valeurs manquantes dans les colonnes numériques avec la moyenne de chaque colonne\n",
    "    pos[numeric_cols.columns] = numeric_cols.apply(lambda col: col.fillna(col.mean()))\n",
    "\n",
    "    pos, cat_cols = one_hot_encoder(pos, nan_as_category=False)\n",
    "    # Features\n",
    "    aggregations = {\n",
    "        \"MONTHS_BALANCE\": [\"max\", \"mean\", \"size\"],\n",
    "        \"SK_DPD\": [\"max\", \"mean\"],\n",
    "        \"SK_DPD_DEF\": [\"max\", \"mean\"],\n",
    "    }\n",
    "    for cat in cat_cols:\n",
    "        aggregations[cat] = [\"mean\"]\n",
    "\n",
    "    pos_agg = pos.groupby(\"SK_ID_CURR\").agg(aggregations)\n",
    "    pos_agg.columns = pd.Index(\n",
    "        [\"POS_\" + e[0] + \"_\" + e[1].upper() for e in pos_agg.columns.tolist()]\n",
    "    )\n",
    "    # Count pos cash accounts\n",
    "    pos_agg[\"POS_COUNT\"] = pos.groupby(\"SK_ID_CURR\").size()\n",
    "    del pos\n",
    "    gc.collect()\n",
    "    return pos_agg"
   ]
  },
  {
   "cell_type": "code",
   "execution_count": 7,
   "metadata": {},
   "outputs": [],
   "source": [
    "# Preprocess installments_payments.csv\n",
    "def installments_payments(num_rows=None, nan_as_category=True):\n",
    "    ins = pd.read_csv(\"../Data/Raw/installments_payments.csv\", nrows=num_rows)\n",
    "\n",
    "    threshold = 0.5 * len(ins)\n",
    "    ins = ins.dropna(thresh=threshold, axis=1)\n",
    "\n",
    "    # Sélectionner uniquement les colonnes numériques\n",
    "    numeric_cols = ins.select_dtypes(include=[\"number\"])\n",
    "\n",
    "    # Remplir les valeurs manquantes dans les colonnes numériques avec la moyenne de chaque colonne\n",
    "    ins[numeric_cols.columns] = numeric_cols.apply(lambda col: col.fillna(col.mean()))\n",
    "\n",
    "    ins, cat_cols = one_hot_encoder(ins, nan_as_category=False)\n",
    "    # Percentage and difference paid in each installment (amount paid and installment value)\n",
    "    ins[\"PAYMENT_PERC\"] = ins[\"AMT_PAYMENT\"] / ins[\"AMT_INSTALMENT\"]\n",
    "    ins[\"PAYMENT_DIFF\"] = ins[\"AMT_INSTALMENT\"] - ins[\"AMT_PAYMENT\"]\n",
    "    # Days past due and days before due (no negative values)\n",
    "    ins[\"DPD\"] = ins[\"DAYS_ENTRY_PAYMENT\"] - ins[\"DAYS_INSTALMENT\"]\n",
    "    ins[\"DBD\"] = ins[\"DAYS_INSTALMENT\"] - ins[\"DAYS_ENTRY_PAYMENT\"]\n",
    "    ins[\"DPD\"] = ins[\"DPD\"].apply(lambda x: x if x > 0 else 0)\n",
    "    ins[\"DBD\"] = ins[\"DBD\"].apply(lambda x: x if x > 0 else 0)\n",
    "    # Features: Perform aggregations\n",
    "    aggregations = {\n",
    "        \"NUM_INSTALMENT_VERSION\": [\"nunique\"],\n",
    "        \"DPD\": [\"max\", \"mean\", \"sum\"],\n",
    "        \"DBD\": [\"max\", \"mean\", \"sum\"],\n",
    "        \"PAYMENT_PERC\": [\"max\", \"mean\", \"sum\", \"var\"],\n",
    "        \"PAYMENT_DIFF\": [\"max\", \"mean\", \"sum\", \"var\"],\n",
    "        \"AMT_INSTALMENT\": [\"max\", \"mean\", \"sum\"],\n",
    "        \"AMT_PAYMENT\": [\"min\", \"max\", \"mean\", \"sum\"],\n",
    "        \"DAYS_ENTRY_PAYMENT\": [\"max\", \"mean\", \"sum\"],\n",
    "    }\n",
    "    for cat in cat_cols:\n",
    "        aggregations[cat] = [\"mean\"]\n",
    "    ins_agg = ins.groupby(\"SK_ID_CURR\").agg(aggregations)\n",
    "    ins_agg.columns = pd.Index(\n",
    "        [\"INSTAL_\" + e[0] + \"_\" + e[1].upper() for e in ins_agg.columns.tolist()]\n",
    "    )\n",
    "    # Count installments accounts\n",
    "    ins_agg[\"INSTAL_COUNT\"] = ins.groupby(\"SK_ID_CURR\").size()\n",
    "    del ins\n",
    "    gc.collect()\n",
    "    return ins_agg"
   ]
  },
  {
   "cell_type": "code",
   "execution_count": 8,
   "metadata": {},
   "outputs": [],
   "source": [
    "# Preprocess credit_card_balance.csv\n",
    "def credit_card_balance(num_rows=None, nan_as_category=True):\n",
    "    cc = pd.read_csv(\"../Data/Raw/credit_card_balance.csv\", nrows=num_rows)\n",
    "\n",
    "    threshold = 0.5 * len(cc)\n",
    "    cc = cc.dropna(thresh=threshold, axis=1)\n",
    "\n",
    "    # Sélectionner uniquement les colonnes numériques\n",
    "    numeric_cols = cc.select_dtypes(include=[\"number\"])\n",
    "\n",
    "    # Remplir les valeurs manquantes dans les colonnes numériques avec la moyenne de chaque colonne\n",
    "    cc[numeric_cols.columns] = numeric_cols.apply(lambda col: col.fillna(col.mean()))\n",
    "\n",
    "    cc, cat_cols = one_hot_encoder(cc, nan_as_category=False)\n",
    "    # General aggregations\n",
    "    cc.drop([\"SK_ID_PREV\"], axis=1, inplace=True)\n",
    "    cc_agg = cc.groupby(\"SK_ID_CURR\").agg([\"min\", \"max\", \"mean\", \"sum\", \"var\"])\n",
    "    cc_agg.columns = pd.Index(\n",
    "        [\"CC_\" + e[0] + \"_\" + e[1].upper() for e in cc_agg.columns.tolist()]\n",
    "    )\n",
    "    # Count credit card lines\n",
    "    cc_agg[\"CC_COUNT\"] = cc.groupby(\"SK_ID_CURR\").size()\n",
    "    del cc\n",
    "    gc.collect()\n",
    "    return cc_agg"
   ]
  },
  {
   "cell_type": "code",
   "execution_count": 9,
   "metadata": {},
   "outputs": [],
   "source": [
    "def main(debug=False):\n",
    "    num_rows = 10000 if debug else None\n",
    "    df = application_train_test(num_rows)\n",
    "    with timer(\"Process bureau and bureau_balance\"):\n",
    "        bureau = bureau_and_balance(num_rows)\n",
    "        print(\"Bureau df shape:\", bureau.shape)\n",
    "        df = df.join(bureau, how=\"left\", on=\"SK_ID_CURR\")\n",
    "        del bureau\n",
    "        gc.collect()\n",
    "    with timer(\"Process previous_applications\"):\n",
    "        prev = previous_applications(num_rows)\n",
    "        print(\"Previous applications df shape:\", prev.shape)\n",
    "        df = df.join(prev, how=\"left\", on=\"SK_ID_CURR\")\n",
    "        del prev\n",
    "        gc.collect()\n",
    "    with timer(\"Process POS-CASH balance\"):\n",
    "        pos = pos_cash(num_rows)\n",
    "        print(\"Pos-cash balance df shape:\", pos.shape)\n",
    "        df = df.join(pos, how=\"left\", on=\"SK_ID_CURR\")\n",
    "        del pos\n",
    "        gc.collect()\n",
    "    with timer(\"Process installments payments\"):\n",
    "        ins = installments_payments(num_rows)\n",
    "        print(\"Installments payments df shape:\", ins.shape)\n",
    "        df = df.join(ins, how=\"left\", on=\"SK_ID_CURR\")\n",
    "        del ins\n",
    "        gc.collect()\n",
    "    with timer(\"Process credit card balance\"):\n",
    "        cc = credit_card_balance(num_rows)\n",
    "        print(\"Credit card balance df shape:\", cc.shape)\n",
    "        df = df.join(cc, how=\"left\", on=\"SK_ID_CURR\")\n",
    "        del cc\n",
    "        gc.collect()\n",
    "    return df"
   ]
  },
  {
   "cell_type": "code",
   "execution_count": 10,
   "metadata": {},
   "outputs": [
    {
     "name": "stdout",
     "output_type": "stream",
     "text": [
      "1.5.3\n"
     ]
    }
   ],
   "source": [
    "print(pd.__version__)"
   ]
  },
  {
   "cell_type": "code",
   "execution_count": 11,
   "metadata": {},
   "outputs": [
    {
     "name": "stdout",
     "output_type": "stream",
     "text": [
      "Train samples: 307511, test samples: 48744\n",
      "Bureau df shape: (305811, 107)\n",
      "Process bureau and bureau_balance - done in 38s\n",
      "Previous applications df shape: (338857, 215)\n",
      "Process previous_applications - done in 39s\n",
      "Pos-cash balance df shape: (337252, 17)\n",
      "Process POS-CASH balance - done in 22s\n",
      "Installments payments df shape: (339587, 26)\n",
      "Process installments payments - done in 46s\n",
      "Credit card balance df shape: (103558, 136)\n",
      "Process credit card balance - done in 27s\n",
      "Full model run - done in 192s\n"
     ]
    }
   ],
   "source": [
    "if __name__ == \"__main__\":\n",
    "    with timer(\"Full model run\"):\n",
    "        # Capture the returned dataframe\n",
    "        df = main()\n",
    "    submission_file_name = \"../Data/Processed/fichier_complet.csv\"\n",
    "    df.to_csv(submission_file_name, index=False)"
   ]
  },
  {
   "cell_type": "code",
   "execution_count": 12,
   "metadata": {},
   "outputs": [
    {
     "data": {
      "text/plain": [
       "0"
      ]
     },
     "execution_count": 12,
     "metadata": {},
     "output_type": "execute_result"
    }
   ],
   "source": [
    "gc.collect()"
   ]
  },
  {
   "cell_type": "markdown",
   "metadata": {},
   "source": [
    "NETTOYAGE FICHIER GLOBAL"
   ]
  },
  {
   "cell_type": "code",
   "execution_count": 13,
   "metadata": {},
   "outputs": [],
   "source": [
    "df1 = pd.read_csv(\"../Data/Processed/fichier_complet.csv\", index_col=\"SK_ID_CURR\")"
   ]
  },
  {
   "cell_type": "code",
   "execution_count": 14,
   "metadata": {},
   "outputs": [],
   "source": [
    "df1 = df1.drop(\"index\", axis=1)"
   ]
  },
  {
   "cell_type": "code",
   "execution_count": 15,
   "metadata": {},
   "outputs": [
    {
     "name": "stdout",
     "output_type": "stream",
     "text": [
      "Minimum de AMT_ANNUITY: 1615.5\n",
      "Maximum de AMT_ANNUITY: 258025.5\n",
      "Minimum de AMT_CREDIT: 45000.0\n",
      "Maximum de AMT_CREDIT: 4050000.0\n"
     ]
    }
   ],
   "source": [
    "min_annuity = df1[\"AMT_ANNUITY\"].min()\n",
    "max_annuity = df1[\"AMT_ANNUITY\"].max()\n",
    "\n",
    "min_credit = df1[\"AMT_CREDIT\"].min()\n",
    "max_credit = df1[\"AMT_CREDIT\"].max()\n",
    "\n",
    "print(f\"Minimum de AMT_ANNUITY: {min_annuity}\")\n",
    "print(f\"Maximum de AMT_ANNUITY: {max_annuity}\")\n",
    "print(f\"Minimum de AMT_CREDIT: {min_credit}\")\n",
    "print(f\"Maximum de AMT_CREDIT: {max_credit}\")"
   ]
  },
  {
   "cell_type": "markdown",
   "metadata": {},
   "source": [
    "NETTOYER VALEURS INFINIES"
   ]
  },
  {
   "cell_type": "code",
   "execution_count": 16,
   "metadata": {},
   "outputs": [
    {
     "name": "stdout",
     "output_type": "stream",
     "text": [
      "Contient des valeurs infinies: True\n"
     ]
    }
   ],
   "source": [
    "# Vérifier si le DataFrame contient des valeurs infinies\n",
    "infinite_values = np.isinf(df1)\n",
    "\n",
    "# Vérifier si le DataFrame contient au moins une valeur infinie\n",
    "contains_infinite = infinite_values.any().any()\n",
    "\n",
    "print(\"Contient des valeurs infinies:\", contains_infinite)"
   ]
  },
  {
   "cell_type": "code",
   "execution_count": 17,
   "metadata": {},
   "outputs": [
    {
     "name": "stdout",
     "output_type": "stream",
     "text": [
      "Colonnes avec des valeurs infinies: ['PREV_APP_CREDIT_PERC_MAX', 'REFUSED_APP_CREDIT_PERC_MAX', 'INSTAL_PAYMENT_PERC_MAX', 'INSTAL_PAYMENT_PERC_MEAN', 'INSTAL_PAYMENT_PERC_SUM']\n"
     ]
    }
   ],
   "source": [
    "# Trouver les colonnes qui contiennent des valeurs infinies\n",
    "infinite_columns = infinite_values.any()\n",
    "\n",
    "# Afficher les colonnes avec des valeurs infinies\n",
    "print(\n",
    "    \"Colonnes avec des valeurs infinies:\",\n",
    "    infinite_columns[infinite_columns].index.tolist(),\n",
    ")"
   ]
  },
  {
   "cell_type": "code",
   "execution_count": 18,
   "metadata": {},
   "outputs": [
    {
     "name": "stdout",
     "output_type": "stream",
     "text": [
      "Nombre de lignes avec des valeurs infinies: 57\n"
     ]
    }
   ],
   "source": [
    "# Trouver les lignes qui contiennent des valeurs infinies\n",
    "infinite_rows = infinite_values.any(axis=1)\n",
    "\n",
    "# Compter le nombre de lignes avec des valeurs infinies\n",
    "num_infinite_rows = infinite_rows.sum()\n",
    "\n",
    "print(\"Nombre de lignes avec des valeurs infinies:\", num_infinite_rows)"
   ]
  },
  {
   "cell_type": "code",
   "execution_count": 19,
   "metadata": {},
   "outputs": [],
   "source": [
    "# Supprimer les lignes avec des valeurs infinies\n",
    "df_cleaned = df1[~infinite_rows]"
   ]
  },
  {
   "cell_type": "code",
   "execution_count": 20,
   "metadata": {},
   "outputs": [
    {
     "name": "stdout",
     "output_type": "stream",
     "text": [
      "Contient des valeurs infinies: False\n"
     ]
    }
   ],
   "source": [
    "# Vérifier si le DataFrame contient des valeurs infinies\n",
    "infinite_values = np.isinf(df_cleaned)\n",
    "\n",
    "# Vérifier si le DataFrame contient au moins une valeur infinie\n",
    "contains_infinite = infinite_values.any().any()\n",
    "\n",
    "print(\"Contient des valeurs infinies:\", contains_infinite)"
   ]
  },
  {
   "cell_type": "code",
   "execution_count": 21,
   "metadata": {},
   "outputs": [],
   "source": [
    "df1 = df_cleaned[df_cleaned[\"TARGET\"].notna()]"
   ]
  },
  {
   "cell_type": "code",
   "execution_count": 22,
   "metadata": {},
   "outputs": [
    {
     "data": {
      "text/plain": [
       "(307467, 760)"
      ]
     },
     "execution_count": 22,
     "metadata": {},
     "output_type": "execute_result"
    }
   ],
   "source": [
    "df1.shape"
   ]
  },
  {
   "cell_type": "code",
   "execution_count": 23,
   "metadata": {},
   "outputs": [],
   "source": [
    "df2 = df1.dropna(axis=1)"
   ]
  },
  {
   "cell_type": "code",
   "execution_count": 24,
   "metadata": {},
   "outputs": [
    {
     "data": {
      "text/plain": [
       "0"
      ]
     },
     "execution_count": 24,
     "metadata": {},
     "output_type": "execute_result"
    }
   ],
   "source": [
    "df2.isna().sum().sum()"
   ]
  },
  {
   "cell_type": "code",
   "execution_count": 25,
   "metadata": {},
   "outputs": [
    {
     "data": {
      "text/plain": [
       "(307467, 259)"
      ]
     },
     "execution_count": 25,
     "metadata": {},
     "output_type": "execute_result"
    }
   ],
   "source": [
    "df2.shape"
   ]
  },
  {
   "cell_type": "markdown",
   "metadata": {},
   "source": [
    "XGBOOST"
   ]
  },
  {
   "cell_type": "code",
   "execution_count": 26,
   "metadata": {},
   "outputs": [],
   "source": [
    "# Séparation des caractéristiques et de la cible\n",
    "X = df2.drop(\"TARGET\", axis=1)\n",
    "y = df2[\"TARGET\"]\n",
    "\n",
    "# Création d'une matrice DMatrix pour XGBoost\n",
    "data_dmatrix = xgb.DMatrix(data=X, label=y)\n",
    "\n",
    "# Entraînement du modèle XGBoost\n",
    "model = xgb.XGBClassifier()\n",
    "model.fit(X, y)\n",
    "\n",
    "# Extraction de l'importance des caractéristiques\n",
    "feature_importances = model.feature_importances_\n",
    "\n",
    "# Création d'un DataFrame pour l'importance des caractéristiques\n",
    "features_df = pd.DataFrame({\"Feature\": X.columns, \"Importance\": feature_importances})\n",
    "\n",
    "# Tri des caractéristiques par importance\n",
    "features_df = features_df.sort_values(by=\"Importance\", ascending=False)\n",
    "\n",
    "# Affichage des 10 caractéristiques les plus importantes\n",
    "top_10_features = features_df.head(10)"
   ]
  },
  {
   "cell_type": "code",
   "execution_count": 27,
   "metadata": {},
   "outputs": [
    {
     "data": {
      "text/html": [
       "<div>\n",
       "<style scoped>\n",
       "    .dataframe tbody tr th:only-of-type {\n",
       "        vertical-align: middle;\n",
       "    }\n",
       "\n",
       "    .dataframe tbody tr th {\n",
       "        vertical-align: top;\n",
       "    }\n",
       "\n",
       "    .dataframe thead th {\n",
       "        text-align: right;\n",
       "    }\n",
       "</style>\n",
       "<table border=\"1\" class=\"dataframe\">\n",
       "  <thead>\n",
       "    <tr style=\"text-align: right;\">\n",
       "      <th></th>\n",
       "      <th>Feature</th>\n",
       "      <th>Importance</th>\n",
       "    </tr>\n",
       "  </thead>\n",
       "  <tbody>\n",
       "    <tr>\n",
       "      <th>32</th>\n",
       "      <td>EXT_SOURCE_3</td>\n",
       "      <td>0.025421</td>\n",
       "    </tr>\n",
       "    <tr>\n",
       "      <th>31</th>\n",
       "      <td>EXT_SOURCE_2</td>\n",
       "      <td>0.024497</td>\n",
       "    </tr>\n",
       "    <tr>\n",
       "      <th>125</th>\n",
       "      <td>NAME_INCOME_TYPE_Working</td>\n",
       "      <td>0.019114</td>\n",
       "    </tr>\n",
       "    <tr>\n",
       "      <th>131</th>\n",
       "      <td>NAME_EDUCATION_TYPE_Secondary / secondary special</td>\n",
       "      <td>0.017243</td>\n",
       "    </tr>\n",
       "    <tr>\n",
       "      <th>128</th>\n",
       "      <td>NAME_EDUCATION_TYPE_Higher education</td>\n",
       "      <td>0.015684</td>\n",
       "    </tr>\n",
       "    <tr>\n",
       "      <th>150</th>\n",
       "      <td>OCCUPATION_TYPE_Core staff</td>\n",
       "      <td>0.015278</td>\n",
       "    </tr>\n",
       "    <tr>\n",
       "      <th>82</th>\n",
       "      <td>FLAG_DOCUMENT_3</td>\n",
       "      <td>0.014449</td>\n",
       "    </tr>\n",
       "    <tr>\n",
       "      <th>101</th>\n",
       "      <td>AMT_REQ_CREDIT_BUREAU_HOUR</td>\n",
       "      <td>0.012185</td>\n",
       "    </tr>\n",
       "    <tr>\n",
       "      <th>0</th>\n",
       "      <td>CODE_GENDER</td>\n",
       "      <td>0.011950</td>\n",
       "    </tr>\n",
       "    <tr>\n",
       "      <th>257</th>\n",
       "      <td>PAYMENT_RATE</td>\n",
       "      <td>0.011679</td>\n",
       "    </tr>\n",
       "  </tbody>\n",
       "</table>\n",
       "</div>"
      ],
      "text/plain": [
       "                                               Feature  Importance\n",
       "32                                        EXT_SOURCE_3    0.025421\n",
       "31                                        EXT_SOURCE_2    0.024497\n",
       "125                           NAME_INCOME_TYPE_Working    0.019114\n",
       "131  NAME_EDUCATION_TYPE_Secondary / secondary special    0.017243\n",
       "128               NAME_EDUCATION_TYPE_Higher education    0.015684\n",
       "150                         OCCUPATION_TYPE_Core staff    0.015278\n",
       "82                                     FLAG_DOCUMENT_3    0.014449\n",
       "101                         AMT_REQ_CREDIT_BUREAU_HOUR    0.012185\n",
       "0                                          CODE_GENDER    0.011950\n",
       "257                                       PAYMENT_RATE    0.011679"
      ]
     },
     "execution_count": 27,
     "metadata": {},
     "output_type": "execute_result"
    }
   ],
   "source": [
    "top_10_features"
   ]
  },
  {
   "cell_type": "code",
   "execution_count": 30,
   "metadata": {},
   "outputs": [
    {
     "data": {
      "image/png": "[encoded data removed]",
      "text/plain": [
       "<Figure size 700x300 with 1 Axes>"
      ]
     },
     "metadata": {},
     "output_type": "display_data"
    }
   ],
   "source": [
    "# Visualisation\n",
    "top_10_features.plot(\n",
    "    kind=\"barh\",\n",
    "    x=\"Feature\",\n",
    "    y=\"Importance\",\n",
    "    figsize=(7, 3),\n",
    "    legend=False,\n",
    "    color=\"darkred\",\n",
    ")\n",
    "plt.gca().invert_yaxis()\n",
    "plt.title(\"10 caractéristiques XGB les plus importantes\")\n",
    "\n",
    "# Sauvegarder le graphique en tant qu'image avec ajustement de l'espace\n",
    "plt.savefig(\"Divers/xgb_feature_importance.png\", bbox_inches=\"tight\")\n",
    "\n",
    "plt.show()"
   ]
  },
  {
   "cell_type": "code",
   "execution_count": 31,
   "metadata": {},
   "outputs": [],
   "source": [
    "# Liste des 10 principales caractéristiques\n",
    "top_10_xgb_columns = top_10_features[\"Feature\"].tolist()\n",
    "\n",
    "# Création d'un nouveau DataFrame avec seulement ces colonnes\n",
    "df_xgb = df2[top_10_xgb_columns]"
   ]
  },
  {
   "cell_type": "code",
   "execution_count": 32,
   "metadata": {},
   "outputs": [
    {
     "name": "stderr",
     "output_type": "stream",
     "text": [
      "C:\\Users\\arken\\AppData\\Local\\Temp\\ipykernel_19844\\1441802947.py:1: SettingWithCopyWarning: \n",
      "A value is trying to be set on a copy of a slice from a DataFrame.\n",
      "Try using .loc[row_indexer,col_indexer] = value instead\n",
      "\n",
      "See the caveats in the documentation: https://pandas.pydata.org/pandas-docs/stable/user_guide/indexing.html#returning-a-view-versus-a-copy\n",
      "  df_xgb[\"TARGET\"] = df2[\"TARGET\"]\n"
     ]
    }
   ],
   "source": [
    "df_xgb[\"TARGET\"] = df2[\"TARGET\"]"
   ]
  },
  {
   "cell_type": "code",
   "execution_count": 33,
   "metadata": {},
   "outputs": [
    {
     "data": {
      "text/html": [
       "<div>\n",
       "<style scoped>\n",
       "    .dataframe tbody tr th:only-of-type {\n",
       "        vertical-align: middle;\n",
       "    }\n",
       "\n",
       "    .dataframe tbody tr th {\n",
       "        vertical-align: top;\n",
       "    }\n",
       "\n",
       "    .dataframe thead th {\n",
       "        text-align: right;\n",
       "    }\n",
       "</style>\n",
       "<table border=\"1\" class=\"dataframe\">\n",
       "  <thead>\n",
       "    <tr style=\"text-align: right;\">\n",
       "      <th></th>\n",
       "      <th>EXT_SOURCE_3</th>\n",
       "      <th>EXT_SOURCE_2</th>\n",
       "      <th>NAME_INCOME_TYPE_Working</th>\n",
       "      <th>NAME_EDUCATION_TYPE_Secondary / secondary special</th>\n",
       "      <th>NAME_EDUCATION_TYPE_Higher education</th>\n",
       "      <th>OCCUPATION_TYPE_Core staff</th>\n",
       "      <th>FLAG_DOCUMENT_3</th>\n",
       "      <th>AMT_REQ_CREDIT_BUREAU_HOUR</th>\n",
       "      <th>CODE_GENDER</th>\n",
       "      <th>PAYMENT_RATE</th>\n",
       "      <th>TARGET</th>\n",
       "    </tr>\n",
       "    <tr>\n",
       "      <th>SK_ID_CURR</th>\n",
       "      <th></th>\n",
       "      <th></th>\n",
       "      <th></th>\n",
       "      <th></th>\n",
       "      <th></th>\n",
       "      <th></th>\n",
       "      <th></th>\n",
       "      <th></th>\n",
       "      <th></th>\n",
       "      <th></th>\n",
       "      <th></th>\n",
       "    </tr>\n",
       "  </thead>\n",
       "  <tbody>\n",
       "    <tr>\n",
       "      <th>100002</th>\n",
       "      <td>0.139376</td>\n",
       "      <td>0.262949</td>\n",
       "      <td>1</td>\n",
       "      <td>1</td>\n",
       "      <td>0</td>\n",
       "      <td>0</td>\n",
       "      <td>1</td>\n",
       "      <td>0.000000</td>\n",
       "      <td>0</td>\n",
       "      <td>0.060749</td>\n",
       "      <td>1.0</td>\n",
       "    </tr>\n",
       "    <tr>\n",
       "      <th>100003</th>\n",
       "      <td>0.509353</td>\n",
       "      <td>0.622246</td>\n",
       "      <td>0</td>\n",
       "      <td>0</td>\n",
       "      <td>1</td>\n",
       "      <td>1</td>\n",
       "      <td>1</td>\n",
       "      <td>0.000000</td>\n",
       "      <td>1</td>\n",
       "      <td>0.027598</td>\n",
       "      <td>0.0</td>\n",
       "    </tr>\n",
       "    <tr>\n",
       "      <th>100004</th>\n",
       "      <td>0.729567</td>\n",
       "      <td>0.555912</td>\n",
       "      <td>1</td>\n",
       "      <td>1</td>\n",
       "      <td>0</td>\n",
       "      <td>0</td>\n",
       "      <td>0</td>\n",
       "      <td>0.000000</td>\n",
       "      <td>0</td>\n",
       "      <td>0.050000</td>\n",
       "      <td>0.0</td>\n",
       "    </tr>\n",
       "    <tr>\n",
       "      <th>100006</th>\n",
       "      <td>0.509353</td>\n",
       "      <td>0.650442</td>\n",
       "      <td>1</td>\n",
       "      <td>1</td>\n",
       "      <td>0</td>\n",
       "      <td>0</td>\n",
       "      <td>1</td>\n",
       "      <td>0.005809</td>\n",
       "      <td>1</td>\n",
       "      <td>0.094941</td>\n",
       "      <td>0.0</td>\n",
       "    </tr>\n",
       "    <tr>\n",
       "      <th>100007</th>\n",
       "      <td>0.509353</td>\n",
       "      <td>0.322738</td>\n",
       "      <td>1</td>\n",
       "      <td>1</td>\n",
       "      <td>0</td>\n",
       "      <td>1</td>\n",
       "      <td>0</td>\n",
       "      <td>0.000000</td>\n",
       "      <td>0</td>\n",
       "      <td>0.042623</td>\n",
       "      <td>0.0</td>\n",
       "    </tr>\n",
       "  </tbody>\n",
       "</table>\n",
       "</div>"
      ],
      "text/plain": [
       "            EXT_SOURCE_3  EXT_SOURCE_2  NAME_INCOME_TYPE_Working  \\\n",
       "SK_ID_CURR                                                         \n",
       "100002          0.139376      0.262949                         1   \n",
       "100003          0.509353      0.622246                         0   \n",
       "100004          0.729567      0.555912                         1   \n",
       "100006          0.509353      0.650442                         1   \n",
       "100007          0.509353      0.322738                         1   \n",
       "\n",
       "            NAME_EDUCATION_TYPE_Secondary / secondary special  \\\n",
       "SK_ID_CURR                                                      \n",
       "100002                                                      1   \n",
       "100003                                                      0   \n",
       "100004                                                      1   \n",
       "100006                                                      1   \n",
       "100007                                                      1   \n",
       "\n",
       "            NAME_EDUCATION_TYPE_Higher education  OCCUPATION_TYPE_Core staff  \\\n",
       "SK_ID_CURR                                                                     \n",
       "100002                                         0                           0   \n",
       "100003                                         1                           1   \n",
       "100004                                         0                           0   \n",
       "100006                                         0                           0   \n",
       "100007                                         0                           1   \n",
       "\n",
       "            FLAG_DOCUMENT_3  AMT_REQ_CREDIT_BUREAU_HOUR  CODE_GENDER  \\\n",
       "SK_ID_CURR                                                             \n",
       "100002                    1                    0.000000            0   \n",
       "100003                    1                    0.000000            1   \n",
       "100004                    0                    0.000000            0   \n",
       "100006                    1                    0.005809            1   \n",
       "100007                    0                    0.000000            0   \n",
       "\n",
       "            PAYMENT_RATE  TARGET  \n",
       "SK_ID_CURR                        \n",
       "100002          0.060749     1.0  \n",
       "100003          0.027598     0.0  \n",
       "100004          0.050000     0.0  \n",
       "100006          0.094941     0.0  \n",
       "100007          0.042623     0.0  "
      ]
     },
     "execution_count": 33,
     "metadata": {},
     "output_type": "execute_result"
    }
   ],
   "source": [
    "df_xgb.head()"
   ]
  },
  {
   "cell_type": "code",
   "execution_count": 34,
   "metadata": {},
   "outputs": [
    {
     "data": {
      "text/plain": [
       "(307467, 11)"
      ]
     },
     "execution_count": 34,
     "metadata": {},
     "output_type": "execute_result"
    }
   ],
   "source": [
    "df_xgb.shape"
   ]
  },
  {
   "cell_type": "code",
   "execution_count": 35,
   "metadata": {},
   "outputs": [],
   "source": [
    "submission_file_name = \"../Data/Processed/fichier_xgb.csv\"\n",
    "df_xgb.to_csv(submission_file_name, index=True)"
   ]
  },
  {
   "cell_type": "markdown",
   "metadata": {},
   "source": [
    "FORET ALEATOIRE"
   ]
  },
  {
   "cell_type": "code",
   "execution_count": 36,
   "metadata": {},
   "outputs": [
    {
     "data": {
      "text/html": [
       "<div>\n",
       "<style scoped>\n",
       "    .dataframe tbody tr th:only-of-type {\n",
       "        vertical-align: middle;\n",
       "    }\n",
       "\n",
       "    .dataframe tbody tr th {\n",
       "        vertical-align: top;\n",
       "    }\n",
       "\n",
       "    .dataframe thead th {\n",
       "        text-align: right;\n",
       "    }\n",
       "</style>\n",
       "<table border=\"1\" class=\"dataframe\">\n",
       "  <thead>\n",
       "    <tr style=\"text-align: right;\">\n",
       "      <th></th>\n",
       "      <th>Feature</th>\n",
       "      <th>Importance</th>\n",
       "    </tr>\n",
       "  </thead>\n",
       "  <tbody>\n",
       "    <tr>\n",
       "      <th>31</th>\n",
       "      <td>EXT_SOURCE_2</td>\n",
       "      <td>0.045161</td>\n",
       "    </tr>\n",
       "    <tr>\n",
       "      <th>32</th>\n",
       "      <td>EXT_SOURCE_3</td>\n",
       "      <td>0.042546</td>\n",
       "    </tr>\n",
       "    <tr>\n",
       "      <th>12</th>\n",
       "      <td>DAYS_ID_PUBLISH</td>\n",
       "      <td>0.027822</td>\n",
       "    </tr>\n",
       "    <tr>\n",
       "      <th>9</th>\n",
       "      <td>DAYS_BIRTH</td>\n",
       "      <td>0.027796</td>\n",
       "    </tr>\n",
       "    <tr>\n",
       "      <th>253</th>\n",
       "      <td>DAYS_EMPLOYED_PERC</td>\n",
       "      <td>0.027510</td>\n",
       "    </tr>\n",
       "    <tr>\n",
       "      <th>11</th>\n",
       "      <td>DAYS_REGISTRATION</td>\n",
       "      <td>0.027239</td>\n",
       "    </tr>\n",
       "    <tr>\n",
       "      <th>257</th>\n",
       "      <td>PAYMENT_RATE</td>\n",
       "      <td>0.026774</td>\n",
       "    </tr>\n",
       "    <tr>\n",
       "      <th>256</th>\n",
       "      <td>ANNUITY_INCOME_PERC</td>\n",
       "      <td>0.026002</td>\n",
       "    </tr>\n",
       "    <tr>\n",
       "      <th>254</th>\n",
       "      <td>INCOME_CREDIT_PERC</td>\n",
       "      <td>0.025230</td>\n",
       "    </tr>\n",
       "    <tr>\n",
       "      <th>10</th>\n",
       "      <td>DAYS_EMPLOYED</td>\n",
       "      <td>0.025109</td>\n",
       "    </tr>\n",
       "  </tbody>\n",
       "</table>\n",
       "</div>"
      ],
      "text/plain": [
       "                 Feature  Importance\n",
       "31          EXT_SOURCE_2    0.045161\n",
       "32          EXT_SOURCE_3    0.042546\n",
       "12       DAYS_ID_PUBLISH    0.027822\n",
       "9             DAYS_BIRTH    0.027796\n",
       "253   DAYS_EMPLOYED_PERC    0.027510\n",
       "11     DAYS_REGISTRATION    0.027239\n",
       "257         PAYMENT_RATE    0.026774\n",
       "256  ANNUITY_INCOME_PERC    0.026002\n",
       "254   INCOME_CREDIT_PERC    0.025230\n",
       "10         DAYS_EMPLOYED    0.025109"
      ]
     },
     "execution_count": 36,
     "metadata": {},
     "output_type": "execute_result"
    }
   ],
   "source": [
    "# Séparation des caractéristiques et de la cible\n",
    "X = df2.drop(\"TARGET\", axis=1)\n",
    "y = df2[\"TARGET\"]\n",
    "\n",
    "# Entraînement du modèle Random Forest\n",
    "rf_model = RandomForestClassifier()\n",
    "rf_model.fit(X, y)\n",
    "\n",
    "# Extraction de l'importance des caractéristiques\n",
    "feature_importances_rf = rf_model.feature_importances_\n",
    "\n",
    "# Création d'un DataFrame pour l'importance des caractéristiques\n",
    "features_df_rf = pd.DataFrame(\n",
    "    {\"Feature\": X.columns, \"Importance\": feature_importances_rf}\n",
    ")\n",
    "\n",
    "# Tri des caractéristiques par importance\n",
    "features_df_rf = features_df_rf.sort_values(by=\"Importance\", ascending=False)\n",
    "\n",
    "# Affichage des 10 caractéristiques les plus importantes\n",
    "top_10_features_rf = features_df_rf.head(10)\n",
    "top_10_features_rf"
   ]
  },
  {
   "cell_type": "code",
   "execution_count": 37,
   "metadata": {},
   "outputs": [
    {
     "data": {
      "image/png": "[encoded data removed]",
      "text/plain": [
       "<Figure size 1000x700 with 1 Axes>"
      ]
     },
     "metadata": {},
     "output_type": "display_data"
    }
   ],
   "source": [
    "# Visualisation\n",
    "top_10_features_rf.plot(\n",
    "    kind=\"barh\", x=\"Feature\", y=\"Importance\", figsize=(10, 7), legend=False\n",
    ")\n",
    "plt.gca().invert_yaxis()\n",
    "plt.title(\"Top 10 des caractéristiques les plus importantes avec Random Forest\")\n",
    "plt.show()"
   ]
  },
  {
   "cell_type": "code",
   "execution_count": 38,
   "metadata": {},
   "outputs": [],
   "source": [
    "# Liste des 10 principales caractéristiques\n",
    "top_10_rf_columns = top_10_features_rf[\"Feature\"].tolist()\n",
    "\n",
    "# Création d'un nouveau DataFrame avec seulement ces colonnes\n",
    "df_fa = df2[top_10_rf_columns]"
   ]
  },
  {
   "cell_type": "code",
   "execution_count": 39,
   "metadata": {},
   "outputs": [
    {
     "name": "stderr",
     "output_type": "stream",
     "text": [
      "C:\\Users\\arken\\AppData\\Local\\Temp\\ipykernel_19844\\932454460.py:1: SettingWithCopyWarning: \n",
      "A value is trying to be set on a copy of a slice from a DataFrame.\n",
      "Try using .loc[row_indexer,col_indexer] = value instead\n",
      "\n",
      "See the caveats in the documentation: https://pandas.pydata.org/pandas-docs/stable/user_guide/indexing.html#returning-a-view-versus-a-copy\n",
      "  df_fa[\"TARGET\"] = df2[\"TARGET\"]\n"
     ]
    }
   ],
   "source": [
    "df_fa[\"TARGET\"] = df2[\"TARGET\"]"
   ]
  },
  {
   "cell_type": "code",
   "execution_count": 40,
   "metadata": {},
   "outputs": [
    {
     "data": {
      "text/html": [
       "<div>\n",
       "<style scoped>\n",
       "    .dataframe tbody tr th:only-of-type {\n",
       "        vertical-align: middle;\n",
       "    }\n",
       "\n",
       "    .dataframe tbody tr th {\n",
       "        vertical-align: top;\n",
       "    }\n",
       "\n",
       "    .dataframe thead th {\n",
       "        text-align: right;\n",
       "    }\n",
       "</style>\n",
       "<table border=\"1\" class=\"dataframe\">\n",
       "  <thead>\n",
       "    <tr style=\"text-align: right;\">\n",
       "      <th></th>\n",
       "      <th>EXT_SOURCE_2</th>\n",
       "      <th>EXT_SOURCE_3</th>\n",
       "      <th>DAYS_ID_PUBLISH</th>\n",
       "      <th>DAYS_BIRTH</th>\n",
       "      <th>DAYS_EMPLOYED_PERC</th>\n",
       "      <th>DAYS_REGISTRATION</th>\n",
       "      <th>PAYMENT_RATE</th>\n",
       "      <th>ANNUITY_INCOME_PERC</th>\n",
       "      <th>INCOME_CREDIT_PERC</th>\n",
       "      <th>DAYS_EMPLOYED</th>\n",
       "      <th>TARGET</th>\n",
       "    </tr>\n",
       "    <tr>\n",
       "      <th>SK_ID_CURR</th>\n",
       "      <th></th>\n",
       "      <th></th>\n",
       "      <th></th>\n",
       "      <th></th>\n",
       "      <th></th>\n",
       "      <th></th>\n",
       "      <th></th>\n",
       "      <th></th>\n",
       "      <th></th>\n",
       "      <th></th>\n",
       "      <th></th>\n",
       "    </tr>\n",
       "  </thead>\n",
       "  <tbody>\n",
       "    <tr>\n",
       "      <th>100002</th>\n",
       "      <td>0.262949</td>\n",
       "      <td>0.139376</td>\n",
       "      <td>-2120</td>\n",
       "      <td>-9461</td>\n",
       "      <td>0.067329</td>\n",
       "      <td>-3648.0</td>\n",
       "      <td>0.060749</td>\n",
       "      <td>0.121978</td>\n",
       "      <td>0.498036</td>\n",
       "      <td>-637.0</td>\n",
       "      <td>1.0</td>\n",
       "    </tr>\n",
       "    <tr>\n",
       "      <th>100003</th>\n",
       "      <td>0.622246</td>\n",
       "      <td>0.509353</td>\n",
       "      <td>-291</td>\n",
       "      <td>-16765</td>\n",
       "      <td>0.070862</td>\n",
       "      <td>-1186.0</td>\n",
       "      <td>0.027598</td>\n",
       "      <td>0.132217</td>\n",
       "      <td>0.208736</td>\n",
       "      <td>-1188.0</td>\n",
       "      <td>0.0</td>\n",
       "    </tr>\n",
       "    <tr>\n",
       "      <th>100004</th>\n",
       "      <td>0.555912</td>\n",
       "      <td>0.729567</td>\n",
       "      <td>-2531</td>\n",
       "      <td>-19046</td>\n",
       "      <td>0.011814</td>\n",
       "      <td>-4260.0</td>\n",
       "      <td>0.050000</td>\n",
       "      <td>0.100000</td>\n",
       "      <td>0.500000</td>\n",
       "      <td>-225.0</td>\n",
       "      <td>0.0</td>\n",
       "    </tr>\n",
       "    <tr>\n",
       "      <th>100006</th>\n",
       "      <td>0.650442</td>\n",
       "      <td>0.509353</td>\n",
       "      <td>-2437</td>\n",
       "      <td>-19005</td>\n",
       "      <td>0.159905</td>\n",
       "      <td>-9833.0</td>\n",
       "      <td>0.094941</td>\n",
       "      <td>0.219900</td>\n",
       "      <td>0.431748</td>\n",
       "      <td>-3039.0</td>\n",
       "      <td>0.0</td>\n",
       "    </tr>\n",
       "    <tr>\n",
       "      <th>100007</th>\n",
       "      <td>0.322738</td>\n",
       "      <td>0.509353</td>\n",
       "      <td>-3458</td>\n",
       "      <td>-19932</td>\n",
       "      <td>0.152418</td>\n",
       "      <td>-4311.0</td>\n",
       "      <td>0.042623</td>\n",
       "      <td>0.179963</td>\n",
       "      <td>0.236842</td>\n",
       "      <td>-3038.0</td>\n",
       "      <td>0.0</td>\n",
       "    </tr>\n",
       "  </tbody>\n",
       "</table>\n",
       "</div>"
      ],
      "text/plain": [
       "            EXT_SOURCE_2  EXT_SOURCE_3  DAYS_ID_PUBLISH  DAYS_BIRTH  \\\n",
       "SK_ID_CURR                                                            \n",
       "100002          0.262949      0.139376            -2120       -9461   \n",
       "100003          0.622246      0.509353             -291      -16765   \n",
       "100004          0.555912      0.729567            -2531      -19046   \n",
       "100006          0.650442      0.509353            -2437      -19005   \n",
       "100007          0.322738      0.509353            -3458      -19932   \n",
       "\n",
       "            DAYS_EMPLOYED_PERC  DAYS_REGISTRATION  PAYMENT_RATE  \\\n",
       "SK_ID_CURR                                                        \n",
       "100002                0.067329            -3648.0      0.060749   \n",
       "100003                0.070862            -1186.0      0.027598   \n",
       "100004                0.011814            -4260.0      0.050000   \n",
       "100006                0.159905            -9833.0      0.094941   \n",
       "100007                0.152418            -4311.0      0.042623   \n",
       "\n",
       "            ANNUITY_INCOME_PERC  INCOME_CREDIT_PERC  DAYS_EMPLOYED  TARGET  \n",
       "SK_ID_CURR                                                                  \n",
       "100002                 0.121978            0.498036         -637.0     1.0  \n",
       "100003                 0.132217            0.208736        -1188.0     0.0  \n",
       "100004                 0.100000            0.500000         -225.0     0.0  \n",
       "100006                 0.219900            0.431748        -3039.0     0.0  \n",
       "100007                 0.179963            0.236842        -3038.0     0.0  "
      ]
     },
     "execution_count": 40,
     "metadata": {},
     "output_type": "execute_result"
    }
   ],
   "source": [
    "df_fa.head()"
   ]
  },
  {
   "cell_type": "code",
   "execution_count": 41,
   "metadata": {},
   "outputs": [],
   "source": [
    "submission_file_name = \"../Data/Processed/fichier_fa.csv\"\n",
    "df_fa.to_csv(submission_file_name, index=True)"
   ]
  },
  {
   "cell_type": "code",
   "execution_count": 42,
   "metadata": {},
   "outputs": [
    {
     "data": {
      "text/plain": [
       "8946"
      ]
     },
     "execution_count": 42,
     "metadata": {},
     "output_type": "execute_result"
    }
   ],
   "source": [
    "gc.collect()"
   ]
  },
  {
   "cell_type": "markdown",
   "metadata": {},
   "source": [
    "LIGHTGBM"
   ]
  },
  {
   "cell_type": "code",
   "execution_count": 43,
   "metadata": {},
   "outputs": [
    {
     "name": "stdout",
     "output_type": "stream",
     "text": [
      "[LightGBM] [Warning] Found whitespace in feature_names, replace with underlines\n",
      "[LightGBM] [Info] Number of positive: 24820, number of negative: 282647\n",
      "[LightGBM] [Warning] Auto-choosing row-wise multi-threading, the overhead of testing was 0.090431 seconds.\n",
      "You can set `force_row_wise=true` to remove the overhead.\n",
      "And if memory is not enough, you can set `force_col_wise=true`.\n",
      "[LightGBM] [Info] Total Bins 12625\n",
      "[LightGBM] [Info] Number of data points in the train set: 307467, number of used features: 243\n",
      "[LightGBM] [Info] [binary:BoostFromScore]: pavg=0.080724 -> initscore=-2.432549\n",
      "[LightGBM] [Info] Start training from score -2.432549\n"
     ]
    },
    {
     "data": {
      "text/html": [
       "<div>\n",
       "<style scoped>\n",
       "    .dataframe tbody tr th:only-of-type {\n",
       "        vertical-align: middle;\n",
       "    }\n",
       "\n",
       "    .dataframe tbody tr th {\n",
       "        vertical-align: top;\n",
       "    }\n",
       "\n",
       "    .dataframe thead th {\n",
       "        text-align: right;\n",
       "    }\n",
       "</style>\n",
       "<table border=\"1\" class=\"dataframe\">\n",
       "  <thead>\n",
       "    <tr style=\"text-align: right;\">\n",
       "      <th></th>\n",
       "      <th>Feature</th>\n",
       "      <th>Importance</th>\n",
       "    </tr>\n",
       "  </thead>\n",
       "  <tbody>\n",
       "    <tr>\n",
       "      <th>257</th>\n",
       "      <td>PAYMENT_RATE</td>\n",
       "      <td>366</td>\n",
       "    </tr>\n",
       "    <tr>\n",
       "      <th>30</th>\n",
       "      <td>EXT_SOURCE_1</td>\n",
       "      <td>213</td>\n",
       "    </tr>\n",
       "    <tr>\n",
       "      <th>32</th>\n",
       "      <td>EXT_SOURCE_3</td>\n",
       "      <td>208</td>\n",
       "    </tr>\n",
       "    <tr>\n",
       "      <th>31</th>\n",
       "      <td>EXT_SOURCE_2</td>\n",
       "      <td>170</td>\n",
       "    </tr>\n",
       "    <tr>\n",
       "      <th>9</th>\n",
       "      <td>DAYS_BIRTH</td>\n",
       "      <td>151</td>\n",
       "    </tr>\n",
       "    <tr>\n",
       "      <th>10</th>\n",
       "      <td>DAYS_EMPLOYED</td>\n",
       "      <td>94</td>\n",
       "    </tr>\n",
       "    <tr>\n",
       "      <th>6</th>\n",
       "      <td>AMT_ANNUITY</td>\n",
       "      <td>91</td>\n",
       "    </tr>\n",
       "    <tr>\n",
       "      <th>12</th>\n",
       "      <td>DAYS_ID_PUBLISH</td>\n",
       "      <td>90</td>\n",
       "    </tr>\n",
       "    <tr>\n",
       "      <th>7</th>\n",
       "      <td>AMT_GOODS_PRICE</td>\n",
       "      <td>88</td>\n",
       "    </tr>\n",
       "    <tr>\n",
       "      <th>5</th>\n",
       "      <td>AMT_CREDIT</td>\n",
       "      <td>81</td>\n",
       "    </tr>\n",
       "  </tbody>\n",
       "</table>\n",
       "</div>"
      ],
      "text/plain": [
       "             Feature  Importance\n",
       "257     PAYMENT_RATE         366\n",
       "30      EXT_SOURCE_1         213\n",
       "32      EXT_SOURCE_3         208\n",
       "31      EXT_SOURCE_2         170\n",
       "9         DAYS_BIRTH         151\n",
       "10     DAYS_EMPLOYED          94\n",
       "6        AMT_ANNUITY          91\n",
       "12   DAYS_ID_PUBLISH          90\n",
       "7    AMT_GOODS_PRICE          88\n",
       "5         AMT_CREDIT          81"
      ]
     },
     "execution_count": 43,
     "metadata": {},
     "output_type": "execute_result"
    }
   ],
   "source": [
    "# Séparation des caractéristiques et de la cible\n",
    "X = df2.drop(\"TARGET\", axis=1)\n",
    "y = df2[\"TARGET\"]\n",
    "\n",
    "\n",
    "def clean_column_names(col_name):\n",
    "    # Liste des caractères spéciaux interdits dans les noms des caractéristiques par LightGBM\n",
    "    forbidden_characters = \"[,{}<>\\[\\]:]\"\n",
    "    return re.sub(forbidden_characters, \"_\", col_name)\n",
    "\n",
    "\n",
    "# Appliquer la fonction de nettoyage aux noms des colonnes\n",
    "X.columns = [clean_column_names(col) for col in X.columns]\n",
    "\n",
    "# Entraînement du modèle LightGBM\n",
    "lgb_model = lgb.LGBMClassifier()\n",
    "lgb_model.fit(X, y)\n",
    "\n",
    "# Extraction de l'importance des caractéristiques\n",
    "feature_importances_lgb = lgb_model.feature_importances_\n",
    "\n",
    "# Création d'un DataFrame pour l'importance des caractéristiques\n",
    "features_df_lgb = pd.DataFrame(\n",
    "    {\"Feature\": X.columns, \"Importance\": feature_importances_lgb}\n",
    ")\n",
    "\n",
    "# Tri par importance\n",
    "features_df_lgb = features_df_lgb.sort_values(by=\"Importance\", ascending=False)\n",
    "\n",
    "# Affichage des 10 caractéristiques les plus importantes\n",
    "top_10_lgb = features_df_lgb.head(10)\n",
    "top_10_lgb"
   ]
  },
  {
   "cell_type": "code",
   "execution_count": 44,
   "metadata": {},
   "outputs": [
    {
     "data": {
      "image/png": "[encoded data removed]",
      "text/plain": [
       "<Figure size 1000x700 with 1 Axes>"
      ]
     },
     "metadata": {},
     "output_type": "display_data"
    }
   ],
   "source": [
    "# Visualisation\n",
    "top_10_lgb.plot(kind=\"barh\", x=\"Feature\", y=\"Importance\", figsize=(10, 7), legend=False)\n",
    "plt.gca().invert_yaxis()\n",
    "plt.title(\"Top 10 des caractéristiques les plus importantes avec LightGBM\")\n",
    "plt.show()"
   ]
  },
  {
   "cell_type": "code",
   "execution_count": 45,
   "metadata": {},
   "outputs": [],
   "source": [
    "# Liste des 10 principales caractéristiques\n",
    "top_10_lgb_columns = top_10_lgb[\"Feature\"].tolist()\n",
    "\n",
    "# Création d'un nouveau DataFrame avec seulement ces colonnes\n",
    "df_lgbm = df1[top_10_lgb_columns]"
   ]
  },
  {
   "cell_type": "code",
   "execution_count": 46,
   "metadata": {},
   "outputs": [
    {
     "name": "stderr",
     "output_type": "stream",
     "text": [
      "C:\\Users\\arken\\AppData\\Local\\Temp\\ipykernel_19844\\1999214517.py:1: SettingWithCopyWarning: \n",
      "A value is trying to be set on a copy of a slice from a DataFrame.\n",
      "Try using .loc[row_indexer,col_indexer] = value instead\n",
      "\n",
      "See the caveats in the documentation: https://pandas.pydata.org/pandas-docs/stable/user_guide/indexing.html#returning-a-view-versus-a-copy\n",
      "  df_lgbm[\"TARGET\"] = df2[\"TARGET\"]\n"
     ]
    }
   ],
   "source": [
    "df_lgbm[\"TARGET\"] = df2[\"TARGET\"]"
   ]
  },
  {
   "cell_type": "code",
   "execution_count": 47,
   "metadata": {},
   "outputs": [
    {
     "data": {
      "text/html": [
       "<div>\n",
       "<style scoped>\n",
       "    .dataframe tbody tr th:only-of-type {\n",
       "        vertical-align: middle;\n",
       "    }\n",
       "\n",
       "    .dataframe tbody tr th {\n",
       "        vertical-align: top;\n",
       "    }\n",
       "\n",
       "    .dataframe thead th {\n",
       "        text-align: right;\n",
       "    }\n",
       "</style>\n",
       "<table border=\"1\" class=\"dataframe\">\n",
       "  <thead>\n",
       "    <tr style=\"text-align: right;\">\n",
       "      <th></th>\n",
       "      <th>PAYMENT_RATE</th>\n",
       "      <th>EXT_SOURCE_1</th>\n",
       "      <th>EXT_SOURCE_3</th>\n",
       "      <th>EXT_SOURCE_2</th>\n",
       "      <th>DAYS_BIRTH</th>\n",
       "      <th>DAYS_EMPLOYED</th>\n",
       "      <th>AMT_ANNUITY</th>\n",
       "      <th>DAYS_ID_PUBLISH</th>\n",
       "      <th>AMT_GOODS_PRICE</th>\n",
       "      <th>AMT_CREDIT</th>\n",
       "      <th>TARGET</th>\n",
       "    </tr>\n",
       "    <tr>\n",
       "      <th>SK_ID_CURR</th>\n",
       "      <th></th>\n",
       "      <th></th>\n",
       "      <th></th>\n",
       "      <th></th>\n",
       "      <th></th>\n",
       "      <th></th>\n",
       "      <th></th>\n",
       "      <th></th>\n",
       "      <th></th>\n",
       "      <th></th>\n",
       "      <th></th>\n",
       "    </tr>\n",
       "  </thead>\n",
       "  <tbody>\n",
       "    <tr>\n",
       "      <th>100002</th>\n",
       "      <td>0.060749</td>\n",
       "      <td>0.083037</td>\n",
       "      <td>0.139376</td>\n",
       "      <td>0.262949</td>\n",
       "      <td>-9461</td>\n",
       "      <td>-637.0</td>\n",
       "      <td>24700.5</td>\n",
       "      <td>-2120</td>\n",
       "      <td>351000.0</td>\n",
       "      <td>406597.5</td>\n",
       "      <td>1.0</td>\n",
       "    </tr>\n",
       "    <tr>\n",
       "      <th>100003</th>\n",
       "      <td>0.027598</td>\n",
       "      <td>0.311267</td>\n",
       "      <td>0.509353</td>\n",
       "      <td>0.622246</td>\n",
       "      <td>-16765</td>\n",
       "      <td>-1188.0</td>\n",
       "      <td>35698.5</td>\n",
       "      <td>-291</td>\n",
       "      <td>1129500.0</td>\n",
       "      <td>1293502.5</td>\n",
       "      <td>0.0</td>\n",
       "    </tr>\n",
       "    <tr>\n",
       "      <th>100004</th>\n",
       "      <td>0.050000</td>\n",
       "      <td>0.501964</td>\n",
       "      <td>0.729567</td>\n",
       "      <td>0.555912</td>\n",
       "      <td>-19046</td>\n",
       "      <td>-225.0</td>\n",
       "      <td>6750.0</td>\n",
       "      <td>-2531</td>\n",
       "      <td>135000.0</td>\n",
       "      <td>135000.0</td>\n",
       "      <td>0.0</td>\n",
       "    </tr>\n",
       "    <tr>\n",
       "      <th>100006</th>\n",
       "      <td>0.094941</td>\n",
       "      <td>0.501964</td>\n",
       "      <td>0.509353</td>\n",
       "      <td>0.650442</td>\n",
       "      <td>-19005</td>\n",
       "      <td>-3039.0</td>\n",
       "      <td>29686.5</td>\n",
       "      <td>-2437</td>\n",
       "      <td>297000.0</td>\n",
       "      <td>312682.5</td>\n",
       "      <td>0.0</td>\n",
       "    </tr>\n",
       "    <tr>\n",
       "      <th>100007</th>\n",
       "      <td>0.042623</td>\n",
       "      <td>0.501964</td>\n",
       "      <td>0.509353</td>\n",
       "      <td>0.322738</td>\n",
       "      <td>-19932</td>\n",
       "      <td>-3038.0</td>\n",
       "      <td>21865.5</td>\n",
       "      <td>-3458</td>\n",
       "      <td>513000.0</td>\n",
       "      <td>513000.0</td>\n",
       "      <td>0.0</td>\n",
       "    </tr>\n",
       "  </tbody>\n",
       "</table>\n",
       "</div>"
      ],
      "text/plain": [
       "            PAYMENT_RATE  EXT_SOURCE_1  EXT_SOURCE_3  EXT_SOURCE_2  \\\n",
       "SK_ID_CURR                                                           \n",
       "100002          0.060749      0.083037      0.139376      0.262949   \n",
       "100003          0.027598      0.311267      0.509353      0.622246   \n",
       "100004          0.050000      0.501964      0.729567      0.555912   \n",
       "100006          0.094941      0.501964      0.509353      0.650442   \n",
       "100007          0.042623      0.501964      0.509353      0.322738   \n",
       "\n",
       "            DAYS_BIRTH  DAYS_EMPLOYED  AMT_ANNUITY  DAYS_ID_PUBLISH  \\\n",
       "SK_ID_CURR                                                            \n",
       "100002           -9461         -637.0      24700.5            -2120   \n",
       "100003          -16765        -1188.0      35698.5             -291   \n",
       "100004          -19046         -225.0       6750.0            -2531   \n",
       "100006          -19005        -3039.0      29686.5            -2437   \n",
       "100007          -19932        -3038.0      21865.5            -3458   \n",
       "\n",
       "            AMT_GOODS_PRICE  AMT_CREDIT  TARGET  \n",
       "SK_ID_CURR                                       \n",
       "100002             351000.0    406597.5     1.0  \n",
       "100003            1129500.0   1293502.5     0.0  \n",
       "100004             135000.0    135000.0     0.0  \n",
       "100006             297000.0    312682.5     0.0  \n",
       "100007             513000.0    513000.0     0.0  "
      ]
     },
     "execution_count": 47,
     "metadata": {},
     "output_type": "execute_result"
    }
   ],
   "source": [
    "df_lgbm.head()"
   ]
  },
  {
   "cell_type": "code",
   "execution_count": 48,
   "metadata": {},
   "outputs": [],
   "source": [
    "submission_file_name = \"../Data/Processed/fichier_lgbm.csv\"\n",
    "df_lgbm.to_csv(submission_file_name, index=True)"
   ]
  }
 ],
 "metadata": {
  "kernelspec": {
   "display_name": "7_alpha",
   "language": "python",
   "name": "7_alpha"
  },
  "language_info": {
   "codemirror_mode": {
    "name": "ipython",
    "version": 3
   },
   "file_extension": ".py",
   "mimetype": "text/x-python",
   "name": "python",
   "nbconvert_exporter": "python",
   "pygments_lexer": "ipython3",
   "version": "3.10.9"
  },
  "orig_nbformat": 4
 },
 "nbformat": 4,
 "nbformat_minor": 2
}
