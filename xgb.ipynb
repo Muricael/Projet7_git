{
 "cells": [
  {
   "cell_type": "code",
   "execution_count": 1,
   "metadata": {},
   "outputs": [
    {
     "name": "stderr",
     "output_type": "stream",
     "text": [
      "Using `tqdm.autonotebook.tqdm` in notebook mode. Use `tqdm.tqdm` instead to force console mode (e.g. in jupyter console)\n"
     ]
    }
   ],
   "source": [
    "import numpy as np\n",
    "import pandas as pd\n",
    "import time\n",
    "import matplotlib.pyplot as plt\n",
    "import seaborn as sns\n",
    "\n",
    "from sklearn.metrics import roc_auc_score, roc_curve, auc, accuracy_score, confusion_matrix\n",
    "from sklearn.metrics import make_scorer, recall_score, f1_score,precision_score\n",
    "\n",
    "from sklearn.model_selection import train_test_split\n",
    "from sklearn.ensemble import RandomForestClassifier\n",
    "from sklearn.dummy import DummyClassifier\n",
    "from sklearn.model_selection import GridSearchCV\n",
    "from sklearn.pipeline import Pipeline\n",
    "\n",
    "import xgboost as xgb\n",
    "from xgboost import XGBClassifier\n",
    "\n",
    "from imblearn.pipeline import make_pipeline\n",
    "from imblearn.pipeline import Pipeline as imPipeline\n",
    "from imblearn.over_sampling import SMOTE\n",
    "\n",
    "from joblib import dump, load\n",
    "import mlflow\n",
    "import dagshub\n",
    "import pickle\n",
    "import shap\n",
    "from lime.lime_tabular import LimeTabularExplainer\n",
    "\n",
    "from my_utilities import custom_loss, custom_scorer\n",
    "\n",
    "import evidently\n",
    "from evidently import ColumnMapping\n",
    "\n",
    "from evidently.report import Report\n",
    "from evidently.metrics.base_metric import generate_column_metrics\n",
    "from evidently.metric_preset import DataDriftPreset, TargetDriftPreset, DataQualityPreset, RegressionPreset\n",
    "from evidently.metrics import ColumnSummaryMetric, ColumnQuantileMetric, ColumnDriftMetric\n",
    "from evidently.metrics import *\n",
    "\n",
    "from evidently.test_suite import TestSuite\n",
    "from evidently.tests.base_test import generate_column_tests\n",
    "from evidently.test_preset import DataStabilityTestPreset, NoTargetPerformanceTestPreset\n",
    "from evidently.tests import *"
   ]
  },
  {
   "cell_type": "code",
   "execution_count": 2,
   "metadata": {},
   "outputs": [
    {
     "data": {
      "text/html": [
       "<pre style=\"white-space:pre;overflow-x:auto;line-height:normal;font-family:Menlo,'DejaVu Sans Mono',consolas,'Courier New',monospace\">Repository initialized!\n",
       "</pre>\n"
      ],
      "text/plain": [
       "Repository initialized!\n"
      ]
     },
     "metadata": {},
     "output_type": "display_data"
    }
   ],
   "source": [
    "dagshub.init(\"Projet7\", \"alexandre\", mlflow=True)"
   ]
  },
  {
   "cell_type": "code",
   "execution_count": 3,
   "metadata": {},
   "outputs": [],
   "source": [
    "mlflow.set_tracking_uri(\"https://dagshub.com/alexandre/Projet7.mlflow\")"
   ]
  },
  {
   "cell_type": "code",
   "execution_count": 4,
   "metadata": {},
   "outputs": [
    {
     "data": {
      "text/plain": [
       "<Experiment: artifact_location='mlflow-artifacts:/04e0537cf3f7468b8c6418159d45db8e', creation_time=1692228764226, experiment_id='0', last_update_time=1692228764226, lifecycle_stage='active', name='XGBoost', tags={}>"
      ]
     },
     "execution_count": 4,
     "metadata": {},
     "output_type": "execute_result"
    }
   ],
   "source": [
    "mlflow.set_experiment(\"XGBoost\")"
   ]
  },
  {
   "cell_type": "code",
   "execution_count": 5,
   "metadata": {},
   "outputs": [],
   "source": [
    "# chargement de base de données\n",
    "df = pd.read_csv(\"../Data/Processed/fichier_xgb.csv\", index_col=\"SK_ID_CURR\")"
   ]
  },
  {
   "cell_type": "code",
   "execution_count": 6,
   "metadata": {},
   "outputs": [
    {
     "data": {
      "text/html": [
       "<div>\n",
       "<style scoped>\n",
       "    .dataframe tbody tr th:only-of-type {\n",
       "        vertical-align: middle;\n",
       "    }\n",
       "\n",
       "    .dataframe tbody tr th {\n",
       "        vertical-align: top;\n",
       "    }\n",
       "\n",
       "    .dataframe thead th {\n",
       "        text-align: right;\n",
       "    }\n",
       "</style>\n",
       "<table border=\"1\" class=\"dataframe\">\n",
       "  <thead>\n",
       "    <tr style=\"text-align: right;\">\n",
       "      <th></th>\n",
       "      <th>EXT_SOURCE_3</th>\n",
       "      <th>EXT_SOURCE_2</th>\n",
       "      <th>NAME_INCOME_TYPE_Working</th>\n",
       "      <th>NAME_EDUCATION_TYPE_Secondary / secondary special</th>\n",
       "      <th>NAME_EDUCATION_TYPE_Higher education</th>\n",
       "      <th>OCCUPATION_TYPE_Core staff</th>\n",
       "      <th>FLAG_DOCUMENT_3</th>\n",
       "      <th>AMT_REQ_CREDIT_BUREAU_HOUR</th>\n",
       "      <th>CODE_GENDER</th>\n",
       "      <th>PAYMENT_RATE</th>\n",
       "      <th>TARGET</th>\n",
       "    </tr>\n",
       "    <tr>\n",
       "      <th>SK_ID_CURR</th>\n",
       "      <th></th>\n",
       "      <th></th>\n",
       "      <th></th>\n",
       "      <th></th>\n",
       "      <th></th>\n",
       "      <th></th>\n",
       "      <th></th>\n",
       "      <th></th>\n",
       "      <th></th>\n",
       "      <th></th>\n",
       "      <th></th>\n",
       "    </tr>\n",
       "  </thead>\n",
       "  <tbody>\n",
       "    <tr>\n",
       "      <th>100002</th>\n",
       "      <td>0.139376</td>\n",
       "      <td>0.262949</td>\n",
       "      <td>True</td>\n",
       "      <td>True</td>\n",
       "      <td>False</td>\n",
       "      <td>False</td>\n",
       "      <td>1</td>\n",
       "      <td>0.000000</td>\n",
       "      <td>0</td>\n",
       "      <td>0.060749</td>\n",
       "      <td>1.0</td>\n",
       "    </tr>\n",
       "    <tr>\n",
       "      <th>100003</th>\n",
       "      <td>0.509353</td>\n",
       "      <td>0.622246</td>\n",
       "      <td>False</td>\n",
       "      <td>False</td>\n",
       "      <td>True</td>\n",
       "      <td>True</td>\n",
       "      <td>1</td>\n",
       "      <td>0.000000</td>\n",
       "      <td>1</td>\n",
       "      <td>0.027598</td>\n",
       "      <td>0.0</td>\n",
       "    </tr>\n",
       "    <tr>\n",
       "      <th>100004</th>\n",
       "      <td>0.729567</td>\n",
       "      <td>0.555912</td>\n",
       "      <td>True</td>\n",
       "      <td>True</td>\n",
       "      <td>False</td>\n",
       "      <td>False</td>\n",
       "      <td>0</td>\n",
       "      <td>0.000000</td>\n",
       "      <td>0</td>\n",
       "      <td>0.050000</td>\n",
       "      <td>0.0</td>\n",
       "    </tr>\n",
       "    <tr>\n",
       "      <th>100006</th>\n",
       "      <td>0.509353</td>\n",
       "      <td>0.650442</td>\n",
       "      <td>True</td>\n",
       "      <td>True</td>\n",
       "      <td>False</td>\n",
       "      <td>False</td>\n",
       "      <td>1</td>\n",
       "      <td>0.005809</td>\n",
       "      <td>1</td>\n",
       "      <td>0.094941</td>\n",
       "      <td>0.0</td>\n",
       "    </tr>\n",
       "    <tr>\n",
       "      <th>100007</th>\n",
       "      <td>0.509353</td>\n",
       "      <td>0.322738</td>\n",
       "      <td>True</td>\n",
       "      <td>True</td>\n",
       "      <td>False</td>\n",
       "      <td>True</td>\n",
       "      <td>0</td>\n",
       "      <td>0.000000</td>\n",
       "      <td>0</td>\n",
       "      <td>0.042623</td>\n",
       "      <td>0.0</td>\n",
       "    </tr>\n",
       "  </tbody>\n",
       "</table>\n",
       "</div>"
      ],
      "text/plain": [
       "            EXT_SOURCE_3  EXT_SOURCE_2  NAME_INCOME_TYPE_Working  \\\n",
       "SK_ID_CURR                                                         \n",
       "100002          0.139376      0.262949                      True   \n",
       "100003          0.509353      0.622246                     False   \n",
       "100004          0.729567      0.555912                      True   \n",
       "100006          0.509353      0.650442                      True   \n",
       "100007          0.509353      0.322738                      True   \n",
       "\n",
       "            NAME_EDUCATION_TYPE_Secondary / secondary special  \\\n",
       "SK_ID_CURR                                                      \n",
       "100002                                                   True   \n",
       "100003                                                  False   \n",
       "100004                                                   True   \n",
       "100006                                                   True   \n",
       "100007                                                   True   \n",
       "\n",
       "            NAME_EDUCATION_TYPE_Higher education  OCCUPATION_TYPE_Core staff  \\\n",
       "SK_ID_CURR                                                                     \n",
       "100002                                     False                       False   \n",
       "100003                                      True                        True   \n",
       "100004                                     False                       False   \n",
       "100006                                     False                       False   \n",
       "100007                                     False                        True   \n",
       "\n",
       "            FLAG_DOCUMENT_3  AMT_REQ_CREDIT_BUREAU_HOUR  CODE_GENDER  \\\n",
       "SK_ID_CURR                                                             \n",
       "100002                    1                    0.000000            0   \n",
       "100003                    1                    0.000000            1   \n",
       "100004                    0                    0.000000            0   \n",
       "100006                    1                    0.005809            1   \n",
       "100007                    0                    0.000000            0   \n",
       "\n",
       "            PAYMENT_RATE  TARGET  \n",
       "SK_ID_CURR                        \n",
       "100002          0.060749     1.0  \n",
       "100003          0.027598     0.0  \n",
       "100004          0.050000     0.0  \n",
       "100006          0.094941     0.0  \n",
       "100007          0.042623     0.0  "
      ]
     },
     "execution_count": 6,
     "metadata": {},
     "output_type": "execute_result"
    }
   ],
   "source": [
    "df.head()"
   ]
  },
  {
   "cell_type": "code",
   "execution_count": 7,
   "metadata": {},
   "outputs": [],
   "source": [
    "df = df.rename(columns={\"EXT_SOURCE_3\":\"Source_3\",\n",
    "                        \"EXT_SOURCE_2\" : \"Source_2\",\n",
    "                        \"NAME_INCOME_TYPE_Working\" : \"Travail\",\n",
    "                        \"NAME_EDUCATION_TYPE_Secondary / secondary special\" : \"Lycée\",\n",
    "                        \"NAME_EDUCATION_TYPE_Higher education\" : \"Etudes Sup\",\n",
    "                        \"OCCUPATION_TYPE_Core staff\" : \"Cadre\",\n",
    "                        \"FLAG_DOCUMENT_3\" : \"Indic_doc 3\",\n",
    "                        \"AMT_REQ_CREDIT_BUREAU_HOUR\" : \"Nb demandes/h\",\n",
    "                        \"CODE_GENDER\" : \"Sexe\",\n",
    "                        \"PAYMENT_RATE\" : \"Tx pay.\",\n",
    "                })"
   ]
  },
  {
   "cell_type": "code",
   "execution_count": 8,
   "metadata": {},
   "outputs": [],
   "source": [
    "cols_to_convert = ['Travail', 'Lycée', 'Etudes Sup', 'Cadre', 'TARGET']\n",
    "for col in cols_to_convert:\n",
    "    df[col] = df[col].astype(int)"
   ]
  },
  {
   "cell_type": "code",
   "execution_count": 9,
   "metadata": {},
   "outputs": [
    {
     "data": {
      "text/plain": [
       "Source_3         float64\n",
       "Source_2         float64\n",
       "Travail            int32\n",
       "Lycée              int32\n",
       "Etudes Sup         int32\n",
       "Cadre              int32\n",
       "Indic_doc 3        int64\n",
       "Nb demandes/h    float64\n",
       "Sexe               int64\n",
       "Tx pay.          float64\n",
       "TARGET             int32\n",
       "dtype: object"
      ]
     },
     "execution_count": 9,
     "metadata": {},
     "output_type": "execute_result"
    }
   ],
   "source": [
    "df.dtypes"
   ]
  },
  {
   "cell_type": "code",
   "execution_count": 10,
   "metadata": {},
   "outputs": [
    {
     "data": {
      "text/html": [
       "<div>\n",
       "<style scoped>\n",
       "    .dataframe tbody tr th:only-of-type {\n",
       "        vertical-align: middle;\n",
       "    }\n",
       "\n",
       "    .dataframe tbody tr th {\n",
       "        vertical-align: top;\n",
       "    }\n",
       "\n",
       "    .dataframe thead th {\n",
       "        text-align: right;\n",
       "    }\n",
       "</style>\n",
       "<table border=\"1\" class=\"dataframe\">\n",
       "  <thead>\n",
       "    <tr style=\"text-align: right;\">\n",
       "      <th></th>\n",
       "      <th>Source_3</th>\n",
       "      <th>Source_2</th>\n",
       "      <th>Travail</th>\n",
       "      <th>Lycée</th>\n",
       "      <th>Etudes Sup</th>\n",
       "      <th>Cadre</th>\n",
       "      <th>Indic_doc 3</th>\n",
       "      <th>Nb demandes/h</th>\n",
       "      <th>Sexe</th>\n",
       "      <th>Tx pay.</th>\n",
       "      <th>TARGET</th>\n",
       "    </tr>\n",
       "    <tr>\n",
       "      <th>SK_ID_CURR</th>\n",
       "      <th></th>\n",
       "      <th></th>\n",
       "      <th></th>\n",
       "      <th></th>\n",
       "      <th></th>\n",
       "      <th></th>\n",
       "      <th></th>\n",
       "      <th></th>\n",
       "      <th></th>\n",
       "      <th></th>\n",
       "      <th></th>\n",
       "    </tr>\n",
       "  </thead>\n",
       "  <tbody>\n",
       "    <tr>\n",
       "      <th>100002</th>\n",
       "      <td>0.139376</td>\n",
       "      <td>0.262949</td>\n",
       "      <td>1</td>\n",
       "      <td>1</td>\n",
       "      <td>0</td>\n",
       "      <td>0</td>\n",
       "      <td>1</td>\n",
       "      <td>0.000000</td>\n",
       "      <td>0</td>\n",
       "      <td>0.060749</td>\n",
       "      <td>1</td>\n",
       "    </tr>\n",
       "    <tr>\n",
       "      <th>100003</th>\n",
       "      <td>0.509353</td>\n",
       "      <td>0.622246</td>\n",
       "      <td>0</td>\n",
       "      <td>0</td>\n",
       "      <td>1</td>\n",
       "      <td>1</td>\n",
       "      <td>1</td>\n",
       "      <td>0.000000</td>\n",
       "      <td>1</td>\n",
       "      <td>0.027598</td>\n",
       "      <td>0</td>\n",
       "    </tr>\n",
       "    <tr>\n",
       "      <th>100004</th>\n",
       "      <td>0.729567</td>\n",
       "      <td>0.555912</td>\n",
       "      <td>1</td>\n",
       "      <td>1</td>\n",
       "      <td>0</td>\n",
       "      <td>0</td>\n",
       "      <td>0</td>\n",
       "      <td>0.000000</td>\n",
       "      <td>0</td>\n",
       "      <td>0.050000</td>\n",
       "      <td>0</td>\n",
       "    </tr>\n",
       "    <tr>\n",
       "      <th>100006</th>\n",
       "      <td>0.509353</td>\n",
       "      <td>0.650442</td>\n",
       "      <td>1</td>\n",
       "      <td>1</td>\n",
       "      <td>0</td>\n",
       "      <td>0</td>\n",
       "      <td>1</td>\n",
       "      <td>0.005809</td>\n",
       "      <td>1</td>\n",
       "      <td>0.094941</td>\n",
       "      <td>0</td>\n",
       "    </tr>\n",
       "    <tr>\n",
       "      <th>100007</th>\n",
       "      <td>0.509353</td>\n",
       "      <td>0.322738</td>\n",
       "      <td>1</td>\n",
       "      <td>1</td>\n",
       "      <td>0</td>\n",
       "      <td>1</td>\n",
       "      <td>0</td>\n",
       "      <td>0.000000</td>\n",
       "      <td>0</td>\n",
       "      <td>0.042623</td>\n",
       "      <td>0</td>\n",
       "    </tr>\n",
       "  </tbody>\n",
       "</table>\n",
       "</div>"
      ],
      "text/plain": [
       "            Source_3  Source_2  Travail  Lycée  Etudes Sup  Cadre  \\\n",
       "SK_ID_CURR                                                          \n",
       "100002      0.139376  0.262949        1      1           0      0   \n",
       "100003      0.509353  0.622246        0      0           1      1   \n",
       "100004      0.729567  0.555912        1      1           0      0   \n",
       "100006      0.509353  0.650442        1      1           0      0   \n",
       "100007      0.509353  0.322738        1      1           0      1   \n",
       "\n",
       "            Indic_doc 3  Nb demandes/h  Sexe   Tx pay.  TARGET  \n",
       "SK_ID_CURR                                                      \n",
       "100002                1       0.000000     0  0.060749       1  \n",
       "100003                1       0.000000     1  0.027598       0  \n",
       "100004                0       0.000000     0  0.050000       0  \n",
       "100006                1       0.005809     1  0.094941       0  \n",
       "100007                0       0.000000     0  0.042623       0  "
      ]
     },
     "execution_count": 10,
     "metadata": {},
     "output_type": "execute_result"
    }
   ],
   "source": [
    "df.head()"
   ]
  },
  {
   "cell_type": "code",
   "execution_count": 11,
   "metadata": {},
   "outputs": [],
   "source": [
    "cols_to_convert = ['Travail', 'Lycée', 'Etudes Sup', 'Cadre']\n",
    "for col in cols_to_convert:\n",
    "    df[col] = df[col].astype(int)"
   ]
  },
  {
   "cell_type": "code",
   "execution_count": 12,
   "metadata": {},
   "outputs": [],
   "source": [
    "# Définir la fonction de perte personnalisée\n",
    "def custom_loss(y_true, y_pred):\n",
    "    cm = confusion_matrix(y_true, y_pred)\n",
    "    fn_weight = 10.0  # poids pour les faux négatifs\n",
    "    fp_weight = 10.0  # poids pour les faux positifs\n",
    "    return cm[0, 1] * fp_weight + cm[1, 0] * fn_weight"
   ]
  },
  {
   "cell_type": "code",
   "execution_count": 13,
   "metadata": {},
   "outputs": [],
   "source": [
    "# Faire une fonction d'évaluation personnalisée pour GridSearch\n",
    "custom_scorer = make_scorer(custom_loss, greater_is_better=False)"
   ]
  },
  {
   "cell_type": "code",
   "execution_count": 14,
   "metadata": {},
   "outputs": [],
   "source": [
    "# Séparer les données d'entraînement et de test\n",
    "train_test_data = df.dropna(subset=[\"TARGET\"])\n",
    "X = train_test_data.drop(columns=[\"TARGET\"])\n",
    "y = train_test_data[\"TARGET\"]\n",
    "X_train, X_test, y_train, y_test = train_test_split(\n",
    "    X, y, test_size=0.2, random_state=42\n",
    ")"
   ]
  },
  {
   "cell_type": "code",
   "execution_count": 15,
   "metadata": {},
   "outputs": [],
   "source": [
    "# Combinez X_train et y_train en un seul dataframe\n",
    "train_df = pd.concat([X_train, y_train], axis=1)\n",
    "train_df.to_csv('../Data/Processed/train_data.csv', index=True)\n",
    "train_df.to_csv('train_data.csv', index=True)\n",
    "combine1 = pd.read_csv('train_data.csv', index_col=\"SK_ID_CURR\")\n",
    "\n",
    "train_df = pd.concat([X_test, y_test], axis=1)\n",
    "train_df.to_csv('../Data/Processed/test_data.csv', index=True)\n",
    "train_df.to_csv('test_data.csv', index=True)\n",
    "combine2 = pd.read_csv('test_data.csv', index_col=\"SK_ID_CURR\")\n",
    "\n",
    "complet = df.dropna(subset=[\"TARGET\"])\n",
    "complet.to_csv(\"complet_data.csv\", index=True)"
   ]
  },
  {
   "cell_type": "code",
   "execution_count": 16,
   "metadata": {},
   "outputs": [
    {
     "data": {
      "text/html": [
       "<div>\n",
       "<style scoped>\n",
       "    .dataframe tbody tr th:only-of-type {\n",
       "        vertical-align: middle;\n",
       "    }\n",
       "\n",
       "    .dataframe tbody tr th {\n",
       "        vertical-align: top;\n",
       "    }\n",
       "\n",
       "    .dataframe thead th {\n",
       "        text-align: right;\n",
       "    }\n",
       "</style>\n",
       "<table border=\"1\" class=\"dataframe\">\n",
       "  <thead>\n",
       "    <tr style=\"text-align: right;\">\n",
       "      <th></th>\n",
       "      <th>Source_3</th>\n",
       "      <th>Source_2</th>\n",
       "      <th>Travail</th>\n",
       "      <th>Lycée</th>\n",
       "      <th>Etudes Sup</th>\n",
       "      <th>Cadre</th>\n",
       "      <th>Indic_doc 3</th>\n",
       "      <th>Nb demandes/h</th>\n",
       "      <th>Sexe</th>\n",
       "      <th>Tx pay.</th>\n",
       "      <th>TARGET</th>\n",
       "    </tr>\n",
       "    <tr>\n",
       "      <th>SK_ID_CURR</th>\n",
       "      <th></th>\n",
       "      <th></th>\n",
       "      <th></th>\n",
       "      <th></th>\n",
       "      <th></th>\n",
       "      <th></th>\n",
       "      <th></th>\n",
       "      <th></th>\n",
       "      <th></th>\n",
       "      <th></th>\n",
       "      <th></th>\n",
       "    </tr>\n",
       "  </thead>\n",
       "  <tbody>\n",
       "    <tr>\n",
       "      <th>414523</th>\n",
       "      <td>0.475850</td>\n",
       "      <td>0.575182</td>\n",
       "      <td>1</td>\n",
       "      <td>1</td>\n",
       "      <td>0</td>\n",
       "      <td>1</td>\n",
       "      <td>1</td>\n",
       "      <td>0.000000</td>\n",
       "      <td>1</td>\n",
       "      <td>0.029356</td>\n",
       "      <td>1</td>\n",
       "    </tr>\n",
       "    <tr>\n",
       "      <th>307855</th>\n",
       "      <td>0.509353</td>\n",
       "      <td>0.043098</td>\n",
       "      <td>0</td>\n",
       "      <td>1</td>\n",
       "      <td>0</td>\n",
       "      <td>0</td>\n",
       "      <td>0</td>\n",
       "      <td>0.000000</td>\n",
       "      <td>1</td>\n",
       "      <td>0.048830</td>\n",
       "      <td>0</td>\n",
       "    </tr>\n",
       "    <tr>\n",
       "      <th>172194</th>\n",
       "      <td>0.509353</td>\n",
       "      <td>0.707461</td>\n",
       "      <td>0</td>\n",
       "      <td>0</td>\n",
       "      <td>0</td>\n",
       "      <td>1</td>\n",
       "      <td>0</td>\n",
       "      <td>0.005809</td>\n",
       "      <td>1</td>\n",
       "      <td>0.051469</td>\n",
       "      <td>0</td>\n",
       "    </tr>\n",
       "    <tr>\n",
       "      <th>435350</th>\n",
       "      <td>0.754406</td>\n",
       "      <td>0.696917</td>\n",
       "      <td>0</td>\n",
       "      <td>1</td>\n",
       "      <td>0</td>\n",
       "      <td>0</td>\n",
       "      <td>0</td>\n",
       "      <td>0.000000</td>\n",
       "      <td>1</td>\n",
       "      <td>0.028941</td>\n",
       "      <td>0</td>\n",
       "    </tr>\n",
       "    <tr>\n",
       "      <th>289615</th>\n",
       "      <td>0.553165</td>\n",
       "      <td>0.729247</td>\n",
       "      <td>1</td>\n",
       "      <td>0</td>\n",
       "      <td>1</td>\n",
       "      <td>1</td>\n",
       "      <td>0</td>\n",
       "      <td>0.000000</td>\n",
       "      <td>1</td>\n",
       "      <td>0.107700</td>\n",
       "      <td>0</td>\n",
       "    </tr>\n",
       "  </tbody>\n",
       "</table>\n",
       "</div>"
      ],
      "text/plain": [
       "            Source_3  Source_2  Travail  Lycée  Etudes Sup  Cadre  \\\n",
       "SK_ID_CURR                                                          \n",
       "414523      0.475850  0.575182        1      1           0      1   \n",
       "307855      0.509353  0.043098        0      1           0      0   \n",
       "172194      0.509353  0.707461        0      0           0      1   \n",
       "435350      0.754406  0.696917        0      1           0      0   \n",
       "289615      0.553165  0.729247        1      0           1      1   \n",
       "\n",
       "            Indic_doc 3  Nb demandes/h  Sexe   Tx pay.  TARGET  \n",
       "SK_ID_CURR                                                      \n",
       "414523                1       0.000000     1  0.029356       1  \n",
       "307855                0       0.000000     1  0.048830       0  \n",
       "172194                0       0.005809     1  0.051469       0  \n",
       "435350                0       0.000000     1  0.028941       0  \n",
       "289615                0       0.000000     1  0.107700       0  "
      ]
     },
     "execution_count": 16,
     "metadata": {},
     "output_type": "execute_result"
    }
   ],
   "source": [
    "train_df.head()"
   ]
  },
  {
   "cell_type": "code",
   "execution_count": 17,
   "metadata": {},
   "outputs": [
    {
     "data": {
      "text/html": [
       "<div>\n",
       "<style scoped>\n",
       "    .dataframe tbody tr th:only-of-type {\n",
       "        vertical-align: middle;\n",
       "    }\n",
       "\n",
       "    .dataframe tbody tr th {\n",
       "        vertical-align: top;\n",
       "    }\n",
       "\n",
       "    .dataframe thead th {\n",
       "        text-align: right;\n",
       "    }\n",
       "</style>\n",
       "<table border=\"1\" class=\"dataframe\">\n",
       "  <thead>\n",
       "    <tr style=\"text-align: right;\">\n",
       "      <th></th>\n",
       "      <th>Source_3</th>\n",
       "      <th>Source_2</th>\n",
       "      <th>Travail</th>\n",
       "      <th>Lycée</th>\n",
       "      <th>Etudes Sup</th>\n",
       "      <th>Cadre</th>\n",
       "      <th>Indic_doc 3</th>\n",
       "      <th>Nb demandes/h</th>\n",
       "      <th>Sexe</th>\n",
       "      <th>Tx pay.</th>\n",
       "      <th>TARGET</th>\n",
       "    </tr>\n",
       "    <tr>\n",
       "      <th>SK_ID_CURR</th>\n",
       "      <th></th>\n",
       "      <th></th>\n",
       "      <th></th>\n",
       "      <th></th>\n",
       "      <th></th>\n",
       "      <th></th>\n",
       "      <th></th>\n",
       "      <th></th>\n",
       "      <th></th>\n",
       "      <th></th>\n",
       "      <th></th>\n",
       "    </tr>\n",
       "  </thead>\n",
       "  <tbody>\n",
       "    <tr>\n",
       "      <th>100002</th>\n",
       "      <td>0.139376</td>\n",
       "      <td>0.262949</td>\n",
       "      <td>1</td>\n",
       "      <td>1</td>\n",
       "      <td>0</td>\n",
       "      <td>0</td>\n",
       "      <td>1</td>\n",
       "      <td>0.000000</td>\n",
       "      <td>0</td>\n",
       "      <td>0.060749</td>\n",
       "      <td>1</td>\n",
       "    </tr>\n",
       "    <tr>\n",
       "      <th>100003</th>\n",
       "      <td>0.509353</td>\n",
       "      <td>0.622246</td>\n",
       "      <td>0</td>\n",
       "      <td>0</td>\n",
       "      <td>1</td>\n",
       "      <td>1</td>\n",
       "      <td>1</td>\n",
       "      <td>0.000000</td>\n",
       "      <td>1</td>\n",
       "      <td>0.027598</td>\n",
       "      <td>0</td>\n",
       "    </tr>\n",
       "    <tr>\n",
       "      <th>100004</th>\n",
       "      <td>0.729567</td>\n",
       "      <td>0.555912</td>\n",
       "      <td>1</td>\n",
       "      <td>1</td>\n",
       "      <td>0</td>\n",
       "      <td>0</td>\n",
       "      <td>0</td>\n",
       "      <td>0.000000</td>\n",
       "      <td>0</td>\n",
       "      <td>0.050000</td>\n",
       "      <td>0</td>\n",
       "    </tr>\n",
       "    <tr>\n",
       "      <th>100006</th>\n",
       "      <td>0.509353</td>\n",
       "      <td>0.650442</td>\n",
       "      <td>1</td>\n",
       "      <td>1</td>\n",
       "      <td>0</td>\n",
       "      <td>0</td>\n",
       "      <td>1</td>\n",
       "      <td>0.005809</td>\n",
       "      <td>1</td>\n",
       "      <td>0.094941</td>\n",
       "      <td>0</td>\n",
       "    </tr>\n",
       "    <tr>\n",
       "      <th>100007</th>\n",
       "      <td>0.509353</td>\n",
       "      <td>0.322738</td>\n",
       "      <td>1</td>\n",
       "      <td>1</td>\n",
       "      <td>0</td>\n",
       "      <td>1</td>\n",
       "      <td>0</td>\n",
       "      <td>0.000000</td>\n",
       "      <td>0</td>\n",
       "      <td>0.042623</td>\n",
       "      <td>0</td>\n",
       "    </tr>\n",
       "  </tbody>\n",
       "</table>\n",
       "</div>"
      ],
      "text/plain": [
       "            Source_3  Source_2  Travail  Lycée  Etudes Sup  Cadre  \\\n",
       "SK_ID_CURR                                                          \n",
       "100002      0.139376  0.262949        1      1           0      0   \n",
       "100003      0.509353  0.622246        0      0           1      1   \n",
       "100004      0.729567  0.555912        1      1           0      0   \n",
       "100006      0.509353  0.650442        1      1           0      0   \n",
       "100007      0.509353  0.322738        1      1           0      1   \n",
       "\n",
       "            Indic_doc 3  Nb demandes/h  Sexe   Tx pay.  TARGET  \n",
       "SK_ID_CURR                                                      \n",
       "100002                1       0.000000     0  0.060749       1  \n",
       "100003                1       0.000000     1  0.027598       0  \n",
       "100004                0       0.000000     0  0.050000       0  \n",
       "100006                1       0.005809     1  0.094941       0  \n",
       "100007                0       0.000000     0  0.042623       0  "
      ]
     },
     "execution_count": 17,
     "metadata": {},
     "output_type": "execute_result"
    }
   ],
   "source": [
    "complet.head()"
   ]
  },
  {
   "cell_type": "code",
   "execution_count": 18,
   "metadata": {},
   "outputs": [
    {
     "name": "stderr",
     "output_type": "stream",
     "text": [
      "Setuptools is replacing distutils.\n"
     ]
    }
   ],
   "source": [
    "# Initialiser le DummyClassifier\n",
    "dummy_clf = DummyClassifier(\n",
    "    strategy=\"most_frequent\"\n",
    ")  \n",
    "\n",
    "dummy_clf.fit(X_train, y_train)\n",
    "\n",
    "y_pred_dummy = dummy_clf.predict(X_test)\n",
    "\n",
    "roc_auc_dummy = roc_auc_score(y_test, y_pred_dummy)\n",
    "accuracy_dummy = accuracy_score(y_test, y_pred_dummy)\n",
    "cm_dummy = confusion_matrix(y_test, y_pred_dummy)\n",
    "\n",
    "path_cm_dummy = \"Divers/confusion_matrix_dummy.txt\"\n",
    "with open(path_cm_dummy, \"w\") as f:\n",
    "    f.write(str(cm_dummy))\n",
    "\n",
    "with mlflow.start_run(run_name=\"Dummy\") as run:\n",
    "    \n",
    "    mlflow.log_metric(\"roc_auc_dummy\", roc_auc_dummy)\n",
    "    mlflow.log_metric(\"accuracy\", accuracy_dummy)\n",
    "\n",
    "    mlflow.log_artifact(path_cm_dummy)\n",
    "\n",
    "    mlflow.sklearn.log_model(dummy_clf, \"dummy_model\")"
   ]
  },
  {
   "cell_type": "code",
   "execution_count": 19,
   "metadata": {},
   "outputs": [
    {
     "name": "stdout",
     "output_type": "stream",
     "text": [
      "ROC AUC = 0.5\n",
      "ACCURACY = 0.9188213484242365\n",
      "[[56502     0]\n",
      " [ 4992     0]]\n"
     ]
    }
   ],
   "source": [
    "print(\"ROC AUC =\", roc_auc_dummy)\n",
    "print(\"ACCURACY =\", accuracy_dummy)\n",
    "print(cm_dummy)"
   ]
  },
  {
   "cell_type": "code",
   "execution_count": 20,
   "metadata": {},
   "outputs": [],
   "source": [
    "# Instancier le modèle XGBoost\n",
    "model_xgb_opti = xgb.XGBClassifier()\n",
    "\n",
    "# Création du pipeline\n",
    "pipeline = imPipeline([(\"smote\", SMOTE()), (\"xgb\", model_xgb_opti)])\n",
    "\n",
    "# Paramètres à tester\n",
    "param_grid = {\n",
    "    \"xgb__max_depth\": [5,7],\n",
    "    \"xgb__learning_rate\": [0.1, 0.01],\n",
    "    \"xgb__n_estimators\": [100, 200],\n",
    "}\n",
    "\n",
    "# Création du GridSearch\n",
    "grid_search_xgb_opti = GridSearchCV(\n",
    "    estimator=pipeline, param_grid=param_grid, scoring=custom_scorer, cv=3, n_jobs=-1\n",
    ")\n",
    "\n",
    "# Adapter le modèle\n",
    "grid_search_xgb_opti.fit(X_train, y_train)\n",
    "\n",
    "# Prédire sur l'ensemble de test\n",
    "y_pred = grid_search_xgb_opti.predict(X_test)"
   ]
  },
  {
   "cell_type": "code",
   "execution_count": 21,
   "metadata": {},
   "outputs": [],
   "source": [
    "# Instancier le modèle XGBoost\n",
    "model_xgb_opti = xgb.XGBClassifier()\n",
    "\n",
    "# Création du pipeline\n",
    "pipeline = imPipeline([(\"smote\", SMOTE()), (\"xgb\", model_xgb_opti)])\n",
    "\n",
    "# Paramètres à tester\n",
    "param_grid = {\n",
    "    \"xgb__max_depth\": [7],\n",
    "    \"xgb__learning_rate\": [0.1],\n",
    "    \"xgb__n_estimators\": [200],\n",
    "}\n",
    "\n",
    "# Création du GridSearch\n",
    "grid_search_xgb_opti = GridSearchCV(\n",
    "    estimator=pipeline, param_grid=param_grid, scoring=custom_scorer, cv=3, n_jobs=-1\n",
    ")\n",
    "\n",
    "# Adapter le modèle\n",
    "grid_search_xgb_opti.fit(X_train, y_train)\n",
    "\n",
    "# Prédire sur l'ensemble de test\n",
    "y_pred = grid_search_xgb_opti.predict(X_test)\n",
    "best_model = grid_search_xgb_opti.best_estimator_"
   ]
  },
  {
   "cell_type": "code",
   "execution_count": 22,
   "metadata": {},
   "outputs": [
    {
     "data": {
      "text/html": [
       "<style>#sk-container-id-1 {color: black;}#sk-container-id-1 pre{padding: 0;}#sk-container-id-1 div.sk-toggleable {background-color: white;}#sk-container-id-1 label.sk-toggleable__label {cursor: pointer;display: block;width: 100%;margin-bottom: 0;padding: 0.3em;box-sizing: border-box;text-align: center;}#sk-container-id-1 label.sk-toggleable__label-arrow:before {content: \"▸\";float: left;margin-right: 0.25em;color: #696969;}#sk-container-id-1 label.sk-toggleable__label-arrow:hover:before {color: black;}#sk-container-id-1 div.sk-estimator:hover label.sk-toggleable__label-arrow:before {color: black;}#sk-container-id-1 div.sk-toggleable__content {max-height: 0;max-width: 0;overflow: hidden;text-align: left;background-color: #f0f8ff;}#sk-container-id-1 div.sk-toggleable__content pre {margin: 0.2em;color: black;border-radius: 0.25em;background-color: #f0f8ff;}#sk-container-id-1 input.sk-toggleable__control:checked~div.sk-toggleable__content {max-height: 200px;max-width: 100%;overflow: auto;}#sk-container-id-1 input.sk-toggleable__control:checked~label.sk-toggleable__label-arrow:before {content: \"▾\";}#sk-container-id-1 div.sk-estimator input.sk-toggleable__control:checked~label.sk-toggleable__label {background-color: #d4ebff;}#sk-container-id-1 div.sk-label input.sk-toggleable__control:checked~label.sk-toggleable__label {background-color: #d4ebff;}#sk-container-id-1 input.sk-hidden--visually {border: 0;clip: rect(1px 1px 1px 1px);clip: rect(1px, 1px, 1px, 1px);height: 1px;margin: -1px;overflow: hidden;padding: 0;position: absolute;width: 1px;}#sk-container-id-1 div.sk-estimator {font-family: monospace;background-color: #f0f8ff;border: 1px dotted black;border-radius: 0.25em;box-sizing: border-box;margin-bottom: 0.5em;}#sk-container-id-1 div.sk-estimator:hover {background-color: #d4ebff;}#sk-container-id-1 div.sk-parallel-item::after {content: \"\";width: 100%;border-bottom: 1px solid gray;flex-grow: 1;}#sk-container-id-1 div.sk-label:hover label.sk-toggleable__label {background-color: #d4ebff;}#sk-container-id-1 div.sk-serial::before {content: \"\";position: absolute;border-left: 1px solid gray;box-sizing: border-box;top: 0;bottom: 0;left: 50%;z-index: 0;}#sk-container-id-1 div.sk-serial {display: flex;flex-direction: column;align-items: center;background-color: white;padding-right: 0.2em;padding-left: 0.2em;position: relative;}#sk-container-id-1 div.sk-item {position: relative;z-index: 1;}#sk-container-id-1 div.sk-parallel {display: flex;align-items: stretch;justify-content: center;background-color: white;position: relative;}#sk-container-id-1 div.sk-item::before, #sk-container-id-1 div.sk-parallel-item::before {content: \"\";position: absolute;border-left: 1px solid gray;box-sizing: border-box;top: 0;bottom: 0;left: 50%;z-index: -1;}#sk-container-id-1 div.sk-parallel-item {display: flex;flex-direction: column;z-index: 1;position: relative;background-color: white;}#sk-container-id-1 div.sk-parallel-item:first-child::after {align-self: flex-end;width: 50%;}#sk-container-id-1 div.sk-parallel-item:last-child::after {align-self: flex-start;width: 50%;}#sk-container-id-1 div.sk-parallel-item:only-child::after {width: 0;}#sk-container-id-1 div.sk-dashed-wrapped {border: 1px dashed gray;margin: 0 0.4em 0.5em 0.4em;box-sizing: border-box;padding-bottom: 0.4em;background-color: white;}#sk-container-id-1 div.sk-label label {font-family: monospace;font-weight: bold;display: inline-block;line-height: 1.2em;}#sk-container-id-1 div.sk-label-container {text-align: center;}#sk-container-id-1 div.sk-container {/* jupyter's `normalize.less` sets `[hidden] { display: none; }` but bootstrap.min.css set `[hidden] { display: none !important; }` so we also need the `!important` here to be able to override the default hidden behavior on the sphinx rendered scikit-learn.org. See: https://github.com/scikit-learn/scikit-learn/issues/21755 */display: inline-block !important;position: relative;}#sk-container-id-1 div.sk-text-repr-fallback {display: none;}</style><div id=\"sk-container-id-1\" class=\"sk-top-container\"><div class=\"sk-text-repr-fallback\"><pre>Pipeline(steps=[(&#x27;smote&#x27;, SMOTE()),\n",
       "                (&#x27;xgb&#x27;,\n",
       "                 XGBClassifier(base_score=None, booster=None, callbacks=None,\n",
       "                               colsample_bylevel=None, colsample_bynode=None,\n",
       "                               colsample_bytree=None,\n",
       "                               early_stopping_rounds=None,\n",
       "                               enable_categorical=False, eval_metric=None,\n",
       "                               feature_types=None, gamma=None, gpu_id=None,\n",
       "                               grow_policy=None, importance_type=None,\n",
       "                               interaction_constraints=None, learning_rate=0.1,\n",
       "                               max_bin=None, max_cat_threshold=None,\n",
       "                               max_cat_to_onehot=None, max_delta_step=None,\n",
       "                               max_depth=7, max_leaves=None,\n",
       "                               min_child_weight=None, missing=nan,\n",
       "                               monotone_constraints=None, n_estimators=200,\n",
       "                               n_jobs=None, num_parallel_tree=None,\n",
       "                               predictor=None, random_state=None, ...))])</pre><b>In a Jupyter environment, please rerun this cell to show the HTML representation or trust the notebook. <br />On GitHub, the HTML representation is unable to render, please try loading this page with nbviewer.org.</b></div><div class=\"sk-container\" hidden><div class=\"sk-item sk-dashed-wrapped\"><div class=\"sk-label-container\"><div class=\"sk-label sk-toggleable\"><input class=\"sk-toggleable__control sk-hidden--visually\" id=\"sk-estimator-id-1\" type=\"checkbox\" ><label for=\"sk-estimator-id-1\" class=\"sk-toggleable__label sk-toggleable__label-arrow\">Pipeline</label><div class=\"sk-toggleable__content\"><pre>Pipeline(steps=[(&#x27;smote&#x27;, SMOTE()),\n",
       "                (&#x27;xgb&#x27;,\n",
       "                 XGBClassifier(base_score=None, booster=None, callbacks=None,\n",
       "                               colsample_bylevel=None, colsample_bynode=None,\n",
       "                               colsample_bytree=None,\n",
       "                               early_stopping_rounds=None,\n",
       "                               enable_categorical=False, eval_metric=None,\n",
       "                               feature_types=None, gamma=None, gpu_id=None,\n",
       "                               grow_policy=None, importance_type=None,\n",
       "                               interaction_constraints=None, learning_rate=0.1,\n",
       "                               max_bin=None, max_cat_threshold=None,\n",
       "                               max_cat_to_onehot=None, max_delta_step=None,\n",
       "                               max_depth=7, max_leaves=None,\n",
       "                               min_child_weight=None, missing=nan,\n",
       "                               monotone_constraints=None, n_estimators=200,\n",
       "                               n_jobs=None, num_parallel_tree=None,\n",
       "                               predictor=None, random_state=None, ...))])</pre></div></div></div><div class=\"sk-serial\"><div class=\"sk-item\"><div class=\"sk-estimator sk-toggleable\"><input class=\"sk-toggleable__control sk-hidden--visually\" id=\"sk-estimator-id-2\" type=\"checkbox\" ><label for=\"sk-estimator-id-2\" class=\"sk-toggleable__label sk-toggleable__label-arrow\">SMOTE</label><div class=\"sk-toggleable__content\"><pre>SMOTE()</pre></div></div></div><div class=\"sk-item\"><div class=\"sk-estimator sk-toggleable\"><input class=\"sk-toggleable__control sk-hidden--visually\" id=\"sk-estimator-id-3\" type=\"checkbox\" ><label for=\"sk-estimator-id-3\" class=\"sk-toggleable__label sk-toggleable__label-arrow\">XGBClassifier</label><div class=\"sk-toggleable__content\"><pre>XGBClassifier(base_score=None, booster=None, callbacks=None,\n",
       "              colsample_bylevel=None, colsample_bynode=None,\n",
       "              colsample_bytree=None, early_stopping_rounds=None,\n",
       "              enable_categorical=False, eval_metric=None, feature_types=None,\n",
       "              gamma=None, gpu_id=None, grow_policy=None, importance_type=None,\n",
       "              interaction_constraints=None, learning_rate=0.1, max_bin=None,\n",
       "              max_cat_threshold=None, max_cat_to_onehot=None,\n",
       "              max_delta_step=None, max_depth=7, max_leaves=None,\n",
       "              min_child_weight=None, missing=nan, monotone_constraints=None,\n",
       "              n_estimators=200, n_jobs=None, num_parallel_tree=None,\n",
       "              predictor=None, random_state=None, ...)</pre></div></div></div></div></div></div></div>"
      ],
      "text/plain": [
       "Pipeline(steps=[('smote', SMOTE()),\n",
       "                ('xgb',\n",
       "                 XGBClassifier(base_score=None, booster=None, callbacks=None,\n",
       "                               colsample_bylevel=None, colsample_bynode=None,\n",
       "                               colsample_bytree=None,\n",
       "                               early_stopping_rounds=None,\n",
       "                               enable_categorical=False, eval_metric=None,\n",
       "                               feature_types=None, gamma=None, gpu_id=None,\n",
       "                               grow_policy=None, importance_type=None,\n",
       "                               interaction_constraints=None, learning_rate=0.1,\n",
       "                               max_bin=None, max_cat_threshold=None,\n",
       "                               max_cat_to_onehot=None, max_delta_step=None,\n",
       "                               max_depth=7, max_leaves=None,\n",
       "                               min_child_weight=None, missing=nan,\n",
       "                               monotone_constraints=None, n_estimators=200,\n",
       "                               n_jobs=None, num_parallel_tree=None,\n",
       "                               predictor=None, random_state=None, ...))])"
      ]
     },
     "execution_count": 22,
     "metadata": {},
     "output_type": "execute_result"
    }
   ],
   "source": [
    "# Obtenir le meilleur modèle après le GridSearch\n",
    "best_model = grid_search_xgb_opti.best_estimator_\n",
    "best_model"
   ]
  },
  {
   "cell_type": "code",
   "execution_count": 23,
   "metadata": {},
   "outputs": [],
   "source": [
    "path_cm_xgb = \"Divers/confusion_matrix_xgb.txt\"\n",
    "cmxgb = confusion_matrix(y_test, y_pred)\n",
    "\n",
    "# Enregistrer la matrice de confusion sous forme de texte\n",
    "with open(path_cm_xgb, \"w\") as f:\n",
    "    f.write(str(cmxgb))\n",
    "\n",
    "with mlflow.start_run(run_name=\"XGB\") as run:\n",
    "\n",
    "    roc_auc = roc_auc_score(y_test, y_pred)\n",
    "    accuracy = accuracy_score(y_test, y_pred)\n",
    "    score_matrix = custom_loss(y_test, y_pred)\n",
    "\n",
    "    # Enregistrement des métriques dans MLflow\n",
    "    mlflow.log_metric(\"ROC AUC Score\", roc_auc)\n",
    "    mlflow.log_metric(\"ACCURACY\", accuracy)\n",
    "    mlflow.log_metric(\"SCORE MATRIX\", score_matrix)\n",
    "\n",
    "    # Enregistrer la matrice de confusion sous forme de texte\n",
    "    mlflow.log_artifact(path_cm_xgb)\n",
    "\n",
    "    # Enregistrer les paramètres\n",
    "    mlflow.log_params({\"max_depth\": 7, \"learning_rate\": 0.1, \"n_estimators\": 200})\n",
    "\n",
    "    # Enregistrer le modèle\n",
    "    mlflow.sklearn.log_model(grid_search_xgb_opti.best_estimator_, \"best_model\")"
   ]
  },
  {
   "cell_type": "code",
   "execution_count": 24,
   "metadata": {},
   "outputs": [
    {
     "name": "stdout",
     "output_type": "stream",
     "text": [
      "ROC AUC Score: 61.29%\n",
      "ACCURACY: 81.63%\n",
      "Confusion Matrix: [[48349  8153]\n",
      " [ 3144  1848]]\n",
      "SCORE MATRICE: 112970.0\n"
     ]
    }
   ],
   "source": [
    "print(f\"ROC AUC Score: {roc_auc*100:.2f}%\")\n",
    "print(f\"ACCURACY: {accuracy*100:.2f}%\")\n",
    "print(f\"Confusion Matrix: {cmxgb}\")\n",
    "print(f\"SCORE MATRICE: {score_matrix}\")"
   ]
  },
  {
   "cell_type": "code",
   "execution_count": 25,
   "metadata": {},
   "outputs": [
    {
     "data": {
      "image/png": "[encoded data removed]",
      "text/plain": [
       "<Figure size 400x400 with 1 Axes>"
      ]
     },
     "metadata": {},
     "output_type": "display_data"
    }
   ],
   "source": [
    "def draw_gauge(accuracy_score):\n",
    "    # Normaliser le score entre 0 et 1\n",
    "    normalized_score = accuracy_score\n",
    "\n",
    "    # Créer un axe polar\n",
    "    fig, ax = plt.subplots(figsize=(4, 4), subplot_kw={\"polar\": True})\n",
    "\n",
    "    # Dessiner l'arc de la jauge (demi-cercle supérieur)\n",
    "    arc = np.linspace(0, np.pi, 100)\n",
    "    r = np.full(100, 0.6)\n",
    "    ax.plot(arc, r, color=\"darkblue\", linewidth=15)\n",
    "\n",
    "    # Calculer l'angle pour l'aiguille\n",
    "    theta = np.pi * (normalized_score)\n",
    "    ax.plot([theta, theta], [0, 0.6], color='darkred', linewidth=2)\n",
    "\n",
    "    # Marquer le score sur l'aiguille\n",
    "    ax.text(theta , 0.8, f\"{accuracy_score * 100:.2f}%\", color='darkred', ha=\"center\", va=\"center\")\n",
    "\n",
    "    # Configurer les angles et étiquettes en pourcentage\n",
    "    ax.set_theta_zero_location(\"W\")\n",
    "    ax.set_theta_direction(-1)\n",
    "    ax.set_xticks(np.radians([0, 45, 90, 135, 180]))\n",
    "    ax.set_xticklabels([\"0%\", \"25%\", \"50%\", \"75%\", \"100%\"])\n",
    "\n",
    "    # Supprimer les rayons et les étiquettes radiales\n",
    "    ax.set_yticks([])\n",
    "    ax.set_yticklabels([])\n",
    "\n",
    "    # Supprimer les lignes radiales\n",
    "    ax.grid(False)\n",
    "\n",
    "    # Réduire la vue au demi-cercle\n",
    "    ax.set_ylim([0, 0.6])\n",
    "    ax.set_xlim([0, np.pi])\n",
    "\n",
    "    ax.set_title(\"PERFORMANCE DU MODELE XGB (Accuracy)\", va=\"bottom\")\n",
    "\n",
    "    plt.show()\n",
    "\n",
    "    fig.savefig(\"Divers/jauge_xgb.png\")\n",
    "\n",
    "accuracy_value = accuracy\n",
    "draw_gauge(accuracy_value)"
   ]
  },
  {
   "cell_type": "code",
   "execution_count": 26,
   "metadata": {},
   "outputs": [
    {
     "data": {
      "image/png": "[encoded data removed]",
      "text/plain": [
       "<Figure size 400x400 with 1 Axes>"
      ]
     },
     "metadata": {},
     "output_type": "display_data"
    }
   ],
   "source": [
    "def draw_gauge(accuracy_score):\n",
    "    if not np.isscalar(accuracy_score):\n",
    "        raise ValueError(\"La valeur fournie à 'draw_gauge' doit être un scalaire.\")\n",
    "\n",
    "    # Normaliser le score entre 0 et 1\n",
    "    normalized_score = accuracy_score\n",
    "\n",
    "    # Créer un axe polar\n",
    "    fig, ax = plt.subplots(figsize=(4, 4), subplot_kw={\"polar\": True})\n",
    "\n",
    "    # Dessiner l'arc de la jauge (demi-cercle supérieur)\n",
    "    arc = np.linspace(0, np.pi, 100)\n",
    "    r = np.full(100, 0.6)\n",
    "    ax.plot(arc, r, color=\"darkblue\", linewidth=15)\n",
    "\n",
    "    # Calculer l'angle pour l'aiguille\n",
    "    theta = np.pi * (normalized_score)\n",
    "    ax.plot([theta, theta], [0, 0.6], color='darkred', linewidth=2)\n",
    "\n",
    "    # Marquer le score sur l'aiguille\n",
    "    ax.text(theta , 0.8, f\"{accuracy_score * 100:.2f}%\", color='darkred', ha=\"center\", va=\"center\")\n",
    "\n",
    "    # Configurer les angles et étiquettes en pourcentage\n",
    "    ax.set_theta_zero_location(\"W\")\n",
    "    ax.set_theta_direction(-1)\n",
    "    ax.set_xticks(np.radians([0, 45, 90, 135, 180]))\n",
    "    ax.set_xticklabels([\"0%\", \"25%\", \"50%\", \"75%\", \"100%\"])\n",
    "\n",
    "    # Supprimer les rayons et les étiquettes radiales\n",
    "    ax.set_yticks([])\n",
    "    ax.set_yticklabels([])\n",
    "\n",
    "    # Supprimer les lignes radiales\n",
    "    ax.grid(False)\n",
    "\n",
    "    # Réduire la vue au demi-cercle\n",
    "    ax.set_ylim([0, 0.6])\n",
    "    ax.set_xlim([0, np.pi])\n",
    "\n",
    "    ax.set_title(\"PERFORMANCE DU MODELE XGB (ROC AUC)\", va=\"bottom\")\n",
    "\n",
    "    plt.show()\n",
    "\n",
    "    fig.savefig(\"Divers/jauge_xgb_auc.png\")\n",
    "\n",
    "accuracy_value = roc_auc\n",
    "draw_gauge(accuracy_value)"
   ]
  },
  {
   "cell_type": "code",
   "execution_count": 27,
   "metadata": {},
   "outputs": [],
   "source": [
    "y_pred_proba = grid_search_xgb_opti.predict_proba(X_test)[:, 1]\n",
    "\n",
    "# Calculer la courbe ROC\n",
    "fpr, tpr, thresholds = roc_curve(y_test, y_pred_proba)\n",
    "roc_auc = auc(fpr, tpr)"
   ]
  },
  {
   "cell_type": "code",
   "execution_count": 28,
   "metadata": {},
   "outputs": [
    {
     "data": {
      "image/png": "[encoded data removed]",
      "text/plain": [
       "<Figure size 500x300 with 1 Axes>"
      ]
     },
     "metadata": {},
     "output_type": "display_data"
    }
   ],
   "source": [
    "# Créer la figure et l'axe\n",
    "fig, ax = plt.subplots(figsize=(5, 3))\n",
    "\n",
    "# Tracer la courbe ROC sur l'axe\n",
    "ax.plot(fpr, tpr, color='darkred', lw=2, label='ROC curve (area = %0.2f)' % roc_auc)\n",
    "ax.plot([0, 1], [0, 1], color='darkblue', lw=2, linestyle='--')  # ligne diagonale pour un modèle aléatoire\n",
    "ax.set_xlim([0.0, 1.0])\n",
    "ax.set_ylim([0.0, 1.05])\n",
    "ax.set_xlabel('False Positive Rate')\n",
    "ax.set_ylabel('True Positive Rate')\n",
    "ax.set_title('COURBE ROC (Receiver Operating Characteristic)')\n",
    "ax.legend(loc=\"lower right\")\n",
    "ax.grid(alpha=0.2)\n",
    "plt.show()\n",
    "\n",
    "# Sauvegarder la figure\n",
    "fig.savefig(\"Divers/courbe_roc.png\")"
   ]
  },
  {
   "cell_type": "code",
   "execution_count": 29,
   "metadata": {},
   "outputs": [],
   "source": [
    "mlflow.end_run()"
   ]
  },
  {
   "cell_type": "code",
   "execution_count": 30,
   "metadata": {},
   "outputs": [
    {
     "name": "stdout",
     "output_type": "stream",
     "text": [
      "Modèle XGBoost et variables enregistrés avec succès.\n"
     ]
    }
   ],
   "source": [
    "# Enregistrer le modèle et les variables associées avec joblib\n",
    "file_path = \"../projet7_git/xgb_model.joblib\"\n",
    "data_to_save = {\n",
    "    \"model\": grid_search_xgb_opti,\n",
    "    \"roc_auc\": roc_auc,\n",
    "    \"confusion_matrix\": cmxgb\n",
    "}\n",
    "\n",
    "dump(data_to_save, file_path)\n",
    "\n",
    "print(\"Modèle XGBoost et variables enregistrés avec succès.\")"
   ]
  },
  {
   "cell_type": "code",
   "execution_count": 31,
   "metadata": {},
   "outputs": [],
   "source": [
    "sample_data = {\n",
    "    \"EXT_SOURCE_3\": 0.15,  \n",
    "    \"EXT_SOURCE_2\": 0.27,\n",
    "    \"NAME_INCOME_TYPE_Working\": 1,  \n",
    "    \"NAME_EDUCATION_TYPE_Secondary / secondary special\": 1, \n",
    "    \"NAME_EDUCATION_TYPE_Higher education\": 0,\n",
    "    \"OCCUPATION_TYPE_Core staff\": 0,\n",
    "    \"FLAG_DOCUMENT_3\": 1,  \n",
    "    \"AMT_REQ_CREDIT_BUREAU_HOUR\": 0.0, \n",
    "    \"CODE_GENDER\": 0, \n",
    "    \"PAYMENT_RATE\": 0.065,  \n",
    "}"
   ]
  },
  {
   "cell_type": "code",
   "execution_count": 32,
   "metadata": {},
   "outputs": [
    {
     "ename": "ValueError",
     "evalue": "feature_names mismatch: ['Source_3', 'Source_2', 'Travail', 'Lycée', 'Etudes Sup', 'Cadre', 'Indic_doc 3', 'Nb demandes/h', 'Sexe', 'Tx pay.'] ['EXT_SOURCE_3', 'EXT_SOURCE_2', 'NAME_INCOME_TYPE_Working', 'NAME_EDUCATION_TYPE_Secondary / secondary special', 'NAME_EDUCATION_TYPE_Higher education', 'OCCUPATION_TYPE_Core staff', 'FLAG_DOCUMENT_3', 'AMT_REQ_CREDIT_BUREAU_HOUR', 'CODE_GENDER', 'PAYMENT_RATE']\nexpected Source_2, Sexe, Cadre, Etudes Sup, Indic_doc 3, Source_3, Tx pay., Nb demandes/h, Travail, Lycée in input data\ntraining data did not have the following fields: OCCUPATION_TYPE_Core staff, AMT_REQ_CREDIT_BUREAU_HOUR, NAME_INCOME_TYPE_Working, EXT_SOURCE_3, CODE_GENDER, EXT_SOURCE_2, FLAG_DOCUMENT_3, NAME_EDUCATION_TYPE_Secondary / secondary special, PAYMENT_RATE, NAME_EDUCATION_TYPE_Higher education",
     "output_type": "error",
     "traceback": [
      "\u001b[1;31m---------------------------------------------------------------------------\u001b[0m",
      "\u001b[1;31mValueError\u001b[0m                                Traceback (most recent call last)",
      "Cell \u001b[1;32mIn[32], line 5\u001b[0m\n\u001b[0;32m      2\u001b[0m sample_df \u001b[39m=\u001b[39m pd\u001b[39m.\u001b[39mDataFrame([sample_data])\n\u001b[0;32m      4\u001b[0m \u001b[39m# Utilisation du modèle pour faire des prédictions\u001b[39;00m\n\u001b[1;32m----> 5\u001b[0m prediction \u001b[39m=\u001b[39m grid_search_xgb_opti\u001b[39m.\u001b[39;49mpredict(sample_df)\n\u001b[0;32m      6\u001b[0m \u001b[39mprint\u001b[39m(prediction)\n",
      "File \u001b[1;32mc:\\Users\\arken\\anaconda3\\lib\\site-packages\\sklearn\\model_selection\\_search.py:519\u001b[0m, in \u001b[0;36mBaseSearchCV.predict\u001b[1;34m(self, X)\u001b[0m\n\u001b[0;32m    501\u001b[0m \u001b[39m\u001b[39m\u001b[39m\"\"\"Call predict on the estimator with the best found parameters.\u001b[39;00m\n\u001b[0;32m    502\u001b[0m \n\u001b[0;32m    503\u001b[0m \u001b[39mOnly available if ``refit=True`` and the underlying estimator supports\u001b[39;00m\n\u001b[1;32m   (...)\u001b[0m\n\u001b[0;32m    516\u001b[0m \u001b[39m    the best found parameters.\u001b[39;00m\n\u001b[0;32m    517\u001b[0m \u001b[39m\"\"\"\u001b[39;00m\n\u001b[0;32m    518\u001b[0m check_is_fitted(\u001b[39mself\u001b[39m)\n\u001b[1;32m--> 519\u001b[0m \u001b[39mreturn\u001b[39;00m \u001b[39mself\u001b[39;49m\u001b[39m.\u001b[39;49mbest_estimator_\u001b[39m.\u001b[39;49mpredict(X)\n",
      "File \u001b[1;32mc:\\Users\\arken\\anaconda3\\lib\\site-packages\\sklearn\\pipeline.py:508\u001b[0m, in \u001b[0;36mPipeline.predict\u001b[1;34m(self, X, **predict_params)\u001b[0m\n\u001b[0;32m    506\u001b[0m \u001b[39mfor\u001b[39;00m _, name, transform \u001b[39min\u001b[39;00m \u001b[39mself\u001b[39m\u001b[39m.\u001b[39m_iter(with_final\u001b[39m=\u001b[39m\u001b[39mFalse\u001b[39;00m):\n\u001b[0;32m    507\u001b[0m     Xt \u001b[39m=\u001b[39m transform\u001b[39m.\u001b[39mtransform(Xt)\n\u001b[1;32m--> 508\u001b[0m \u001b[39mreturn\u001b[39;00m \u001b[39mself\u001b[39m\u001b[39m.\u001b[39msteps[\u001b[39m-\u001b[39m\u001b[39m1\u001b[39m][\u001b[39m1\u001b[39m]\u001b[39m.\u001b[39mpredict(Xt, \u001b[39m*\u001b[39m\u001b[39m*\u001b[39mpredict_params)\n",
      "File \u001b[1;32mc:\\Users\\arken\\anaconda3\\lib\\site-packages\\xgboost\\sklearn.py:1525\u001b[0m, in \u001b[0;36mXGBClassifier.predict\u001b[1;34m(self, X, output_margin, ntree_limit, validate_features, base_margin, iteration_range)\u001b[0m\n\u001b[0;32m   1515\u001b[0m \u001b[39mdef\u001b[39;00m \u001b[39mpredict\u001b[39m(\n\u001b[0;32m   1516\u001b[0m     \u001b[39mself\u001b[39m,\n\u001b[0;32m   1517\u001b[0m     X: ArrayLike,\n\u001b[1;32m   (...)\u001b[0m\n\u001b[0;32m   1522\u001b[0m     iteration_range: Optional[Tuple[\u001b[39mint\u001b[39m, \u001b[39mint\u001b[39m]] \u001b[39m=\u001b[39m \u001b[39mNone\u001b[39;00m,\n\u001b[0;32m   1523\u001b[0m ) \u001b[39m-\u001b[39m\u001b[39m>\u001b[39m np\u001b[39m.\u001b[39mndarray:\n\u001b[0;32m   1524\u001b[0m     \u001b[39mwith\u001b[39;00m config_context(verbosity\u001b[39m=\u001b[39m\u001b[39mself\u001b[39m\u001b[39m.\u001b[39mverbosity):\n\u001b[1;32m-> 1525\u001b[0m         class_probs \u001b[39m=\u001b[39m \u001b[39msuper\u001b[39;49m()\u001b[39m.\u001b[39;49mpredict(\n\u001b[0;32m   1526\u001b[0m             X\u001b[39m=\u001b[39;49mX,\n\u001b[0;32m   1527\u001b[0m             output_margin\u001b[39m=\u001b[39;49moutput_margin,\n\u001b[0;32m   1528\u001b[0m             ntree_limit\u001b[39m=\u001b[39;49mntree_limit,\n\u001b[0;32m   1529\u001b[0m             validate_features\u001b[39m=\u001b[39;49mvalidate_features,\n\u001b[0;32m   1530\u001b[0m             base_margin\u001b[39m=\u001b[39;49mbase_margin,\n\u001b[0;32m   1531\u001b[0m             iteration_range\u001b[39m=\u001b[39;49miteration_range,\n\u001b[0;32m   1532\u001b[0m         )\n\u001b[0;32m   1533\u001b[0m         \u001b[39mif\u001b[39;00m output_margin:\n\u001b[0;32m   1534\u001b[0m             \u001b[39m# If output_margin is active, simply return the scores\u001b[39;00m\n\u001b[0;32m   1535\u001b[0m             \u001b[39mreturn\u001b[39;00m class_probs\n",
      "File \u001b[1;32mc:\\Users\\arken\\anaconda3\\lib\\site-packages\\xgboost\\sklearn.py:1114\u001b[0m, in \u001b[0;36mXGBModel.predict\u001b[1;34m(self, X, output_margin, ntree_limit, validate_features, base_margin, iteration_range)\u001b[0m\n\u001b[0;32m   1112\u001b[0m \u001b[39mif\u001b[39;00m \u001b[39mself\u001b[39m\u001b[39m.\u001b[39m_can_use_inplace_predict():\n\u001b[0;32m   1113\u001b[0m     \u001b[39mtry\u001b[39;00m:\n\u001b[1;32m-> 1114\u001b[0m         predts \u001b[39m=\u001b[39m \u001b[39mself\u001b[39;49m\u001b[39m.\u001b[39;49mget_booster()\u001b[39m.\u001b[39;49minplace_predict(\n\u001b[0;32m   1115\u001b[0m             data\u001b[39m=\u001b[39;49mX,\n\u001b[0;32m   1116\u001b[0m             iteration_range\u001b[39m=\u001b[39;49miteration_range,\n\u001b[0;32m   1117\u001b[0m             predict_type\u001b[39m=\u001b[39;49m\u001b[39m\"\u001b[39;49m\u001b[39mmargin\u001b[39;49m\u001b[39m\"\u001b[39;49m \u001b[39mif\u001b[39;49;00m output_margin \u001b[39melse\u001b[39;49;00m \u001b[39m\"\u001b[39;49m\u001b[39mvalue\u001b[39;49m\u001b[39m\"\u001b[39;49m,\n\u001b[0;32m   1118\u001b[0m             missing\u001b[39m=\u001b[39;49m\u001b[39mself\u001b[39;49m\u001b[39m.\u001b[39;49mmissing,\n\u001b[0;32m   1119\u001b[0m             base_margin\u001b[39m=\u001b[39;49mbase_margin,\n\u001b[0;32m   1120\u001b[0m             validate_features\u001b[39m=\u001b[39;49mvalidate_features,\n\u001b[0;32m   1121\u001b[0m         )\n\u001b[0;32m   1122\u001b[0m         \u001b[39mif\u001b[39;00m _is_cupy_array(predts):\n\u001b[0;32m   1123\u001b[0m             \u001b[39mimport\u001b[39;00m \u001b[39mcupy\u001b[39;00m  \u001b[39m# pylint: disable=import-error\u001b[39;00m\n",
      "File \u001b[1;32mc:\\Users\\arken\\anaconda3\\lib\\site-packages\\xgboost\\core.py:2285\u001b[0m, in \u001b[0;36mBooster.inplace_predict\u001b[1;34m(self, data, iteration_range, predict_type, missing, validate_features, base_margin, strict_shape)\u001b[0m\n\u001b[0;32m   2283\u001b[0m     data, fns, _ \u001b[39m=\u001b[39m _transform_pandas_df(data, enable_categorical)\n\u001b[0;32m   2284\u001b[0m     \u001b[39mif\u001b[39;00m validate_features:\n\u001b[1;32m-> 2285\u001b[0m         \u001b[39mself\u001b[39;49m\u001b[39m.\u001b[39;49m_validate_features(fns)\n\u001b[0;32m   2287\u001b[0m \u001b[39mif\u001b[39;00m \u001b[39misinstance\u001b[39m(data, np\u001b[39m.\u001b[39mndarray):\n\u001b[0;32m   2288\u001b[0m     \u001b[39mfrom\u001b[39;00m \u001b[39m.\u001b[39;00m\u001b[39mdata\u001b[39;00m \u001b[39mimport\u001b[39;00m _ensure_np_dtype\n",
      "File \u001b[1;32mc:\\Users\\arken\\anaconda3\\lib\\site-packages\\xgboost\\core.py:2779\u001b[0m, in \u001b[0;36mBooster._validate_features\u001b[1;34m(self, feature_names)\u001b[0m\n\u001b[0;32m   2773\u001b[0m \u001b[39mif\u001b[39;00m my_missing:\n\u001b[0;32m   2774\u001b[0m     msg \u001b[39m+\u001b[39m\u001b[39m=\u001b[39m (\n\u001b[0;32m   2775\u001b[0m         \u001b[39m\"\u001b[39m\u001b[39m\\n\u001b[39;00m\u001b[39mtraining data did not have the following fields: \u001b[39m\u001b[39m\"\u001b[39m\n\u001b[0;32m   2776\u001b[0m         \u001b[39m+\u001b[39m \u001b[39m\"\u001b[39m\u001b[39m, \u001b[39m\u001b[39m\"\u001b[39m\u001b[39m.\u001b[39mjoin(\u001b[39mstr\u001b[39m(s) \u001b[39mfor\u001b[39;00m s \u001b[39min\u001b[39;00m my_missing)\n\u001b[0;32m   2777\u001b[0m     )\n\u001b[1;32m-> 2779\u001b[0m \u001b[39mraise\u001b[39;00m \u001b[39mValueError\u001b[39;00m(msg\u001b[39m.\u001b[39mformat(\u001b[39mself\u001b[39m\u001b[39m.\u001b[39mfeature_names, feature_names))\n",
      "\u001b[1;31mValueError\u001b[0m: feature_names mismatch: ['Source_3', 'Source_2', 'Travail', 'Lycée', 'Etudes Sup', 'Cadre', 'Indic_doc 3', 'Nb demandes/h', 'Sexe', 'Tx pay.'] ['EXT_SOURCE_3', 'EXT_SOURCE_2', 'NAME_INCOME_TYPE_Working', 'NAME_EDUCATION_TYPE_Secondary / secondary special', 'NAME_EDUCATION_TYPE_Higher education', 'OCCUPATION_TYPE_Core staff', 'FLAG_DOCUMENT_3', 'AMT_REQ_CREDIT_BUREAU_HOUR', 'CODE_GENDER', 'PAYMENT_RATE']\nexpected Source_2, Sexe, Cadre, Etudes Sup, Indic_doc 3, Source_3, Tx pay., Nb demandes/h, Travail, Lycée in input data\ntraining data did not have the following fields: OCCUPATION_TYPE_Core staff, AMT_REQ_CREDIT_BUREAU_HOUR, NAME_INCOME_TYPE_Working, EXT_SOURCE_3, CODE_GENDER, EXT_SOURCE_2, FLAG_DOCUMENT_3, NAME_EDUCATION_TYPE_Secondary / secondary special, PAYMENT_RATE, NAME_EDUCATION_TYPE_Higher education"
     ]
    }
   ],
   "source": [
    "# Création du DataFrame avec les données d'exemple\n",
    "sample_df = pd.DataFrame([sample_data])\n",
    "\n",
    "# Utilisation du modèle pour faire des prédictions\n",
    "prediction = grid_search_xgb_opti.predict(sample_df)\n",
    "print(prediction)"
   ]
  },
  {
   "cell_type": "code",
   "execution_count": null,
   "metadata": {},
   "outputs": [],
   "source": [
    "# Création du DataFrame avec les données d'exemple\n",
    "sample_df = pd.DataFrame([sample_data])\n",
    "\n",
    "# Utilisation du modèle pour obtenir les probabilités de classe\n",
    "probabilities = grid_search_xgb_opti.predict_proba(sample_df)\n",
    "\n",
    "# Probabilité de la classe 1 (assumant que 1 est la classe positive)\n",
    "probability_of_class_1 = probabilities[0][1]\n",
    "\n",
    "# Affichage de la probabilité de la classe 1 en pourcentage\n",
    "print(f\"Probabilité de la classe 1 : {probability_of_class_1 * 100:.2f}%\")"
   ]
  },
  {
   "cell_type": "code",
   "execution_count": null,
   "metadata": {},
   "outputs": [],
   "source": [
    "# Faite un tableau pour trouver le seuil adapté\n",
    "y_probs = grid_search_xgb_opti.predict_proba(X_test)[:, 1]\n",
    "\n",
    "thresholds = np.linspace(0, 1, 50)  # test 50 seuils entre 0 et 1\n",
    "results = []\n",
    "\n",
    "for threshold in thresholds:\n",
    "    y_pred = [1 if prob >= threshold else 0 for prob in y_probs]\n",
    "    accuracy = accuracy_score(y_test, y_pred)\n",
    "    recall = recall_score(y_test, y_pred)\n",
    "    precision = precision_score(y_test, y_pred)\n",
    "    f1 = f1_score(y_test, y_pred)\n",
    "    tn, fp, fn, tp = confusion_matrix(y_test, y_pred).ravel()\n",
    "    \n",
    "    results.append({\n",
    "        'Threshold': threshold,\n",
    "        'Accuracy': accuracy,\n",
    "        'Recall': recall,\n",
    "        'Precision': precision,\n",
    "        'F1 Score': f1,\n",
    "        'True Positives': tp,\n",
    "        'False Positives': fp,\n",
    "        'True Negatives': tn,\n",
    "        'False Negatives': fn\n",
    "    })\n",
    "\n",
    "# Transformez les résultats en un DataFrame pour une analyse facile\n",
    "results_df = pd.DataFrame(results)"
   ]
  },
  {
   "cell_type": "code",
   "execution_count": null,
   "metadata": {},
   "outputs": [],
   "source": [
    "results_df"
   ]
  },
  {
   "cell_type": "code",
   "execution_count": null,
   "metadata": {},
   "outputs": [],
   "source": [
    "results_df.loc[35]"
   ]
  },
  {
   "cell_type": "markdown",
   "metadata": {},
   "source": [
    "Le seuil sera donc à 70%."
   ]
  },
  {
   "cell_type": "code",
   "execution_count": null,
   "metadata": {},
   "outputs": [],
   "source": [
    "# Obtenez les probabilités de la classe positive\n",
    "probabilities = grid_search_xgb_opti.predict_proba(sample_df)[:, 1]"
   ]
  },
  {
   "cell_type": "code",
   "execution_count": null,
   "metadata": {},
   "outputs": [],
   "source": [
    "def draw_client(accuracy_score):\n",
    "    if not np.isscalar(accuracy_score):\n",
    "        raise ValueError(\"La valeur fournie à 'draw_gauge' doit être un scalaire.\")\n",
    "\n",
    "    # Normaliser le score entre 0 et 1\n",
    "    normalized_score = accuracy_score\n",
    "\n",
    "    # Créer un axe polar\n",
    "    fig, ax = plt.subplots(figsize=(4, 4), subplot_kw={\"polar\": True})\n",
    "\n",
    "    # Dessiner l'arc de la jauge pour la plage de 0 à 70% (en rouge)\n",
    "    arc_red = np.linspace(0, 0.7 * np.pi, 100)\n",
    "    r_red = np.full(100, 0.6)\n",
    "    ax.plot(arc_red, r_red, color=\"red\", linewidth=15)\n",
    "\n",
    "    # Dessiner l'arc de la jauge pour la plage de 70 à 100% (en bleu)\n",
    "    arc_blue = np.linspace(0.7 * np.pi, np.pi, 100)\n",
    "    r_blue = np.full(100, 0.6)\n",
    "    ax.plot(arc_blue, r_blue, color=\"darkblue\", linewidth=15)\n",
    "\n",
    "    # Calculer l'angle pour l'aiguille\n",
    "    theta = np.pi * (normalized_score)\n",
    "    needle, = ax.plot([theta, theta], [0, 0.6], color='darkred', linewidth=2)\n",
    "\n",
    "    # Configurer les angles et étiquettes en pourcentage\n",
    "    ax.set_theta_zero_location(\"W\")\n",
    "    ax.set_theta_direction(-1)\n",
    "    ax.set_xticks(np.radians([0, 45, 90, 126, 135, 180]))\n",
    "    ax.set_xticklabels([\"0%\", \"25%\", \"50%\",\"70%\", \"75%\", \"100%\"])\n",
    "\n",
    "    # Supprimer les rayons et les étiquettes radiales\n",
    "    ax.set_yticks([])\n",
    "    ax.set_yticklabels([])\n",
    "\n",
    "    # Supprimer les lignes radiales\n",
    "    ax.grid(False)\n",
    "\n",
    "    # Réduire la vue au demi-cercle\n",
    "    ax.set_ylim([0, 0.6])\n",
    "    ax.set_xlim([0, np.pi])\n",
    "\n",
    "    ax.set_title(\"EVALUATION DU CLIENT\", va=\"bottom\")\n",
    "\n",
    "    # Ajouter le score en tant que légende\n",
    "    ax.legend([needle], [f'Score = {accuracy_score * 100:.2f}%'])\n",
    "\n",
    "    plt.show()"
   ]
  },
  {
   "cell_type": "code",
   "execution_count": null,
   "metadata": {},
   "outputs": [],
   "source": [
    "sample_probability = probabilities[0]\n",
    "draw_client(sample_probability)"
   ]
  },
  {
   "cell_type": "code",
   "execution_count": null,
   "metadata": {},
   "outputs": [],
   "source": [
    "print(probabilities)"
   ]
  },
  {
   "cell_type": "markdown",
   "metadata": {},
   "source": [
    "LIME/SHAP"
   ]
  },
  {
   "cell_type": "code",
   "execution_count": null,
   "metadata": {},
   "outputs": [],
   "source": [
    "sample_data = {\n",
    "    \"EXT_SOURCE_3\": 0.15,  \n",
    "    \"EXT_SOURCE_2\": 0.27,\n",
    "    \"NAME_INCOME_TYPE_Working\": 1,  \n",
    "    \"NAME_EDUCATION_TYPE_Secondary / secondary special\": 1, \n",
    "    \"NAME_EDUCATION_TYPE_Higher education\": 0,\n",
    "    \"OCCUPATION_TYPE_Core staff\": 0,\n",
    "    \"FLAG_DOCUMENT_3\": 1,  \n",
    "    \"AMT_REQ_CREDIT_BUREAU_HOUR\": 0.0, \n",
    "    \"CODE_GENDER\": 0, \n",
    "    \"PAYMENT_RATE\": 0.065,  \n",
    "}"
   ]
  },
  {
   "cell_type": "code",
   "execution_count": null,
   "metadata": {},
   "outputs": [],
   "source": [
    "# Récupération du meilleur estimateur XGBoost du GridSearch\n",
    "best_xgb_model = grid_search_xgb_opti.best_estimator_['xgb']"
   ]
  },
  {
   "cell_type": "code",
   "execution_count": null,
   "metadata": {},
   "outputs": [],
   "source": [
    "# 1. Initialiser l'explainer\n",
    "explainer = LimeTabularExplainer(training_data = X_train.values,\n",
    "                                 feature_names = X_train.columns,\n",
    "                                 class_names = [\"Not Default\", \"Default\"],\n",
    "                                 mode = 'classification')\n",
    "\n",
    "# 2. Expliquer la prédiction de `sample_data`\n",
    "exp = explainer.explain_instance(np.array(pd.DataFrame([sample_data]).iloc[0]), best_xgb_model.predict_proba, num_features=10)\n",
    "\n",
    "# 3. Visualiser l'explication\n",
    "exp.show_in_notebook()\n"
   ]
  },
  {
   "cell_type": "code",
   "execution_count": null,
   "metadata": {},
   "outputs": [],
   "source": [
    "# Charger le modèle et les variables associées\n",
    "file_path = \"../projet7_git/xgb_model.joblib\"\n",
    "loaded_data = load(file_path)\n",
    "loaded_model = loaded_data[\"model\"]"
   ]
  },
  {
   "cell_type": "code",
   "execution_count": null,
   "metadata": {},
   "outputs": [],
   "source": [
    "# Création d'un DataFrame pour la prédiction\n",
    "sample_df = pd.DataFrame([sample_data])\n",
    "\n",
    "# Effectuer la prédiction\n",
    "sample_prediction = loaded_model.predict(sample_df)\n",
    "print(f\"La prédiction pour sample_data est: {sample_prediction[0]}\")\n",
    "\n",
    "# Calcul de la probabilité\n",
    "sample_proba = loaded_model.predict_proba(sample_df)\n",
    "print(f\"La probabilité que sample_data appartienne à la classe 1 est: {sample_proba[0][1]:.2f}\")"
   ]
  },
  {
   "cell_type": "code",
   "execution_count": null,
   "metadata": {},
   "outputs": [],
   "source": [
    "loaded_data = load('xgb_model.joblib')\n",
    "print(type(loaded_data))\n"
   ]
  },
  {
   "cell_type": "code",
   "execution_count": null,
   "metadata": {},
   "outputs": [],
   "source": [
    "model = loaded_data['model']\n",
    "\n",
    "best_params = None\n",
    "\n",
    "# Vérifier si 'best_params_' est un attribut du modèle\n",
    "if hasattr(model, 'best_params_'):\n",
    "    best_params = model.best_params_\n",
    "\n",
    "print(best_params)"
   ]
  },
  {
   "cell_type": "code",
   "execution_count": null,
   "metadata": {},
   "outputs": [],
   "source": [
    "# Étape 0 : Charger le modèle et obtenir le meilleur estimateur XGB\n",
    "model = loaded_data['model']\n",
    "\n",
    "if not hasattr(model, 'best_estimator_'):\n",
    "    raise ValueError(\"Le modèle chargé ne semble pas être un résultat de GridSearchCV.\")\n",
    "\n",
    "xgb_model = model.best_estimator_['xgb']\n",
    "\n",
    "# Étape 1 : Initialiser le Explainer avec le modèle XGB\n",
    "explainer = shap.Explainer(xgb_model)\n",
    "\n",
    "# Étape 2 : Obtenir les valeurs SHAP pour sample_data\n",
    "shap_values = explainer.shap_values(pd.DataFrame([sample_data]))\n",
    "\n",
    "# Étape 3 : Visualiser l'explication\n",
    "shap.initjs()\n",
    "shap.force_plot(explainer.expected_value, shap_values[0], pd.DataFrame([sample_data]))\n"
   ]
  },
  {
   "cell_type": "code",
   "execution_count": null,
   "metadata": {},
   "outputs": [],
   "source": [
    "df.dtypes"
   ]
  },
  {
   "cell_type": "code",
   "execution_count": null,
   "metadata": {},
   "outputs": [],
   "source": [
    "import pandas as pd\n",
    "test_final = pd.read_csv('test_data.csv', index_col=\"SK_ID_CURR\")\n",
    "test_final.tail(10)"
   ]
  },
  {
   "cell_type": "code",
   "execution_count": null,
   "metadata": {},
   "outputs": [],
   "source": [
    "import pandas as pd\n",
    "test_final = pd.read_csv('complet_data.csv', index_col = \"SK_ID_CURR\")\n",
    "test_final.head(5)"
   ]
  }
 ],
 "metadata": {
  "kernelspec": {
   "display_name": "base",
   "language": "python",
   "name": "python3"
  },
  "language_info": {
   "codemirror_mode": {
    "name": "ipython",
    "version": 3
   },
   "file_extension": ".py",
   "mimetype": "text/x-python",
   "name": "python",
   "nbconvert_exporter": "python",
   "pygments_lexer": "ipython3",
   "version": "3.10.9"
  },
  "orig_nbformat": 4
 },
 "nbformat": 4,
 "nbformat_minor": 2
}
