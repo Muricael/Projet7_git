{
 "cells": [
  {
   "cell_type": "code",
   "execution_count": 1,
   "metadata": {},
   "outputs": [],
   "source": [
    "import numpy as np\n",
    "import pandas as pd\n",
    "import time\n",
    "import matplotlib.pyplot as plt\n",
    "import seaborn as sns\n",
    "\n",
    "from sklearn.metrics import roc_auc_score, accuracy_score, confusion_matrix, make_scorer\n",
    "from sklearn.model_selection import train_test_split\n",
    "from sklearn.ensemble import RandomForestClassifier\n",
    "from sklearn.dummy import DummyClassifier\n",
    "from sklearn.model_selection import GridSearchCV\n",
    "from sklearn.pipeline import Pipeline\n",
    "\n",
    "import xgboost as xgb\n",
    "from xgboost import XGBClassifier\n",
    "\n",
    "from imblearn.pipeline import make_pipeline\n",
    "from imblearn.pipeline import Pipeline as imPipeline\n",
    "from imblearn.over_sampling import SMOTE\n",
    "\n",
    "from joblib import dump, load\n",
    "import mlflow\n",
    "import dagshub"
   ]
  },
  {
   "cell_type": "code",
   "execution_count": 2,
   "metadata": {},
   "outputs": [
    {
     "data": {
      "text/html": [
       "<pre style=\"white-space:pre;overflow-x:auto;line-height:normal;font-family:Menlo,'DejaVu Sans Mono',consolas,'Courier New',monospace\">Repository initialized!\n",
       "</pre>\n"
      ],
      "text/plain": [
       "Repository initialized!\n"
      ]
     },
     "metadata": {},
     "output_type": "display_data"
    }
   ],
   "source": [
    "dagshub.init(\"Projet7\", \"alexandre\", mlflow=True)"
   ]
  },
  {
   "cell_type": "code",
   "execution_count": 3,
   "metadata": {},
   "outputs": [],
   "source": [
    "mlflow.set_tracking_uri(\"https://dagshub.com/alexandre/Projet7.mlflow\")"
   ]
  },
  {
   "cell_type": "code",
   "execution_count": 4,
   "metadata": {},
   "outputs": [
    {
     "data": {
      "text/plain": [
       "<Experiment: artifact_location='mlflow-artifacts:/c75d97f689df4be8b0606f09f2391901', creation_time=1692257869770, experiment_id='1', last_update_time=1692257869770, lifecycle_stage='active', name='R.Forest', tags={}>"
      ]
     },
     "execution_count": 4,
     "metadata": {},
     "output_type": "execute_result"
    }
   ],
   "source": [
    "mlflow.set_experiment(\"R.Forest\")"
   ]
  },
  {
   "cell_type": "code",
   "execution_count": 5,
   "metadata": {},
   "outputs": [],
   "source": [
    "# chargement de base de données\n",
    "df = pd.read_csv(\"../Data/Processed/fichier_fa.csv\", index_col=\"SK_ID_CURR\")"
   ]
  },
  {
   "cell_type": "code",
   "execution_count": 6,
   "metadata": {},
   "outputs": [],
   "source": [
    "# Définir la fonction de perte personnalisée\n",
    "def custom_loss(y_true, y_pred):\n",
    "    cm = confusion_matrix(y_true, y_pred)\n",
    "    fn_weight = 10.0  # poids pour les faux négatifs\n",
    "    fp_weight = 10.0  # poids pour les faux positifs\n",
    "    return cm[0, 1] * fp_weight + cm[1, 0] * fn_weight"
   ]
  },
  {
   "cell_type": "code",
   "execution_count": 7,
   "metadata": {},
   "outputs": [],
   "source": [
    "# Fonction d'évaluation\n",
    "custom_scorer = make_scorer(custom_loss, greater_is_better=False)"
   ]
  },
  {
   "cell_type": "code",
   "execution_count": 8,
   "metadata": {},
   "outputs": [],
   "source": [
    "# Séparer les données d'entraînement et de test\n",
    "train_test_data = df.dropna(subset=[\"TARGET\"])\n",
    "X = train_test_data.drop(columns=[\"TARGET\"])\n",
    "y = train_test_data[\"TARGET\"]\n",
    "X_train, X_test, y_train, y_test = train_test_split(\n",
    "    X, y, test_size=0.2, random_state=42\n",
    ")"
   ]
  },
  {
   "cell_type": "code",
   "execution_count": 9,
   "metadata": {},
   "outputs": [
    {
     "name": "stderr",
     "output_type": "stream",
     "text": [
      "c:\\Users\\arken\\anaconda3\\lib\\site-packages\\_distutils_hack\\__init__.py:33: UserWarning: Setuptools is replacing distutils.\n",
      "  warnings.warn(\"Setuptools is replacing distutils.\")\n"
     ]
    }
   ],
   "source": [
    "# Initialiser le DummyClassifier\n",
    "dummy_clf = DummyClassifier(\n",
    "    strategy=\"most_frequent\"\n",
    ")  # ou une autre stratégie de votre choix\n",
    "\n",
    "# Former le modèle avec les données d'entraînement\n",
    "dummy_clf.fit(X_train, y_train)\n",
    "\n",
    "# Prédire avec le DummyClassifier\n",
    "y_pred_dummy = dummy_clf.predict(X_test)\n",
    "\n",
    "# Calculer les métriques pour le DummyClassifier\n",
    "roc_auc_dummy = roc_auc_score(y_test, y_pred_dummy)\n",
    "cm_dummy = confusion_matrix(y_test, y_pred_dummy)\n",
    "\n",
    "# Enregistrement de la matrice de confusion pour le DummyClassifier\n",
    "path_cm_dummy = \"Divers/confusion_matrix_fa_dummy.txt\"\n",
    "with open(path_cm_dummy, \"w\") as f:\n",
    "    f.write(str(cm_dummy))\n",
    "\n",
    "# Début de l'exécution MLflow pour le modèle Dummy\n",
    "with mlflow.start_run(run_name=\"Dummy_fa\") as run:\n",
    "    # Enregistrer les métriques pour le DummyClassifier\n",
    "    mlflow.log_metric(\"roc_auc_dummy\", roc_auc_dummy)\n",
    "\n",
    "    # Enregistrer la matrice de confusion en tant qu'artefact\n",
    "    mlflow.log_artifact(path_cm_dummy)\n",
    "\n",
    "    # Enregistrer le modèle DummyClassifier\n",
    "    mlflow.sklearn.log_model(dummy_clf, \"dummy_model\")"
   ]
  },
  {
   "cell_type": "code",
   "execution_count": 10,
   "metadata": {},
   "outputs": [
    {
     "name": "stdout",
     "output_type": "stream",
     "text": [
      "ROC AUC = 0.5\n",
      "[[56502     0]\n",
      " [ 4992     0]]\n"
     ]
    }
   ],
   "source": [
    "print(\"ROC AUC =\", roc_auc_dummy)\n",
    "print(cm_dummy)"
   ]
  },
  {
   "cell_type": "code",
   "execution_count": 11,
   "metadata": {},
   "outputs": [],
   "source": [
    "# Créer un modèle RandomForest\n",
    "model_rf = RandomForestClassifier()\n",
    "\n",
    "# Utilisation d'imPipeline pour inclure SMOTE\n",
    "pipeline_rf = imPipeline([(\"smote\", SMOTE()), (\"rf\", model_rf)])\n",
    "\n",
    "# Paramètres à tester pour le RandomForest\n",
    "param_grid_rf = {\n",
    "    \"rf__n_estimators\": [200],\n",
    "    \"rf__max_depth\": [8],\n",
    "    \"rf__min_samples_split\": [2],\n",
    "    \"rf__min_samples_leaf\": [3],\n",
    "    \"rf__criterion\": [\"gini\"],\n",
    "    \"rf__class_weight\": [None],\n",
    "}\n",
    "\n",
    "# Création du GridSearch pour le RandomForest\n",
    "grid_search_rf = GridSearchCV(\n",
    "    estimator=pipeline_rf,\n",
    "    param_grid=param_grid_rf,\n",
    "    scoring=custom_scorer,\n",
    "    cv=3,\n",
    "    n_jobs=-1,\n",
    ")\n",
    "\n",
    "# Adapter le modèle avec RandomForest\n",
    "grid_search_rf.fit(X_train, y_train)\n",
    "\n",
    "# Prédire sur l'ensemble de test\n",
    "y_pred_rf = grid_search_rf.predict(X_test)"
   ]
  },
  {
   "cell_type": "code",
   "execution_count": 12,
   "metadata": {},
   "outputs": [],
   "source": [
    "# Démarrez une nouvelle exécution MLflow\n",
    "with mlflow.start_run(run_name=\"Random Forest\") as run:\n",
    "    # Calculer les métriques pour RandomForest\n",
    "    roc_auc = roc_auc_score(y_test, y_pred_rf)\n",
    "    accuracy = accuracy_score(y_test, y_pred_rf)\n",
    "    score_matrix = custom_loss(y_test, y_pred_rf)\n",
    "    cm_rf = confusion_matrix(y_test, y_pred_rf)\n",
    "\n",
    "    # Enregistrement des métriques dans MLflow\n",
    "    mlflow.log_metric(\"ROC AUC Score\", roc_auc)\n",
    "    mlflow.log_metric(\"ACCURACY\", accuracy)\n",
    "    mlflow.log_metric(\"SCORE MATRIX\", score_matrix)\n",
    "\n",
    "    with open(\"Divers/confusion_matrix_rf.txt\", \"w\") as f:\n",
    "        f.write(str(cm_rf))\n",
    "    mlflow.log_artifact(\"Divers/confusion_matrix_rf.txt\")\n",
    "\n",
    "    # Enregistrement du modèle formé dans MLflow\n",
    "    mlflow.sklearn.log_model(grid_search_rf.best_estimator_, \"RandomForest_Model\")"
   ]
  },
  {
   "cell_type": "code",
   "execution_count": 13,
   "metadata": {},
   "outputs": [
    {
     "data": {
      "text/plain": [
       "{'rf__class_weight': None,\n",
       " 'rf__criterion': 'gini',\n",
       " 'rf__max_depth': 8,\n",
       " 'rf__min_samples_leaf': 3,\n",
       " 'rf__min_samples_split': 2,\n",
       " 'rf__n_estimators': 200}"
      ]
     },
     "execution_count": 13,
     "metadata": {},
     "output_type": "execute_result"
    }
   ],
   "source": [
    "best_params = grid_search_rf.best_params_\n",
    "best_params"
   ]
  },
  {
   "cell_type": "code",
   "execution_count": 14,
   "metadata": {},
   "outputs": [
    {
     "name": "stdout",
     "output_type": "stream",
     "text": [
      "ROC AUC:  0.6276717059709255\n",
      "ACCURACY:  0.7091098318535142\n",
      "SCORE MATRIX:  178880.0\n",
      "[[40958 15544]\n",
      " [ 2344  2648]]\n"
     ]
    }
   ],
   "source": [
    "print(\"ROC AUC: \", roc_auc)\n",
    "print(\"ACCURACY: \", accuracy)\n",
    "print(\"SCORE MATRIX: \", score_matrix)\n",
    "print(cm_rf)"
   ]
  },
  {
   "cell_type": "code",
   "execution_count": 15,
   "metadata": {},
   "outputs": [
    {
     "data": {
      "image/png": "[encoded data removed]",
      "text/plain": [
       "<Figure size 600x300 with 1 Axes>"
      ]
     },
     "metadata": {},
     "output_type": "display_data"
    }
   ],
   "source": [
    "def draw_gauge(auc_score):\n",
    "    # Normaliser le score entre 0 et 1\n",
    "    normalized_score = auc_score / 100\n",
    "\n",
    "    # Créer un axe polar\n",
    "    fig, ax = plt.subplots(figsize=(6, 3), subplot_kw={\"polar\": True})\n",
    "\n",
    "    # Dessiner l'arc de la jauge (demi-cercle supérieur)\n",
    "    arc = np.linspace(0, np.pi, 100)\n",
    "    r = np.full(100, 0.6)\n",
    "    ax.plot(arc, r, color=\"blue\", linewidth=15)\n",
    "\n",
    "    # Dessiner l'aiguille de la jauge\n",
    "    theta = np.pi - normalized_score * 0.5 * np.pi\n",
    "    ax.plot([theta, theta], [0, 0.6], color=\"red\", linewidth=2)\n",
    "\n",
    "    # Marquer le score sur l'aiguille\n",
    "    ax.text(theta, 0.7, f\"{auc_score:.2f}%\", color=\"red\", ha=\"center\", va=\"center\")\n",
    "\n",
    "    # Configurer les angles et étiquettes en pourcentage\n",
    "    ax.set_theta_zero_location(\"W\")\n",
    "    ax.set_theta_direction(-1)\n",
    "    ax.set_xticks(np.radians([0, 45, 90, 135, 180]))\n",
    "    ax.set_xticklabels([\"0%\", \"25%\", \"50%\", \"75%\", \"100%\"])\n",
    "\n",
    "    # Supprimer les rayons et les étiquettes radiales\n",
    "    ax.set_yticks([])\n",
    "    ax.set_yticklabels([])\n",
    "\n",
    "    # Supprimer les lignes radiales\n",
    "    ax.grid(False)\n",
    "\n",
    "    # Réduire la vue au demi-cercle\n",
    "    ax.set_ylim([0, 0.6])\n",
    "    ax.set_xlim([0, np.pi])\n",
    "    ax.set_title(\"PERFORMANCE DU MODELE RANDOM FOREST\", va=\"bottom\")\n",
    "\n",
    "    plt.show()\n",
    "\n",
    "    fig.savefig(\"Divers/jauge_Random_Forest.png\")\n",
    "\n",
    "\n",
    "auc_score = roc_auc * 100\n",
    "draw_gauge(auc_score)"
   ]
  }
 ],
 "metadata": {
  "kernelspec": {
   "display_name": "base",
   "language": "python",
   "name": "python3"
  },
  "language_info": {
   "codemirror_mode": {
    "name": "ipython",
    "version": 3
   },
   "file_extension": ".py",
   "mimetype": "text/x-python",
   "name": "python",
   "nbconvert_exporter": "python",
   "pygments_lexer": "ipython3",
   "version": "3.10.9"
  },
  "orig_nbformat": 4
 },
 "nbformat": 4,
 "nbformat_minor": 2
}
